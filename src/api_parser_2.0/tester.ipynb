{
 "cells": [
  {
   "cell_type": "code",
   "execution_count": 5,
   "metadata": {},
   "outputs": [],
   "source": [
    "import pandas as pd\n",
    "from fake_useragent import UserAgent\n",
    "import requests\n",
    "from bs4 import BeautifulSoup\n",
    "from xbrl import XBRLParser\n",
    "import io\n",
    "from lxml import etree"
   ]
  },
  {
   "cell_type": "code",
   "execution_count": 3,
   "metadata": {},
   "outputs": [],
   "source": [
    "def get_random_headers():\n",
    "    ua = UserAgent()\n",
    "    headers = {'User-Agent': ua.random}\n",
    "    return headers"
   ]
  },
  {
   "cell_type": "code",
   "execution_count": 4,
   "metadata": {},
   "outputs": [],
   "source": [
    "link = (\n",
    "    #\"https://en.wikipedia.org/wiki/List_of_S%26P_500_companies#S&P_500_component_stocks\"\n",
    "    \"https://en.wikipedia.org/wiki/List_of_S%26P_500_companies\"\n",
    ")\n",
    "df = pd.read_html(link, header=0)[0]"
   ]
  },
  {
   "cell_type": "code",
   "execution_count": 21,
   "metadata": {},
   "outputs": [
    {
     "data": {
      "text/html": [
       "<div>\n",
       "<style scoped>\n",
       "    .dataframe tbody tr th:only-of-type {\n",
       "        vertical-align: middle;\n",
       "    }\n",
       "\n",
       "    .dataframe tbody tr th {\n",
       "        vertical-align: top;\n",
       "    }\n",
       "\n",
       "    .dataframe thead th {\n",
       "        text-align: right;\n",
       "    }\n",
       "</style>\n",
       "<table border=\"1\" class=\"dataframe\">\n",
       "  <thead>\n",
       "    <tr style=\"text-align: right;\">\n",
       "      <th></th>\n",
       "      <th>Symbol</th>\n",
       "      <th>Security</th>\n",
       "      <th>GICS Sector</th>\n",
       "      <th>GICS Sub-Industry</th>\n",
       "      <th>Headquarters Location</th>\n",
       "      <th>Date added</th>\n",
       "      <th>CIK</th>\n",
       "      <th>Founded</th>\n",
       "    </tr>\n",
       "  </thead>\n",
       "  <tbody>\n",
       "    <tr>\n",
       "      <th>0</th>\n",
       "      <td>MMM</td>\n",
       "      <td>3M</td>\n",
       "      <td>Industrials</td>\n",
       "      <td>Industrial Conglomerates</td>\n",
       "      <td>Saint Paul, Minnesota</td>\n",
       "      <td>1957-03-04</td>\n",
       "      <td>66740</td>\n",
       "      <td>1902</td>\n",
       "    </tr>\n",
       "    <tr>\n",
       "      <th>1</th>\n",
       "      <td>AOS</td>\n",
       "      <td>A. O. Smith</td>\n",
       "      <td>Industrials</td>\n",
       "      <td>Building Products</td>\n",
       "      <td>Milwaukee, Wisconsin</td>\n",
       "      <td>2017-07-26</td>\n",
       "      <td>91142</td>\n",
       "      <td>1916</td>\n",
       "    </tr>\n",
       "    <tr>\n",
       "      <th>2</th>\n",
       "      <td>ABT</td>\n",
       "      <td>Abbott</td>\n",
       "      <td>Health Care</td>\n",
       "      <td>Health Care Equipment</td>\n",
       "      <td>North Chicago, Illinois</td>\n",
       "      <td>1957-03-04</td>\n",
       "      <td>1800</td>\n",
       "      <td>1888</td>\n",
       "    </tr>\n",
       "    <tr>\n",
       "      <th>3</th>\n",
       "      <td>ABBV</td>\n",
       "      <td>AbbVie</td>\n",
       "      <td>Health Care</td>\n",
       "      <td>Biotechnology</td>\n",
       "      <td>North Chicago, Illinois</td>\n",
       "      <td>2012-12-31</td>\n",
       "      <td>1551152</td>\n",
       "      <td>2013 (1888)</td>\n",
       "    </tr>\n",
       "    <tr>\n",
       "      <th>4</th>\n",
       "      <td>ACN</td>\n",
       "      <td>Accenture</td>\n",
       "      <td>Information Technology</td>\n",
       "      <td>IT Consulting &amp; Other Services</td>\n",
       "      <td>Dublin, Ireland</td>\n",
       "      <td>2011-07-06</td>\n",
       "      <td>1467373</td>\n",
       "      <td>1989</td>\n",
       "    </tr>\n",
       "    <tr>\n",
       "      <th>...</th>\n",
       "      <td>...</td>\n",
       "      <td>...</td>\n",
       "      <td>...</td>\n",
       "      <td>...</td>\n",
       "      <td>...</td>\n",
       "      <td>...</td>\n",
       "      <td>...</td>\n",
       "      <td>...</td>\n",
       "    </tr>\n",
       "    <tr>\n",
       "      <th>497</th>\n",
       "      <td>XYL</td>\n",
       "      <td>Xylem Inc.</td>\n",
       "      <td>Industrials</td>\n",
       "      <td>Industrial Machinery &amp; Supplies &amp; Components</td>\n",
       "      <td>White Plains, New York</td>\n",
       "      <td>2011-11-01</td>\n",
       "      <td>1524472</td>\n",
       "      <td>2011</td>\n",
       "    </tr>\n",
       "    <tr>\n",
       "      <th>498</th>\n",
       "      <td>YUM</td>\n",
       "      <td>Yum! Brands</td>\n",
       "      <td>Consumer Discretionary</td>\n",
       "      <td>Restaurants</td>\n",
       "      <td>Louisville, Kentucky</td>\n",
       "      <td>1997-10-06</td>\n",
       "      <td>1041061</td>\n",
       "      <td>1997</td>\n",
       "    </tr>\n",
       "    <tr>\n",
       "      <th>499</th>\n",
       "      <td>ZBRA</td>\n",
       "      <td>Zebra Technologies</td>\n",
       "      <td>Information Technology</td>\n",
       "      <td>Electronic Equipment &amp; Instruments</td>\n",
       "      <td>Lincolnshire, Illinois</td>\n",
       "      <td>2019-12-23</td>\n",
       "      <td>877212</td>\n",
       "      <td>1969</td>\n",
       "    </tr>\n",
       "    <tr>\n",
       "      <th>500</th>\n",
       "      <td>ZBH</td>\n",
       "      <td>Zimmer Biomet</td>\n",
       "      <td>Health Care</td>\n",
       "      <td>Health Care Equipment</td>\n",
       "      <td>Warsaw, Indiana</td>\n",
       "      <td>2001-08-07</td>\n",
       "      <td>1136869</td>\n",
       "      <td>1927</td>\n",
       "    </tr>\n",
       "    <tr>\n",
       "      <th>501</th>\n",
       "      <td>ZTS</td>\n",
       "      <td>Zoetis</td>\n",
       "      <td>Health Care</td>\n",
       "      <td>Pharmaceuticals</td>\n",
       "      <td>Parsippany, New Jersey</td>\n",
       "      <td>2013-06-21</td>\n",
       "      <td>1555280</td>\n",
       "      <td>1952</td>\n",
       "    </tr>\n",
       "  </tbody>\n",
       "</table>\n",
       "<p>502 rows × 8 columns</p>\n",
       "</div>"
      ],
      "text/plain": [
       "    Symbol            Security             GICS Sector  \\\n",
       "0      MMM                  3M             Industrials   \n",
       "1      AOS         A. O. Smith             Industrials   \n",
       "2      ABT              Abbott             Health Care   \n",
       "3     ABBV              AbbVie             Health Care   \n",
       "4      ACN           Accenture  Information Technology   \n",
       "..     ...                 ...                     ...   \n",
       "497    XYL          Xylem Inc.             Industrials   \n",
       "498    YUM         Yum! Brands  Consumer Discretionary   \n",
       "499   ZBRA  Zebra Technologies  Information Technology   \n",
       "500    ZBH       Zimmer Biomet             Health Care   \n",
       "501    ZTS              Zoetis             Health Care   \n",
       "\n",
       "                                GICS Sub-Industry    Headquarters Location  \\\n",
       "0                        Industrial Conglomerates    Saint Paul, Minnesota   \n",
       "1                               Building Products     Milwaukee, Wisconsin   \n",
       "2                           Health Care Equipment  North Chicago, Illinois   \n",
       "3                                   Biotechnology  North Chicago, Illinois   \n",
       "4                  IT Consulting & Other Services          Dublin, Ireland   \n",
       "..                                            ...                      ...   \n",
       "497  Industrial Machinery & Supplies & Components   White Plains, New York   \n",
       "498                                   Restaurants     Louisville, Kentucky   \n",
       "499            Electronic Equipment & Instruments   Lincolnshire, Illinois   \n",
       "500                         Health Care Equipment          Warsaw, Indiana   \n",
       "501                               Pharmaceuticals   Parsippany, New Jersey   \n",
       "\n",
       "     Date added      CIK      Founded  \n",
       "0    1957-03-04    66740         1902  \n",
       "1    2017-07-26    91142         1916  \n",
       "2    1957-03-04     1800         1888  \n",
       "3    2012-12-31  1551152  2013 (1888)  \n",
       "4    2011-07-06  1467373         1989  \n",
       "..          ...      ...          ...  \n",
       "497  2011-11-01  1524472         2011  \n",
       "498  1997-10-06  1041061         1997  \n",
       "499  2019-12-23   877212         1969  \n",
       "500  2001-08-07  1136869         1927  \n",
       "501  2013-06-21  1555280         1952  \n",
       "\n",
       "[502 rows x 8 columns]"
      ]
     },
     "execution_count": 21,
     "metadata": {},
     "output_type": "execute_result"
    }
   ],
   "source": [
    "str_df = df.astype(str)\n",
    "str_df"
   ]
  },
  {
   "cell_type": "code",
   "execution_count": null,
   "metadata": {},
   "outputs": [],
   "source": []
  },
  {
   "cell_type": "code",
   "execution_count": 32,
   "metadata": {},
   "outputs": [
    {
     "data": {
      "text/plain": [
       "'\\n2017-01-01\\n2017-12-31\\n\\n\\n\\n0000936468\\n\\nlmt:MissilesAndFireControlMember\\n\\n\\n\\n2017-01-01\\n2017-12-31\\n\\n\\n\\n0000936468\\n\\nlmt:AeronauticsMember\\n\\n\\n\\n2017-01-01\\n2017-12-31\\n\\n\\n\\n0000936468\\n\\nus-gaap:MiddleEastMember\\nlmt:RotaryAndMissionSystemsMember\\n\\n\\n\\n2017-01-01\\n2017-12-31\\n\\n\\n\\n0000936468\\n\\nsrt:EuropeMember\\nlmt:SpaceMember\\n\\n\\n\\n2017-01-01\\n2017-12-31\\n\\n\\n\\n0000936468\\n\\ncountry:US\\n\\n\\n\\n2017-01-01\\n2017-12-31\\n\\n\\n\\n0000936468\\n\\nlmt:SpaceMember\\n\\n\\n\\n2017-01-01\\n2017-12-31\\n\\n\\n\\n0000936468\\n\\nlmt:OtherRegionMember\\nlmt:AeronauticsMember\\n\\n\\n\\n2017-01-01\\n2017-12-31\\n\\n\\n\\n0000936468\\n\\nus-gaap:FixedPriceContractMember\\nlmt:AeronauticsMember\\n\\n\\n\\n2017-01-01\\n2017-12-31\\n\\n\\n\\n0000936468\\n\\ncountry:US\\nlmt:AeronauticsMember\\n\\n\\n\\n2017-01-01\\n2017-12-31\\n\\n\\n\\n0000936468\\n\\nlmt:USGovernmentMember\\nlmt:SpaceMember\\n\\n\\n\\n2017-01-01\\n2017-12-31\\n\\n\\n\\n0000936468\\n\\nus-gaap:ProductMember\\nlmt:RotaryAndMissionSystemsMember\\n\\n\\n\\n2017-01-01\\n2017-12-31\\n\\n\\n\\n0000936468\\n\\nlmt:OtherRegionMember\\nlmt:RotaryAndMissionSystemsMember\\n\\n\\n\\n2017-01-01\\n2017-12-31\\n\\n\\n\\n0000936468\\n\\nsrt:AsiaPacificMember\\nlmt:MissilesAndFireControlMember\\n\\n\\n\\n2017-01-01\\n2017-12-31\\n\\n\\n\\n0000936468\\n\\nlmt:OtherRegionMember\\n\\n\\n\\n2017-01-01\\n2017-12-31\\n\\n\\n\\n0000936468\\n\\nlmt:UnitedStatesCommercialAndOtherMember\\n\\n\\n\\n2017-01-01\\n2017-12-31\\n\\n\\n\\n0000936468\\n\\nlmt:USGovernmentMember\\nlmt:MissilesAndFireControlMember\\n\\n\\n\\n2017-01-01\\n2017-12-31\\n\\n\\n\\n0000936468\\n\\nus-gaap:FixedPriceContractMember\\nlmt:RotaryAndMissionSystemsMember\\n\\n\\n\\n2017-01-01\\n2017-12-31\\n\\n\\n\\n0000936468\\n\\nlmt:RotaryAndMissionSystemsMember\\n\\n\\n\\n2017-01-01\\n2017-12-31\\n\\n\\n\\n0000936468\\n\\ncountry:US\\nlmt:RotaryAndMissionSystemsMember\\n\\n\\n\\n2017-01-01\\n2017-12-31\\n\\n\\n\\n0000936468\\n\\nsrt:AsiaPacificMember\\nlmt:AeronauticsMember\\n\\n\\n\\n2017-01-01\\n2017-12-31\\n\\n\\n\\n0000936468\\n\\nlmt:CostReimbursableContractMember\\nlmt:SpaceMember\\n\\n\\n\\n2017-01-01\\n2017-12-31\\n\\n\\n\\n0000936468\\n\\nus-gaap:ServiceMember\\nlmt:MissilesAndFireControlMember\\n\\n\\n\\n2017-01-01\\n2017-12-31\\n\\n\\n\\n0000936468\\n\\nlmt:UnitedStatesCommercialAndOtherMember\\nlmt:RotaryAndMissionSystemsMember\\n\\n\\n\\n2017-01-01\\n2017-12-31\\n\\n\\n\\n0000936468\\n\\nlmt:InternationalMember\\nlmt:SpaceMember\\n\\n\\n\\n2017-01-01\\n2017-12-31\\n\\n\\n\\n0000936468\\n\\nsrt:EuropeMember\\n\\n\\n\\n2017-01-01\\n2017-12-31\\n\\n\\n\\n0000936468\\n\\nsrt:EuropeMember\\nlmt:MissilesAndFireControlMember\\n\\n\\n\\n2017-01-01\\n2017-12-31\\n\\n\\n\\n0000936468\\n\\nlmt:InternationalMember\\n\\n\\n\\n2017-01-01\\n2017-12-31\\n\\n\\n\\n0000936468\\n\\nlmt:USGovernmentMember\\n\\n\\n\\n2017-01-01\\n2017-12-31\\n\\n\\n\\n0000936468\\n\\nus-gaap:FixedPriceContractMember\\nlmt:SpaceMember\\n\\n\\n\\n2017-01-01\\n2017-12-31\\n\\n\\n\\n0000936468\\n\\nlmt:USGovernmentMember\\nlmt:RotaryAndMissionSystemsMember\\n\\n\\n\\n2017-01-01\\n2017-12-31\\n\\n\\n\\n0000936468\\n\\nlmt:CostReimbursableContractMember\\n\\n\\n\\n2017-01-01\\n2017-12-31\\n\\n\\n\\n0000936468\\n\\nus-gaap:ServiceMember\\nlmt:RotaryAndMissionSystemsMember\\n\\n\\n\\n2017-01-01\\n2017-12-31\\n\\n\\n\\n0000936468\\n\\nlmt:CostReimbursableContractMember\\nlmt:MissilesAndFireControlMember\\n\\n\\n\\n2017-01-01\\n2017-12-31\\n\\n\\n\\n0000936468\\n\\nus-gaap:MiddleEastMember\\nlmt:AeronauticsMember\\n\\n\\n\\n2017-01-01\\n2017-12-31\\n\\n\\n\\n0000936468\\n\\nus-gaap:ProductMember\\nlmt:SpaceMember\\n\\n\\n\\n2017-01-01\\n2017-12-31\\n\\n\\n\\n0000936468\\n\\nlmt:OtherRegionMember\\nlmt:SpaceMember\\n\\n\\n\\n2017-01-01\\n2017-12-31\\n\\n\\n\\n0000936468\\n\\nsrt:EuropeMember\\nlmt:RotaryAndMissionSystemsMember\\n\\n\\n\\n2017-01-01\\n2017-12-31\\n\\n\\n\\n0000936468\\n\\nlmt:USGovernmentMember\\nlmt:AeronauticsMember\\n\\n\\n\\n2017-01-01\\n2017-12-31\\n\\n\\n\\n0000936468\\n\\nus-gaap:FixedPriceContractMember\\nlmt:MissilesAndFireControlMember\\n\\n\\n\\n2017-01-01\\n2017-12-31\\n\\n\\n\\n0000936468\\n\\nus-gaap:ProductMember\\nlmt:MissilesAndFireControlMember\\n\\n\\n\\n2017-01-01\\n2017-12-31\\n\\n\\n\\n0000936468\\n\\nus-gaap:FixedPriceContractMember\\n\\n\\n\\n2017-01-01\\n2017-12-31\\n\\n\\n\\n0000936468\\n\\nlmt:CostReimbursableContractMember\\nlmt:RotaryAndMissionSystemsMember\\n\\n\\n\\n2017-01-01\\n2017-12-31\\n\\n\\n\\n0000936468\\n\\nlmt:InternationalMember\\nlmt:AeronauticsMember\\n\\n\\n\\n2017-01-01\\n2017-12-31\\n\\n\\n\\n0000936468\\n\\nus-gaap:ProductMember\\nlmt:AeronauticsMember\\n\\n\\n\\n2017-01-01\\n2017-12-31\\n\\n\\n\\n0000936468\\n\\nlmt:InternationalMember\\nlmt:RotaryAndMissionSystemsMember\\n\\n\\n\\n2017-01-01\\n2017-12-31\\n\\n\\n\\n0000936468\\n\\nlmt:UnitedStatesCommercialAndOtherMember\\nlmt:SpaceMember\\n\\n\\n\\n2017-01-01\\n2017-12-31\\n\\n\\n\\n0000936468\\n\\nlmt:OtherRegionMember\\nlmt:MissilesAndFireControlMember\\n\\n\\n\\n2017-01-01\\n2017-12-31\\n\\n\\n\\n0000936468\\n\\nsrt:AsiaPacificMember\\nlmt:RotaryAndMissionSystemsMember\\n\\n\\n\\n2017-01-01\\n2017-12-31\\n\\n\\n\\n0000936468\\n\\nus-gaap:ServiceMember\\nlmt:AeronauticsMember\\n\\n\\n\\n2017-01-01\\n2017-12-31\\n\\n\\n\\n0000936468\\n\\nlmt:UnitedStatesCommercialAndOtherMember\\nlmt:MissilesAndFireControlMember\\n\\n\\n\\n2017-01-01\\n2017-12-31\\n\\n\\n\\n0000936468\\n\\nus-gaap:MiddleEastMember\\n\\n\\n\\n2017-01-01\\n2017-12-31\\n\\n\\n\\n0000936468\\n\\nlmt:UnitedStatesCommercialAndOtherMember\\nlmt:AeronauticsMember\\n\\n\\n\\n2017-01-01\\n2017-12-31\\n\\n\\n\\n0000936468\\n\\ncountry:US\\nlmt:MissilesAndFireControlMember\\n\\n\\n\\n2017-01-01\\n2017-12-31\\n\\n\\n\\n0000936468\\n\\nsrt:AsiaPacificMember\\n\\n\\n\\n2017-01-01\\n2017-12-31\\n\\n\\n\\n0000936468\\n\\nus-gaap:MiddleEastMember\\nlmt:MissilesAndFireControlMember\\n\\n\\n\\n2017-01-01\\n2017-12-31\\n\\n\\n\\n0000936468\\n\\nlmt:InternationalMember\\nlmt:MissilesAndFireControlMember\\n\\n\\n\\n2017-01-01\\n2017-12-31\\n\\n\\n\\n0000936468\\n\\ncountry:US\\nlmt:SpaceMember\\n\\n\\n\\n2017-01-01\\n2017-12-31\\n\\n\\n\\n0000936468\\n\\nus-gaap:ServiceMember\\nlmt:SpaceMember\\n\\n\\n\\n2017-01-01\\n2017-12-31\\n\\n\\n\\n0000936468\\n\\nus-gaap:Mid'"
      ]
     },
     "execution_count": 32,
     "metadata": {},
     "output_type": "execute_result"
    }
   ],
   "source": [
    "report_url = \"https://www.sec.gov/Archives/edgar/data/936468/0000936468-20-000016.txt\"\n",
    "response = requests.get(report_url, headers=get_random_headers())\n",
    "\n",
    "soup = BeautifulSoup(response.text, 'html.parser')\n",
    "\n",
    "for table in soup.find_all('table'):\n",
    "    table.decompose()\n",
    "\n",
    "for table in soup.find_all('h'):\n",
    "    table.decompose()\n",
    "\n",
    "for table in soup.find_all('form'):\n",
    "    table.decompose()\n",
    "\n",
    "\n",
    "text = soup.get_text()\n",
    "text[10000:15000]"
   ]
  },
  {
   "cell_type": "code",
   "execution_count": 47,
   "metadata": {},
   "outputs": [
    {
     "name": "stdout",
     "output_type": "stream",
     "text": [
      "803325\n"
     ]
    }
   ],
   "source": [
    "report_url = \"https://www.sec.gov/Archives/edgar/data/1004980/0001004980-20-000009.txt\"\n",
    "response = requests.get(report_url, headers=get_random_headers())\n",
    "\n",
    "if response.status_code == 200:\n",
    "        # Response.text contains the content of the .txt file as a string\n",
    "        content  = response.text\n",
    "\n",
    "        start_idx = content.find('</ix:resources></ix:header>')\n",
    "\n",
    "        if start_idx != -1:\n",
    "            # Adjust the start index to the end of the tag to capture the HTML content correctly\n",
    "            start_idx += len('</ix:resources></ix:header>')\n",
    "        \n",
    "        end_idx = content.find('</html>', start_idx)\n",
    "\n",
    "        html_content = content[start_idx:end_idx + len('</html>')]\n",
    "\n",
    "        soup = BeautifulSoup(html_content, 'html.parser')\n",
    "\n",
    "        for script in soup([\"script\", \"style\", \"head\", \"title\", \"meta\", \"[document]\"]):\n",
    "            script.decompose() \n",
    "\n",
    "        for table in soup.find_all('table'):\n",
    "            table.decompose()\n",
    "        \n",
    "        for a in soup.find_all(\"a\"):\n",
    "            a.decompose()\n",
    "\n",
    "        text = soup.get_text()\n",
    "        print(len(text))\n",
    "        \n",
    "        \n",
    "         \n",
    "        \n",
    "else:\n",
    "    print(f\"Error downloading file: {response.status_code}\")\n",
    "\n"
   ]
  },
  {
   "cell_type": "code",
   "execution_count": 48,
   "metadata": {},
   "outputs": [
    {
     "name": "stdout",
     "output_type": "stream",
     "text": [
      "cing in a timely manner and on acceptable terms in order to exit Chapter 11 and to raise financing for operations and investment after emergence; •the impact of AB 1054 on potential losses in connection with future wildfires, including the CPUC’s implementation of the procedures for recovering such losses;•whether, in light of the CPUC’s July 8, 2019 final decision in the CHT OIR that excludes companies in Chapter 11 from accessing the CHT, the Utility will be able to obtain substantial recovery of costs related to the 2017 Northern California wildfires;•the impact of the 2018 Camp fire and the 2017 Northern California wildfires, including whether the Utility will be able to timely recover costs incurred in connection with the wildfires through rates; the timing and outcome of the remaining wildfire investigations and the extent to which the Utility will have liability associated with these fires; the timing and amount of insurance recoveries; and potential liabilities in connection with fines or penalties that could be imposed on the Utility if the CPUC or any other law enforcement agency were to bring an enforcement action, including a criminal proceeding, and determined that the Utility failed to comply with applicable laws and regulations (which actions could also adversely impact a timely emergence from Chapter 11); •the ability of PG&E Corporation and the Utility to finance costs, expenses and other possible losses with respect to claims related to the 2018 Camp fire and the 2017 Northern California wildfires, through securitization mechanisms or otherwise, which potential financings are not addressed by AB 1054 as it only applies to wildfires occurring after July 12, 2019;•the timing and outcome of any proceeding to recover 2015 Butte fire-related costs in excess of insurance through rates;•the risks and uncertainties associated with the 2019 Kincade fire;  •the timing and outcome of future regulatory and legislative developments in connection with SB 901, including future wildfire reforms, inverse condemnation reform, and other wildfire mitigation measures or other reforms targeted at the Utility or its industry;•the outcome of the Utility’s CWSP that the Utility has developed in coordination with first responders, civic and community leaders, and customers, to help reduce wildfire threats and improve safety as a result of climate-driven wildfires and extreme weather, including the Utility’s ability to comply with the targets and metrics set forth in the 2020-2022 Wildfire Mitigation Plan; and the cost of the program and the timing and outcome of any proceeding to recover such cost through rates;•whether the Utility will be able to obtain full recovery of its significantly increased insurance premiums, and the timing of any such recovery;10•whether the Utility can obtain wildfire insurance at a reasonable cost in the future, or at all, and whether insurance coverage is adequate for future losses or claims; •increased employee attrition as a result of the filing of the Chapter 11 Cases and the challenging political and operating environment facing the company;•the impact of the Utility’s implementation of its PSPS program, including the timing and outcome of the PSPS OII and order to show cause, and whether any fines or penalties or civil liability for damages will be imposed on the Utility as a result; the costs in connection with PSPS events, and the effects on PG&E Corporation’s and the Utility’s reputations caused by implementation of the PSPS program; •the timing and outcomes of the 2020 GRC, FERC TO18, TO19, and TO20 rate cases, 2018 and 2019 CEMA applications, WEMA application, future applications for FHPMA, FRMMA, and WMPMA, future cost of capital proceedings, and other ratemaking and regulatory proceedings; •the outcome of the probation and the monitorship imposed by the federal court after the Utility’s conviction in the federal criminal trial in 2017, the timing and outcomes of the debarment proceeding, potential reliability penalties or sanctions from the North American Electric Reliability Corporation, the SED’s unresolved enforcement matters relating to the Utility’s compliance with natural gas-related laws and regulations, and other investigations that have been or may be commenced relating to the Utility’s compliance with natural gas- and electric- related laws and regulations, and the ultimate amount of fines, penalties, and remedial costs that the Utility may incur in connection with the outcomes including the costs of complying with any additional conditions of probation imposed in connection with the Utility’s federal criminal proceeding, such as expenses associated with any material expansion of the Utility’s vegetation management program following the entry on January 16, 2020 of an order to show cause by the United States District Court for the Northern District of California, as well as the impact of additional conditions of probation on PG&E Corporation’s and the Utility’s ab\n"
     ]
    }
   ],
   "source": [
    "print(text[5000:10000])"
   ]
  },
  {
   "cell_type": "code",
   "execution_count": null,
   "metadata": {},
   "outputs": [],
   "source": [
    "if xbrl_content:\n",
    "    \n",
    "    xbrl_data = str(xbrl_content)  # Keep data as string, not bytes\n",
    "    xbrl_file_like = io.StringIO(xbrl_data)  # Use StringIO for string data\n",
    "    xbrl_file_like.seek(0)\n",
    "    \n",
    "\n",
    "    # Parse the XBRL data using the file-like object\n",
    "    try:\n",
    "        xbrl_parser = XBRLParser()\n",
    "        xbrl = xbrl_parser.parse(xbrl_file_like)\n",
    "        print(xbrl)\n",
    "    except Exception as e:\n",
    "        print(\"Error parsing XBRL:\", e)\n",
    "else:\n",
    "    print(\"XBRL content not found.\")"
   ]
  },
  {
   "cell_type": "code",
   "execution_count": 116,
   "metadata": {},
   "outputs": [
    {
     "ename": "TypeError",
     "evalue": "'NoneType' object is not callable",
     "output_type": "error",
     "traceback": [
      "\u001b[1;31m---------------------------------------------------------------------------\u001b[0m",
      "\u001b[1;31mTypeError\u001b[0m                                 Traceback (most recent call last)",
      "Cell \u001b[1;32mIn[116], line 1\u001b[0m\n\u001b[1;32m----> 1\u001b[0m soup \u001b[38;5;241m=\u001b[39m \u001b[43mBeautifulSoup\u001b[49m\u001b[43m(\u001b[49m\u001b[43mxbrl\u001b[49m\u001b[43m,\u001b[49m\u001b[43m \u001b[49m\u001b[38;5;124;43m'\u001b[39;49m\u001b[38;5;124;43mhtml.parser\u001b[39;49m\u001b[38;5;124;43m'\u001b[39;49m\u001b[43m)\u001b[49m\n\u001b[0;32m      2\u001b[0m soup\n",
      "File \u001b[1;32mc:\\Users\\310\\Desktop\\Progects_Py\\env\\Lib\\site-packages\\bs4\\__init__.py:314\u001b[0m, in \u001b[0;36mBeautifulSoup.__init__\u001b[1;34m(self, markup, features, builder, parse_only, from_encoding, exclude_encodings, element_classes, **kwargs)\u001b[0m\n\u001b[0;32m    311\u001b[0m \u001b[38;5;28mself\u001b[39m\u001b[38;5;241m.\u001b[39mparse_only \u001b[38;5;241m=\u001b[39m parse_only\n\u001b[0;32m    313\u001b[0m \u001b[38;5;28;01mif\u001b[39;00m \u001b[38;5;28mhasattr\u001b[39m(markup, \u001b[38;5;124m'\u001b[39m\u001b[38;5;124mread\u001b[39m\u001b[38;5;124m'\u001b[39m):        \u001b[38;5;66;03m# It's a file-type object.\u001b[39;00m\n\u001b[1;32m--> 314\u001b[0m     markup \u001b[38;5;241m=\u001b[39m \u001b[43mmarkup\u001b[49m\u001b[38;5;241;43m.\u001b[39;49m\u001b[43mread\u001b[49m\u001b[43m(\u001b[49m\u001b[43m)\u001b[49m\n\u001b[0;32m    315\u001b[0m \u001b[38;5;28;01melif\u001b[39;00m \u001b[38;5;28mlen\u001b[39m(markup) \u001b[38;5;241m<\u001b[39m\u001b[38;5;241m=\u001b[39m \u001b[38;5;241m256\u001b[39m \u001b[38;5;129;01mand\u001b[39;00m (\n\u001b[0;32m    316\u001b[0m         (\u001b[38;5;28misinstance\u001b[39m(markup, \u001b[38;5;28mbytes\u001b[39m) \u001b[38;5;129;01mand\u001b[39;00m \u001b[38;5;129;01mnot\u001b[39;00m \u001b[38;5;124mb\u001b[39m\u001b[38;5;124m'\u001b[39m\u001b[38;5;124m<\u001b[39m\u001b[38;5;124m'\u001b[39m \u001b[38;5;129;01min\u001b[39;00m markup)\n\u001b[0;32m    317\u001b[0m         \u001b[38;5;129;01mor\u001b[39;00m (\u001b[38;5;28misinstance\u001b[39m(markup, \u001b[38;5;28mstr\u001b[39m) \u001b[38;5;129;01mand\u001b[39;00m \u001b[38;5;129;01mnot\u001b[39;00m \u001b[38;5;124m'\u001b[39m\u001b[38;5;124m<\u001b[39m\u001b[38;5;124m'\u001b[39m \u001b[38;5;129;01min\u001b[39;00m markup)\n\u001b[1;32m   (...)\u001b[0m\n\u001b[0;32m    321\u001b[0m     \u001b[38;5;66;03m# Beautiful Soup will still parse the input as markup,\u001b[39;00m\n\u001b[0;32m    322\u001b[0m     \u001b[38;5;66;03m# since that is sometimes the intended behavior.\u001b[39;00m\n\u001b[0;32m    323\u001b[0m     \u001b[38;5;28;01mif\u001b[39;00m \u001b[38;5;129;01mnot\u001b[39;00m \u001b[38;5;28mself\u001b[39m\u001b[38;5;241m.\u001b[39m_markup_is_url(markup):\n",
      "\u001b[1;31mTypeError\u001b[0m: 'NoneType' object is not callable"
     ]
    }
   ],
   "source": []
  },
  {
   "cell_type": "code",
   "execution_count": 78,
   "metadata": {},
   "outputs": [],
   "source": [
    "def get_cik():\n",
    "    link = (\n",
    "        #\"https://en.wikipedia.org/wiki/List_of_S%26P_500_companies#S&P_500_component_stocks\"\n",
    "        \"https://en.wikipedia.org/wiki/List_of_S%26P_500_companies\"\n",
    "    )\n",
    "    df = pd.read_html(link, header=0)[0]\n",
    "    snp_str_df = df.astype(str)\n",
    "    #print(type(str_ciks[0]))\n",
    "    #cik_set = set(str_df[\"CIK\"])\n",
    "    #print(snp_str_df)\n",
    "    snp_str_df['Count'] = snp_str_df.groupby('CIK').cumcount()\n",
    "\n",
    "    snp_str_df = snp_str_df[snp_str_df['Count'] == 0]\n",
    "\n",
    "    snp_str_df = snp_str_df.drop(columns=['Count'])\n",
    "\n",
    "    return snp_str_df"
   ]
  },
  {
   "cell_type": "code",
   "execution_count": 79,
   "metadata": {},
   "outputs": [],
   "source": [
    "df = get_cik()"
   ]
  },
  {
   "cell_type": "code",
   "execution_count": 80,
   "metadata": {},
   "outputs": [
    {
     "name": "stdout",
     "output_type": "stream",
     "text": [
      "499\n",
      "True\n",
      "337    NWSA\n",
      "Name: Symbol, dtype: object\n"
     ]
    }
   ],
   "source": [
    "set_df = set(df['CIK'])\n",
    "print(len(df))\n",
    "\n",
    "\n",
    "if '1564708' in set_df:\n",
    "    print(True)\n",
    "\n",
    "ticker = df.loc[df[\"CIK\"] == '1564708', \"Symbol\"]\n",
    "\n",
    "print(ticker)"
   ]
  },
  {
   "cell_type": "code",
   "execution_count": 32,
   "metadata": {},
   "outputs": [
    {
     "data": {
      "text/html": [
       "<div>\n",
       "<style scoped>\n",
       "    .dataframe tbody tr th:only-of-type {\n",
       "        vertical-align: middle;\n",
       "    }\n",
       "\n",
       "    .dataframe tbody tr th {\n",
       "        vertical-align: top;\n",
       "    }\n",
       "\n",
       "    .dataframe thead th {\n",
       "        text-align: right;\n",
       "    }\n",
       "</style>\n",
       "<table border=\"1\" class=\"dataframe\">\n",
       "  <thead>\n",
       "    <tr style=\"text-align: right;\">\n",
       "      <th></th>\n",
       "      <th>Symbol</th>\n",
       "      <th>Security</th>\n",
       "      <th>GICS Sector</th>\n",
       "      <th>GICS Sub-Industry</th>\n",
       "      <th>Headquarters Location</th>\n",
       "      <th>Date added</th>\n",
       "      <th>CIK</th>\n",
       "      <th>Founded</th>\n",
       "    </tr>\n",
       "  </thead>\n",
       "  <tbody>\n",
       "    <tr>\n",
       "      <th>336</th>\n",
       "      <td>NEM</td>\n",
       "      <td>Newmont</td>\n",
       "      <td>Materials</td>\n",
       "      <td>Gold</td>\n",
       "      <td>Denver, Colorado</td>\n",
       "      <td>1969-06-30</td>\n",
       "      <td>1164727</td>\n",
       "      <td>1921</td>\n",
       "    </tr>\n",
       "    <tr>\n",
       "      <th>337</th>\n",
       "      <td>NWSA</td>\n",
       "      <td>News Corp (Class A)</td>\n",
       "      <td>Communication Services</td>\n",
       "      <td>Publishing</td>\n",
       "      <td>New York City, New York</td>\n",
       "      <td>2013-08-01</td>\n",
       "      <td>1564708</td>\n",
       "      <td>2013 (News Corporation 1980)</td>\n",
       "    </tr>\n",
       "    <tr>\n",
       "      <th>338</th>\n",
       "      <td>NWS</td>\n",
       "      <td>News Corp (Class B)</td>\n",
       "      <td>Communication Services</td>\n",
       "      <td>Publishing</td>\n",
       "      <td>New York City, New York</td>\n",
       "      <td>2015-09-18</td>\n",
       "      <td>1564708</td>\n",
       "      <td>2013 (News Corporation 1980)</td>\n",
       "    </tr>\n",
       "    <tr>\n",
       "      <th>339</th>\n",
       "      <td>NEE</td>\n",
       "      <td>NextEra Energy</td>\n",
       "      <td>Utilities</td>\n",
       "      <td>Multi-Utilities</td>\n",
       "      <td>Juno Beach, Florida</td>\n",
       "      <td>1976-06-30</td>\n",
       "      <td>753308</td>\n",
       "      <td>1984 (1925)</td>\n",
       "    </tr>\n",
       "  </tbody>\n",
       "</table>\n",
       "</div>"
      ],
      "text/plain": [
       "    Symbol             Security             GICS Sector GICS Sub-Industry  \\\n",
       "336    NEM              Newmont               Materials              Gold   \n",
       "337   NWSA  News Corp (Class A)  Communication Services        Publishing   \n",
       "338    NWS  News Corp (Class B)  Communication Services        Publishing   \n",
       "339    NEE       NextEra Energy               Utilities   Multi-Utilities   \n",
       "\n",
       "       Headquarters Location  Date added      CIK  \\\n",
       "336         Denver, Colorado  1969-06-30  1164727   \n",
       "337  New York City, New York  2013-08-01  1564708   \n",
       "338  New York City, New York  2015-09-18  1564708   \n",
       "339      Juno Beach, Florida  1976-06-30   753308   \n",
       "\n",
       "                          Founded  \n",
       "336                          1921  \n",
       "337  2013 (News Corporation 1980)  \n",
       "338  2013 (News Corporation 1980)  \n",
       "339                   1984 (1925)  "
      ]
     },
     "execution_count": 32,
     "metadata": {},
     "output_type": "execute_result"
    }
   ],
   "source": [
    "df[336: 340]"
   ]
  },
  {
   "cell_type": "code",
   "execution_count": 73,
   "metadata": {},
   "outputs": [],
   "source": [
    "def non_unique_cik(snp_str_df):\n",
    "    res = snp_str_df[\"CIK\"].value_counts()\n",
    "    non_unique_ciks = res[res > 1]\n",
    "\n",
    "    return non_unique_ciks.index\n"
   ]
  },
  {
   "cell_type": "code",
   "execution_count": 75,
   "metadata": {},
   "outputs": [
    {
     "data": {
      "text/plain": [
       "{'1564708', '1652044', '1754301'}"
      ]
     },
     "execution_count": 75,
     "metadata": {},
     "output_type": "execute_result"
    }
   ],
   "source": [
    "set(non_unique_cik(df))\n"
   ]
  }
 ],
 "metadata": {
  "kernelspec": {
   "display_name": "env",
   "language": "python",
   "name": "python3"
  },
  "language_info": {
   "codemirror_mode": {
    "name": "ipython",
    "version": 3
   },
   "file_extension": ".py",
   "mimetype": "text/x-python",
   "name": "python",
   "nbconvert_exporter": "python",
   "pygments_lexer": "ipython3",
   "version": "3.11.5"
  }
 },
 "nbformat": 4,
 "nbformat_minor": 2
}
