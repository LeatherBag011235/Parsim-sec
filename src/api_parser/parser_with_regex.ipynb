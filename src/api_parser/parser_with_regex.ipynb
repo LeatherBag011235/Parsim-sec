{
 "cells": [
  {
   "cell_type": "code",
   "execution_count": 119,
   "metadata": {},
   "outputs": [],
   "source": [
    "from bs4 import BeautifulSoup\n",
    "import unidecode\n",
    "import re\n",
    "from sec_downloader import Downloader\n",
    "\n",
    "import requests\n",
    "from fake_useragent import UserAgent\n",
    "import unicodedata\n",
    "import html"
   ]
  },
  {
   "cell_type": "code",
   "execution_count": 33,
   "metadata": {},
   "outputs": [],
   "source": [
    "def get_random_headers():\n",
    "    ua = UserAgent()\n",
    "    headers = {'User-Agent': ua.random}\n",
    "    return headers"
   ]
  },
  {
   "cell_type": "code",
   "execution_count": 27,
   "metadata": {},
   "outputs": [
    {
     "name": "stderr",
     "output_type": "stream",
     "text": [
      "C:\\Users\\310\\AppData\\Local\\Temp\\ipykernel_4428\\812151145.py:1: XMLParsedAsHTMLWarning: It looks like you're parsing an XML document using an HTML parser. If this really is an HTML document (maybe it's XHTML?), you can ignore or filter this warning. If it's XML, you should know that using an XML parser will be more reliable. To parse this document as XML, make sure you have the lxml package installed, and pass the keyword argument `features=\"xml\"` into the BeautifulSoup constructor.\n",
      "  soup = BeautifulSoup(get_html(\"AAPL\", \"10-K\"))\n"
     ]
    }
   ],
   "source": [
    "#soup = BeautifulSoup(get_html(\"AAPL\", \"10-K\"))"
   ]
  },
  {
   "cell_type": "code",
   "execution_count": 267,
   "metadata": {},
   "outputs": [],
   "source": [
    "url = \"https://www.sec.gov/Archives/edgar/data/729986/000119312524053462/d815282d10k.htm\"\n",
    "\n",
    "response = requests.get(url, headers=get_random_headers())\n",
    "response.raise_for_status()  # Check that the request was successful\n",
    "\n",
    "# Parse the HTML with BeautifulSoup\n",
    "soup = BeautifulSoup(response.text, 'html.parser')\n",
    "\n",
    "## Find all the table tags and decompose them to remove from the soup\n",
    "#for table in soup.find_all('table'):\n",
    "#    table.decompose()\n",
    "#\n",
    "## Now the soup object doesn't contain the tables, you can extract text\n",
    "#text = soup.get_text(separator=' ', strip=True)"
   ]
  },
  {
   "cell_type": "code",
   "execution_count": 268,
   "metadata": {},
   "outputs": [
    {
     "name": "stdout",
     "output_type": "stream",
     "text": [
      "<title>Form 10-K</title>\n"
     ]
    }
   ],
   "source": [
    "print(soup.title)"
   ]
  },
  {
   "cell_type": "code",
   "execution_count": 269,
   "metadata": {},
   "outputs": [
    {
     "name": "stdout",
     "output_type": "stream",
     "text": [
      "620733 Form 10-K falseFY--12-31UNITED BANKSHARES INC/WV0000729986 0000729986 2023-12-31 0000729986 2022-12-31 0000729986 2021-01-01 2021-12-31 0000729986 2022-01-01 2022-12-31 0000729986 2023-01-01 2023-12-31 0000729986 2020-05-12 0000729986 2021-12-31 0000729986 2024-01-31 0000729986 2023-06-30 0000729986 2022-10-01 2022-12-31 0000729986 2022-07-01 2022-09-30 0000729986 2022-04-01 2022-06-30 0000729986 2022-01-01 2022-03-31 0000729986 2023-04-01 2023-06-30 0000729986 2023-07-01 2023-09-30 0000729986 2023-10-01 2023-12-31 0000729986 2023-01-01 2023-03-31 0000729986 2020-12-31 0000729986 ubsi:NonownerOccupiedCommercialRealEstateMember 2022-12-31 0000729986 ubsi:OwnerOccupiedCommercialRealEstateMember 2022-12-31 0000729986 ubsi:OtherCommercialLoansAndLeasesMember 2022-12-31 0000729986 us-gaap:CoreDepositsMember us-gaap:MortgageBankingMember 2022-12-31 0000729986 us-gaap:CoreDepositsMember 2022-12-31 0000729986 ubsi:CrescentTradeNameMember us-gaap:MortgageBankingMember 2022-12-31 0000729986 ubsi\n"
     ]
    }
   ],
   "source": [
    "text = soup.get_text()\n",
    "text = unidecode.unidecode(text)\n",
    "text = re.sub(r'\\s+', ' ', text).strip()\n",
    "\n",
    "print(len(text), text[:1000])\n"
   ]
  },
  {
   "cell_type": "code",
   "execution_count": 270,
   "metadata": {},
   "outputs": [],
   "source": [
    "pattern_mnda = r\"(?i)item\\s+\\d+[A-Za-z]?\\.?\\.\\s+management[’'`]s\\s+Discussion\\s+and\\s+Analysis\\s+of\\s+Financial\\s+Condition\\s+and\\s+Results\\s+of\\s+Operations\"\n",
    "\n",
    "pattern_qnq = r\"(?i)item\\s+\\d+[A-Za-z]?\\.?\\s+quantitative\\s+and\\s+qualitative\\s+disclosures\\s+about\\s+market\\s+risk\""
   ]
  },
  {
   "cell_type": "code",
   "execution_count": 271,
   "metadata": {},
   "outputs": [
    {
     "name": "stdout",
     "output_type": "stream",
     "text": [
      "[\"Item 7. MANAGEMENT'S DISCUSSION AND ANALYSIS OF FINANCIAL CONDITION AND RESULTS OF OPERATIONS\", \"Item 7. MANAGEMENT'S DISCUSSION AND ANALYSIS OF FINANCIAL CONDITION AND RESULTS OF OPERATIONS\"] \n",
      " ['Item 7A. QUANTITATIVE AND QUALITATIVE DISCLOSURES ABOUT MARKET RISK', 'Item 7A. QUANTITATIVE AND QUALITATIVE DISCLOSURES ABOUT MARKET RISK']\n"
     ]
    }
   ],
   "source": [
    "matches_mnda = re.findall(pattern_mnda, text)\n",
    "matches_qnq = re.findall(pattern_qnq, text)\n",
    "print(matches_mnda, '\\n', matches_qnq)"
   ]
  },
  {
   "cell_type": "code",
   "execution_count": 283,
   "metadata": {},
   "outputs": [
    {
     "name": "stdout",
     "output_type": "stream",
     "text": [
      "mnda: 99293\n",
      "mnda: 246642\n",
      "qnq: 99297\n",
      "qnq: 346280\n"
     ]
    }
   ],
   "source": [
    "matches_mnda = re.finditer(pattern_mnda, text)\n",
    "matches_qnq = re.finditer(pattern_qnq, text)\n",
    "\n",
    "for i, mnda in enumerate(matches_mnda):\n",
    "    print(f'mnda: {mnda.end()}')\n",
    "for x, qnq in enumerate(matches_qnq):\n",
    "    print(f'qnq: {qnq.start()}')\n",
    "    \n",
    "    \n",
    "    #print(f'mnda №{i+1}:{mnda.span()} qnq №{x+1}: {qnq.span()}')"
   ]
  },
  {
   "cell_type": "code",
   "execution_count": 288,
   "metadata": {},
   "outputs": [
    {
     "name": "stdout",
     "output_type": "stream",
     "text": [
      "The longest substring found is: '99638'\n"
     ]
    }
   ],
   "source": [
    "import re\n",
    "\n",
    "def find_longest_substring(text, pattern_mnda, pattern_qnq):\n",
    "    matches_mnda = list(re.finditer(pattern_mnda, text))\n",
    "    matches_qnq = list(re.finditer(pattern_qnq, text))\n",
    "    \n",
    "    longest_substring = \"\"\n",
    "    \n",
    "    for mnda_match in matches_mnda:\n",
    "        mnda_end = mnda_match.end()\n",
    "        # Find the first matches_qnq after this mnda_match\n",
    "        for qnq_match in matches_qnq:\n",
    "            if qnq_match.start() > mnda_end:\n",
    "                substring = text[mnda_end:qnq_match.start()]\n",
    "                if len(substring) > len(longest_substring):\n",
    "                    longest_substring = substring\n",
    "                break  # We only want the first qnq match after each mnda match\n",
    "    \n",
    "    return longest_substring\n",
    "\n",
    "# Example usage\n",
    "longest = find_longest_substring(text, pattern_mnda, pattern_qnq)\n",
    "print(f\"The longest substring found is: '{len(longest)}'\")\n"
   ]
  },
  {
   "cell_type": "markdown",
   "metadata": {},
   "source": []
  }
 ],
 "metadata": {
  "kernelspec": {
   "display_name": "env",
   "language": "python",
   "name": "python3"
  },
  "language_info": {
   "codemirror_mode": {
    "name": "ipython",
    "version": 3
   },
   "file_extension": ".py",
   "mimetype": "text/x-python",
   "name": "python",
   "nbconvert_exporter": "python",
   "pygments_lexer": "ipython3",
   "version": "3.11.5"
  }
 },
 "nbformat": 4,
 "nbformat_minor": 2
}
