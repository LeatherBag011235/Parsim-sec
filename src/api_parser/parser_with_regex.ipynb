{
 "cells": [
  {
   "cell_type": "code",
   "execution_count": 1,
   "metadata": {},
   "outputs": [],
   "source": [
    "from bs4 import BeautifulSoup\n",
    "import unidecode\n",
    "import re\n",
    "from sec_downloader import Downloader\n",
    "\n",
    "import requests\n",
    "from fake_useragent import UserAgent\n",
    "import unicodedata\n",
    "import html"
   ]
  },
  {
   "cell_type": "code",
   "execution_count": 2,
   "metadata": {},
   "outputs": [],
   "source": [
    "def get_random_headers():\n",
    "    ua = UserAgent()\n",
    "    headers = {'User-Agent': ua.random}\n",
    "    return headers"
   ]
  },
  {
   "cell_type": "code",
   "execution_count": 27,
   "metadata": {},
   "outputs": [
    {
     "name": "stderr",
     "output_type": "stream",
     "text": [
      "C:\\Users\\310\\AppData\\Local\\Temp\\ipykernel_4428\\812151145.py:1: XMLParsedAsHTMLWarning: It looks like you're parsing an XML document using an HTML parser. If this really is an HTML document (maybe it's XHTML?), you can ignore or filter this warning. If it's XML, you should know that using an XML parser will be more reliable. To parse this document as XML, make sure you have the lxml package installed, and pass the keyword argument `features=\"xml\"` into the BeautifulSoup constructor.\n",
      "  soup = BeautifulSoup(get_html(\"AAPL\", \"10-K\"))\n"
     ]
    }
   ],
   "source": [
    "#soup = BeautifulSoup(get_html(\"AAPL\", \"10-K\"))"
   ]
  },
  {
   "cell_type": "code",
   "execution_count": 97,
   "metadata": {},
   "outputs": [],
   "source": [
    "url = \"https://www.sec.gov/Archives/edgar/data/200406/000020040623000102/jnj-20231001.htm\"\n",
    "\n",
    "response = requests.get(url, headers=get_random_headers())\n",
    "response.raise_for_status()  # Check that the request was successful\n",
    "\n",
    "# Parse the HTML with BeautifulSoup\n",
    "soup = BeautifulSoup(response.text, 'html.parser')\n",
    "\n",
    "## Find all the table tags and decompose them to remove from the soup\n",
    "#for table in soup.find_all('table'):\n",
    "#    table.decompose()\n",
    "#\n",
    "## Now the soup object doesn't contain the tables, you can extract text\n",
    "#text = soup.get_text(separator=' ', strip=True)"
   ]
  },
  {
   "cell_type": "code",
   "execution_count": 39,
   "metadata": {},
   "outputs": [
    {
     "name": "stdout",
     "output_type": "stream",
     "text": [
      "<title>jnj-20231001</title>\n"
     ]
    }
   ],
   "source": [
    "print(soup.title)"
   ]
  },
  {
   "cell_type": "code",
   "execution_count": 120,
   "metadata": {},
   "outputs": [
    {
     "name": "stdout",
     "output_type": "stream",
     "text": [
      "294226 jnj-20231001000020040612/312023Q3FALSEhttp://fasb.org/us-gaap/2023#AccountingStandardsUpdate202204Member45600002004062023-01-022023-10-010000200406us-gaap:CommonStockMember2023-01-022023-10-010000200406jnj:A0.650NotesDue2024Member2023-01-022023-10-010000200406jnj:A5.50NotesDue2024Member2023-01-022023-10-010000200406jnj:A1.150NotesDue2028Member2023-01-022023-10-010000200406jnj:A1.650NotesDue2035Member2023-01-022023-10-0100002004062023-10-23xbrli:shares00002004062023-10-01iso4217:USD00002004062023-01-01iso4217:USDxbrli:shares00002004062023-07-032023-10-01xbrli:pure00002004062022-07-042022-10-0200002004062022-01-032022-10-0200002004062023-07-020000200406us-gaap:RetainedEarningsMember2023-07-020000200406us-gaap:AccumulatedOtherComprehensiveIncomeMember2023-07-020000200406us-gaap:CommonStockMember2023-07-020000200406us-gaap:TreasuryStockCommonMember2023-07-020000200406us-gaap:NoncontrollingInterestMember2023-07-020000200406us-gaap:RetainedEarningsMember2023-07-032023-10-010000200406us-gaap:\n"
     ]
    }
   ],
   "source": [
    "text = soup.get_text()\n",
    "text = unidecode.unidecode(text)\n",
    "text = re.sub(r'\\s+', ' ', text).strip()\n",
    "\n",
    "print(len(text), text[:1000])\n"
   ]
  },
  {
   "cell_type": "code",
   "execution_count": 122,
   "metadata": {},
   "outputs": [],
   "source": [
    "\n",
    "pattern_mnda = r\"(?i)item\\s+\\d+[A-Za-z]?\\.?\\s*(?:--|[-—])?\\s*management[’'`]s\\s+discussion\\s+and\\s+analysis\\s+of\\s+financial\\s+condition\\s+and\\s+results\\s+of\\s+operations\"\n",
    "\n",
    "\n",
    "pattern_qnq = r\"(?i)item\\s+\\d+[A-Za-z]?\\.?\\s*(?:--|[-—])?\\s*quantitative\\s+and\\s+qualitative\\s+disclosures\\s+about\\s+market\\s+risk\""
   ]
  },
  {
   "cell_type": "code",
   "execution_count": 123,
   "metadata": {},
   "outputs": [
    {
     "name": "stdout",
     "output_type": "stream",
     "text": [
      "[\"Item 2. Management's Discussion and Analysis of Financial Condition and Results of Operations\", \"Item 2 -- MANAGEMENT'S DISCUSSION AND ANALYSIS OF FINANCIAL CONDITION AND RESULTS OF OPERATIONS\"] \n",
      " ['Item 3. Quantitative and Qualitative Disclosures About Market Risk', 'Item 3 -- QUANTITATIVE AND QUALITATIVE DISCLOSURES ABOUT MARKET RISK']\n"
     ]
    }
   ],
   "source": [
    "matches_mnda = re.findall(pattern_mnda, text)\n",
    "matches_qnq = re.findall(pattern_qnq, text)\n",
    "print(matches_mnda, '\\n', matches_qnq)"
   ]
  },
  {
   "cell_type": "code",
   "execution_count": null,
   "metadata": {},
   "outputs": [],
   "source": []
  },
  {
   "cell_type": "code",
   "execution_count": 124,
   "metadata": {},
   "outputs": [
    {
     "name": "stdout",
     "output_type": "stream",
     "text": [
      "mnda: 96071\n",
      "mnda: 240565\n",
      "qnq: 96074\n",
      "qnq: 287685\n"
     ]
    }
   ],
   "source": [
    "matches_mnda = re.finditer(pattern_mnda, text)\n",
    "matches_qnq = re.finditer(pattern_qnq, text)\n",
    "\n",
    "for i, mnda in enumerate(matches_mnda):\n",
    "    print(f'mnda: {mnda.end()}')\n",
    "for x, qnq in enumerate(matches_qnq):\n",
    "    print(f'qnq: {qnq.start()}')\n",
    "    \n",
    "    \n",
    "    #print(f'mnda №{i+1}:{mnda.span()} qnq №{x+1}: {qnq.span()}')"
   ]
  },
  {
   "cell_type": "code",
   "execution_count": 125,
   "metadata": {},
   "outputs": [
    {
     "name": "stdout",
     "output_type": "stream",
     "text": [
      "The longest substring found is: '47120'\n"
     ]
    }
   ],
   "source": [
    "import re\n",
    "\n",
    "def find_longest_substring(text, pattern_mnda, pattern_qnq):\n",
    "    matches_mnda = list(re.finditer(pattern_mnda, text))\n",
    "    matches_qnq = list(re.finditer(pattern_qnq, text))\n",
    "    \n",
    "    longest_substring = \"\"\n",
    "    \n",
    "    for mnda_match in matches_mnda:\n",
    "        mnda_end = mnda_match.end()\n",
    "        # Find the first matches_qnq after this mnda_match\n",
    "        for qnq_match in matches_qnq:\n",
    "            if qnq_match.start() > mnda_end:\n",
    "                substring = text[mnda_end:qnq_match.start()]\n",
    "                if len(substring) > len(longest_substring):\n",
    "                    longest_substring = substring\n",
    "                break  # We only want the first qnq match after each mnda match\n",
    "    \n",
    "    return longest_substring\n",
    "\n",
    "# Example usage\n",
    "longest = find_longest_substring(text, pattern_mnda, pattern_qnq)\n",
    "print(f\"The longest substring found is: '{len(longest)}'\")\n"
   ]
  },
  {
   "cell_type": "code",
   "execution_count": 116,
   "metadata": {},
   "outputs": [
    {
     "name": "stdout",
     "output_type": "stream",
     "text": [
      "662 Item 2 -- MANAGEMENT'S DISCUSSION AND ANALYSIS OF FINANCIAL CONDITION AND RESULTS OF OPERATIONS Item 10. Management's Discussion and Analysis of Financial Condition and Results of Operations Item 2A. Management's Discussion and Analysis of Financial Condition and Results of Operations. Item 7. Management's Discussion and Analysis of Financial Condition and Results of Operations ITEM 7. MANAGEMENT'S DISCUSSION AND ANALYSIS OF FINANCIAL CONDITION AND RESULTS OF OPERATIONS Item 7. MANAGEMENT'S DISCUSSION AND ANALYSIS OF FINANCIAL CONDITION AND RESULTS OF OPERATIONS Item 7. Management's Discussion and Analysis of Financial Condition and Results of Operations\n"
     ]
    }
   ],
   "source": [
    "import re\n",
    "\n",
    "# Assuming 'text' is the variable containing the text extracted from your document\n",
    "text = \"\"\"\n",
    "Item 2 — MANAGEMENT’S DISCUSSION AND ANALYSIS OF FINANCIAL CONDITION AND RESULTS OF OPERATIONS\n",
    "\n",
    "Item 10.    Management’s Discussion and Analysis of Financial Condition and Results of Operations\n",
    "\n",
    "Item 2A.    Management's Discussion and Analysis of Financial Condition and Results of Operations.\n",
    "\n",
    "Item 7. Management’s Discussion and Analysis of Financial Condition and Results of Operations\n",
    "\n",
    "ITEM 7. MANAGEMENT'S DISCUSSION AND ANALYSIS OF FINANCIAL CONDITION AND RESULTS OF OPERATIONS\n",
    "\n",
    "Item 7.\t\n",
    "MANAGEMENT’S DISCUSSION AND ANALYSIS OF FINANCIAL CONDITION AND RESULTS OF OPERATIONS\n",
    "\n",
    "Item 7. Management’s Discussion and Analysis of Financial Condition and Results of Operations\n",
    "\"\"\"\n",
    "\n",
    "text = unidecode.unidecode(text)\n",
    "text = re.sub(r'\\s+', ' ', text).strip()\n",
    "\n",
    "print(len(text), text[:1000])\n",
    "\n",
    "\n",
    "\n"
   ]
  },
  {
   "cell_type": "code",
   "execution_count": 118,
   "metadata": {},
   "outputs": [
    {
     "name": "stdout",
     "output_type": "stream",
     "text": [
      "[\"Item 2 -- MANAGEMENT'S DISCUSSION AND ANALYSIS OF FINANCIAL CONDITION AND RESULTS OF OPERATIONS\", \"Item 10. Management's Discussion and Analysis of Financial Condition and Results of Operations\", \"Item 2A. Management's Discussion and Analysis of Financial Condition and Results of Operations\", \"Item 7. Management's Discussion and Analysis of Financial Condition and Results of Operations\", \"ITEM 7. MANAGEMENT'S DISCUSSION AND ANALYSIS OF FINANCIAL CONDITION AND RESULTS OF OPERATIONS\", \"Item 7. MANAGEMENT'S DISCUSSION AND ANALYSIS OF FINANCIAL CONDITION AND RESULTS OF OPERATIONS\", \"Item 7. Management's Discussion and Analysis of Financial Condition and Results of Operations\"]\n",
      "\n",
      "\n",
      "True\n",
      "7\n"
     ]
    }
   ],
   "source": [
    "\n",
    "pattern_mnda = r\"(?i)item\\s+\\d+[A-Za-z]?\\.?\\s*(?:--|[-—])?\\s*management[’'`]s\\s+discussion\\s+and\\s+analysis\\s+of\\s+financial\\s+condition\\s+and\\s+results\\s+of\\s+operations\"\n",
    "\n",
    "\n",
    "matches = re.findall(pattern_mnda, text)\n",
    "print(matches)\n",
    "print('\\n')\n",
    "print(len(matches) == 7)\n",
    "print(len(matches))"
   ]
  }
 ],
 "metadata": {
  "kernelspec": {
   "display_name": "env",
   "language": "python",
   "name": "python3"
  },
  "language_info": {
   "codemirror_mode": {
    "name": "ipython",
    "version": 3
   },
   "file_extension": ".py",
   "mimetype": "text/x-python",
   "name": "python",
   "nbconvert_exporter": "python",
   "pygments_lexer": "ipython3",
   "version": "3.11.5"
  }
 },
 "nbformat": 4,
 "nbformat_minor": 2
}
