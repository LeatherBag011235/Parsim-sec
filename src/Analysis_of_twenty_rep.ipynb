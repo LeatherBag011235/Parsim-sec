{
 "cells": [
  {
   "cell_type": "code",
   "execution_count": 7,
   "metadata": {},
   "outputs": [],
   "source": [
    "import polars as pl\n",
    "from consts import COMPANY_NAME_LIST\n",
    "import os"
   ]
  },
  {
   "cell_type": "code",
   "execution_count": 3,
   "metadata": {},
   "outputs": [],
   "source": [
    "df = pl.read_parquet(r'C:\\Users\\310\\Desktop\\Progects_Py\\cleared_files\\PLUG%2520POWER%2520INC%2520(PLUG)%2520(CIK%25200001093691)_reports.parquet')"
   ]
  },
  {
   "cell_type": "code",
   "execution_count": 4,
   "metadata": {},
   "outputs": [
    {
     "data": {
      "text/html": [
       "<div><style>\n",
       ".dataframe > thead > tr,\n",
       ".dataframe > tbody > tr {\n",
       "  text-align: right;\n",
       "  white-space: pre-wrap;\n",
       "}\n",
       "</style>\n",
       "<small>shape: (5, 15)</small><table border=\"1\" class=\"dataframe\"><thead><tr><th>2019-05-08</th><th>2019-08-09</th><th>2019-11-08</th><th>2020-05-08</th><th>2020-08-10</th><th>2020-11-09</th><th>2021-06-22</th><th>2021-08-05</th><th>2021-11-09</th><th>2022-05-09</th><th>2022-08-09</th><th>2022-11-08</th><th>2023-05-09</th><th>2023-08-09</th><th>2023-11-09</th></tr><tr><td>str</td><td>str</td><td>str</td><td>str</td><td>str</td><td>str</td><td>str</td><td>str</td><td>str</td><td>str</td><td>str</td><td>str</td><td>str</td><td>str</td><td>str</td></tr></thead><tbody><tr><td>&quot;PLUG%2520POWER…</td><td>&quot;PLUG%2520POWER…</td><td>&quot;PLUG%2520POWER…</td><td>&quot;PLUG%2520POWER…</td><td>&quot;PLUG%2520POWER…</td><td>&quot;PLUG%2520POWER…</td><td>&quot;PLUG%2520POWER…</td><td>&quot;PLUG%2520POWER…</td><td>&quot;PLUG%2520POWER…</td><td>&quot;PLUG%2520POWER…</td><td>&quot;PLUG%2520POWER…</td><td>&quot;PLUG%2520POWER…</td><td>&quot;PLUG%2520POWER…</td><td>&quot;PLUG%2520POWER…</td><td>&quot;PLUG%2520POWER…</td></tr><tr><td>&quot;2019-05-08&quot;</td><td>&quot;2019-08-09&quot;</td><td>&quot;2019-11-08&quot;</td><td>&quot;2020-05-08&quot;</td><td>&quot;2020-08-10&quot;</td><td>&quot;2020-11-09&quot;</td><td>&quot;2021-06-22&quot;</td><td>&quot;2021-08-05&quot;</td><td>&quot;2021-11-09&quot;</td><td>&quot;2022-05-09&quot;</td><td>&quot;2022-08-09&quot;</td><td>&quot;2022-11-08&quot;</td><td>&quot;2023-05-09&quot;</td><td>&quot;2023-08-09&quot;</td><td>&quot;2023-11-09&quot;</td></tr><tr><td>&quot;2019-03-31&quot;</td><td>&quot;2019-06-30&quot;</td><td>&quot;2019-09-30&quot;</td><td>&quot;2020-03-31&quot;</td><td>&quot;2020-06-30&quot;</td><td>&quot;2020-09-30&quot;</td><td>&quot;2021-03-31&quot;</td><td>&quot;2021-06-30&quot;</td><td>&quot;2021-09-30&quot;</td><td>&quot;2022-03-31&quot;</td><td>&quot;2022-06-30&quot;</td><td>&quot;2022-09-30&quot;</td><td>&quot;2023-03-31&quot;</td><td>&quot;2023-06-30&quot;</td><td>&quot;2023-09-30&quot;</td></tr><tr><td>&quot;Table&quot;</td><td>&quot;Table&quot;</td><td>&quot;Table&quot;</td><td>&quot;Table&quot;</td><td>&quot;of&quot;</td><td>&quot;of&quot;</td><td>&quot;Plug&quot;</td><td>&quot;Power&quot;</td><td>&quot;Power&quot;</td><td>&quot;Power&quot;</td><td>&quot;Power&quot;</td><td>&quot;of&quot;</td><td>&quot;of&quot;</td><td>&quot;of&quot;</td><td>&quot;of&quot;</td></tr><tr><td>&quot;of&quot;</td><td>&quot;of&quot;</td><td>&quot;of&quot;</td><td>&quot;of&quot;</td><td>&quot;Contents&quot;</td><td>&quot;Contents&quot;</td><td>&quot;Power&quot;</td><td>&quot;of&quot;</td><td>&quot;of&quot;</td><td>&quot;of&quot;</td><td>&quot;of&quot;</td><td>&quot;Contents&quot;</td><td>&quot;Contents&quot;</td><td>&quot;Contents&quot;</td><td>&quot;Contents&quot;</td></tr></tbody></table></div>"
      ],
      "text/plain": [
       "shape: (5, 15)\n",
       "┌───────────┬───────────┬───────────┬───────────┬───┬───────────┬───────────┬───────────┬──────────┐\n",
       "│ 2019-05-0 ┆ 2019-08-0 ┆ 2019-11-0 ┆ 2020-05-0 ┆ … ┆ 2022-11-0 ┆ 2023-05-0 ┆ 2023-08-0 ┆ 2023-11- │\n",
       "│ 8         ┆ 9         ┆ 8         ┆ 8         ┆   ┆ 8         ┆ 9         ┆ 9         ┆ 09       │\n",
       "│ ---       ┆ ---       ┆ ---       ┆ ---       ┆   ┆ ---       ┆ ---       ┆ ---       ┆ ---      │\n",
       "│ str       ┆ str       ┆ str       ┆ str       ┆   ┆ str       ┆ str       ┆ str       ┆ str      │\n",
       "╞═══════════╪═══════════╪═══════════╪═══════════╪═══╪═══════════╪═══════════╪═══════════╪══════════╡\n",
       "│ PLUG%2520 ┆ PLUG%2520 ┆ PLUG%2520 ┆ PLUG%2520 ┆ … ┆ PLUG%2520 ┆ PLUG%2520 ┆ PLUG%2520 ┆ PLUG%252 │\n",
       "│ POWER%252 ┆ POWER%252 ┆ POWER%252 ┆ POWER%252 ┆   ┆ POWER%252 ┆ POWER%252 ┆ POWER%252 ┆ 0POWER%2 │\n",
       "│ 0INC%2520 ┆ 0INC%2520 ┆ 0INC%2520 ┆ 0INC%2520 ┆   ┆ 0INC%2520 ┆ 0INC%2520 ┆ 0INC%2520 ┆ 520INC%2 │\n",
       "│ (PLUG…    ┆ (PLUG…    ┆ (PLUG…    ┆ (PLUG…    ┆   ┆ (PLUG…    ┆ (PLUG…    ┆ (PLUG…    ┆ 520(PLUG │\n",
       "│           ┆           ┆           ┆           ┆   ┆           ┆           ┆           ┆ …        │\n",
       "│ 2019-05-0 ┆ 2019-08-0 ┆ 2019-11-0 ┆ 2020-05-0 ┆ … ┆ 2022-11-0 ┆ 2023-05-0 ┆ 2023-08-0 ┆ 2023-11- │\n",
       "│ 8         ┆ 9         ┆ 8         ┆ 8         ┆   ┆ 8         ┆ 9         ┆ 9         ┆ 09       │\n",
       "│ 2019-03-3 ┆ 2019-06-3 ┆ 2019-09-3 ┆ 2020-03-3 ┆ … ┆ 2022-09-3 ┆ 2023-03-3 ┆ 2023-06-3 ┆ 2023-09- │\n",
       "│ 1         ┆ 0         ┆ 0         ┆ 1         ┆   ┆ 0         ┆ 1         ┆ 0         ┆ 30       │\n",
       "│ Table     ┆ Table     ┆ Table     ┆ Table     ┆ … ┆ of        ┆ of        ┆ of        ┆ of       │\n",
       "│ of        ┆ of        ┆ of        ┆ of        ┆ … ┆ Contents  ┆ Contents  ┆ Contents  ┆ Contents │\n",
       "└───────────┴───────────┴───────────┴───────────┴───┴───────────┴───────────┴───────────┴──────────┘"
      ]
     },
     "execution_count": 4,
     "metadata": {},
     "output_type": "execute_result"
    }
   ],
   "source": [
    "df.head(5)"
   ]
  },
  {
   "cell_type": "code",
   "execution_count": null,
   "metadata": {},
   "outputs": [],
   "source": [
    "df_dict = {}\n",
    "\n",
    "for company_name in COMPANY_NAME_LIST:\n",
    "\n",
    "    clean_name = company_name.split('%')[0]\n",
    "    print(clean_name)\n",
    "\n",
    "    df_name = f\"df_{clean_name}\"\n",
    "\n",
    "    file_path = os.path.join(r\"C:\\Users\\310\\Desktop\\Progects_Py\\cleared_files\", company_name)\n",
    "    print(file_path)\n",
    "\n",
    "    df = pl.read_parquet(file_path)\n",
    "\n",
    "    df_dict[df_name] = df\n"
   ]
  },
  {
   "cell_type": "code",
   "execution_count": 20,
   "metadata": {},
   "outputs": [
    {
     "data": {
      "text/html": [
       "<div><style>\n",
       ".dataframe > thead > tr,\n",
       ".dataframe > tbody > tr {\n",
       "  text-align: right;\n",
       "  white-space: pre-wrap;\n",
       "}\n",
       "</style>\n",
       "<small>shape: (81_135, 15)</small><table border=\"1\" class=\"dataframe\"><thead><tr><th>2019-04-26</th><th>2019-07-26</th><th>2019-10-25</th><th>2020-04-28</th><th>2020-07-28</th><th>2020-10-27</th><th>2021-04-27</th><th>2021-07-27</th><th>2021-10-26</th><th>2022-04-26</th><th>2022-07-27</th><th>2022-10-25</th><th>2023-04-25</th><th>2023-07-25</th><th>2023-10-24</th></tr><tr><td>str</td><td>str</td><td>str</td><td>str</td><td>str</td><td>str</td><td>str</td><td>str</td><td>str</td><td>str</td><td>str</td><td>str</td><td>str</td><td>str</td><td>str</td></tr></thead><tbody><tr><td>&quot;3M%2520CO%2520…</td><td>&quot;3M%2520CO%2520…</td><td>&quot;3M%2520CO%2520…</td><td>&quot;3M%2520CO%2520…</td><td>&quot;3M%2520CO%2520…</td><td>&quot;3M%2520CO%2520…</td><td>&quot;3M%2520CO%2520…</td><td>&quot;3M%2520CO%2520…</td><td>&quot;3M%2520CO%2520…</td><td>&quot;3M%2520CO%2520…</td><td>&quot;3M%2520CO%2520…</td><td>&quot;3M%2520CO%2520…</td><td>&quot;3M%2520CO%2520…</td><td>&quot;3M%2520CO%2520…</td><td>&quot;3M%2520CO%2520…</td></tr><tr><td>&quot;2019-04-26&quot;</td><td>&quot;2019-07-26&quot;</td><td>&quot;2019-10-25&quot;</td><td>&quot;2020-04-28&quot;</td><td>&quot;2020-07-28&quot;</td><td>&quot;2020-10-27&quot;</td><td>&quot;2021-04-27&quot;</td><td>&quot;2021-07-27&quot;</td><td>&quot;2021-10-26&quot;</td><td>&quot;2022-04-26&quot;</td><td>&quot;2022-07-27&quot;</td><td>&quot;2022-10-25&quot;</td><td>&quot;2023-04-25&quot;</td><td>&quot;2023-07-25&quot;</td><td>&quot;2023-10-24&quot;</td></tr><tr><td>&quot;2019-03-31&quot;</td><td>&quot;2019-06-30&quot;</td><td>&quot;2019-09-30&quot;</td><td>&quot;2020-03-31&quot;</td><td>&quot;2020-06-30&quot;</td><td>&quot;2020-09-30&quot;</td><td>&quot;2021-03-31&quot;</td><td>&quot;2021-06-30&quot;</td><td>&quot;2021-09-30&quot;</td><td>&quot;2022-03-31&quot;</td><td>&quot;2022-06-30&quot;</td><td>&quot;2022-09-30&quot;</td><td>&quot;2023-03-31&quot;</td><td>&quot;2023-06-30&quot;</td><td>&quot;2023-09-30&quot;</td></tr><tr><td>&quot;Table&quot;</td><td>&quot;Stock&quot;</td><td>&quot;Stock&quot;</td><td>&quot;Stock&quot;</td><td>&quot;Stock&quot;</td><td>&quot;Stock&quot;</td><td>&quot;Stock&quot;</td><td>&quot;Stock&quot;</td><td>&quot;of&quot;</td><td>&quot;of&quot;</td><td>&quot;of&quot;</td><td>&quot;of&quot;</td><td>&quot;of&quot;</td><td>&quot;of&quot;</td><td>&quot;of&quot;</td></tr><tr><td>&quot;of&quot;</td><td>&quot;Par&quot;</td><td>&quot;Par&quot;</td><td>&quot;Par&quot;</td><td>&quot;Par&quot;</td><td>&quot;Par&quot;</td><td>&quot;Par&quot;</td><td>&quot;Par&quot;</td><td>&quot;ContentsTable&quot;</td><td>&quot;ContentsTable&quot;</td><td>&quot;ContentsTable&quot;</td><td>&quot;ContentsTable&quot;</td><td>&quot;ContentsTable&quot;</td><td>&quot;ContentsTable&quot;</td><td>&quot;ContentsTable&quot;</td></tr><tr><td>&hellip;</td><td>&hellip;</td><td>&hellip;</td><td>&hellip;</td><td>&hellip;</td><td>&hellip;</td><td>&hellip;</td><td>&hellip;</td><td>&hellip;</td><td>&hellip;</td><td>&hellip;</td><td>&hellip;</td><td>&hellip;</td><td>&hellip;</td><td>&hellip;</td></tr><tr><td>null</td><td>null</td><td>null</td><td>null</td><td>null</td><td>&quot;sign&quot;</td><td>null</td><td>null</td><td>null</td><td>null</td><td>null</td><td>null</td><td>null</td><td>null</td><td>null</td></tr><tr><td>null</td><td>null</td><td>null</td><td>null</td><td>null</td><td>&quot;on&quot;</td><td>null</td><td>null</td><td>null</td><td>null</td><td>null</td><td>null</td><td>null</td><td>null</td><td>null</td></tr><tr><td>null</td><td>null</td><td>null</td><td>null</td><td>null</td><td>&quot;behalf&quot;</td><td>null</td><td>null</td><td>null</td><td>null</td><td>null</td><td>null</td><td>null</td><td>null</td><td>null</td></tr><tr><td>null</td><td>null</td><td>null</td><td>null</td><td>null</td><td>&quot;of&quot;</td><td>null</td><td>null</td><td>null</td><td>null</td><td>null</td><td>null</td><td>null</td><td>null</td><td>null</td></tr><tr><td>null</td><td>null</td><td>null</td><td>null</td><td>null</td><td>&quot;the&quot;</td><td>null</td><td>null</td><td>null</td><td>null</td><td>null</td><td>null</td><td>null</td><td>null</td><td>null</td></tr></tbody></table></div>"
      ],
      "text/plain": [
       "shape: (81_135, 15)\n",
       "┌───────────┬───────────┬───────────┬───────────┬───┬───────────┬───────────┬───────────┬──────────┐\n",
       "│ 2019-04-2 ┆ 2019-07-2 ┆ 2019-10-2 ┆ 2020-04-2 ┆ … ┆ 2022-10-2 ┆ 2023-04-2 ┆ 2023-07-2 ┆ 2023-10- │\n",
       "│ 6         ┆ 6         ┆ 5         ┆ 8         ┆   ┆ 5         ┆ 5         ┆ 5         ┆ 24       │\n",
       "│ ---       ┆ ---       ┆ ---       ┆ ---       ┆   ┆ ---       ┆ ---       ┆ ---       ┆ ---      │\n",
       "│ str       ┆ str       ┆ str       ┆ str       ┆   ┆ str       ┆ str       ┆ str       ┆ str      │\n",
       "╞═══════════╪═══════════╪═══════════╪═══════════╪═══╪═══════════╪═══════════╪═══════════╪══════════╡\n",
       "│ 3M%2520CO ┆ 3M%2520CO ┆ 3M%2520CO ┆ 3M%2520CO ┆ … ┆ 3M%2520CO ┆ 3M%2520CO ┆ 3M%2520CO ┆ 3M%2520C │\n",
       "│ %2520(MMM ┆ %2520(MMM ┆ %2520(MMM ┆ %2520(MMM ┆   ┆ %2520(MMM ┆ %2520(MMM ┆ %2520(MMM ┆ O%2520(M │\n",
       "│ )%2520(CI ┆ )%2520(CI ┆ )%2520(CI ┆ )%2520(CI ┆   ┆ )%2520(CI ┆ )%2520(CI ┆ )%2520(CI ┆ MM)%2520 │\n",
       "│ K%252…    ┆ K%252…    ┆ K%252…    ┆ K%252…    ┆   ┆ K%252…    ┆ K%252…    ┆ K%252…    ┆ (CIK%252 │\n",
       "│           ┆           ┆           ┆           ┆   ┆           ┆           ┆           ┆ …        │\n",
       "│ 2019-04-2 ┆ 2019-07-2 ┆ 2019-10-2 ┆ 2020-04-2 ┆ … ┆ 2022-10-2 ┆ 2023-04-2 ┆ 2023-07-2 ┆ 2023-10- │\n",
       "│ 6         ┆ 6         ┆ 5         ┆ 8         ┆   ┆ 5         ┆ 5         ┆ 5         ┆ 24       │\n",
       "│ 2019-03-3 ┆ 2019-06-3 ┆ 2019-09-3 ┆ 2020-03-3 ┆ … ┆ 2022-09-3 ┆ 2023-03-3 ┆ 2023-06-3 ┆ 2023-09- │\n",
       "│ 1         ┆ 0         ┆ 0         ┆ 1         ┆   ┆ 0         ┆ 1         ┆ 0         ┆ 30       │\n",
       "│ Table     ┆ Stock     ┆ Stock     ┆ Stock     ┆ … ┆ of        ┆ of        ┆ of        ┆ of       │\n",
       "│ of        ┆ Par       ┆ Par       ┆ Par       ┆ … ┆ ContentsT ┆ ContentsT ┆ ContentsT ┆ Contents │\n",
       "│           ┆           ┆           ┆           ┆   ┆ able      ┆ able      ┆ able      ┆ Table    │\n",
       "│ …         ┆ …         ┆ …         ┆ …         ┆ … ┆ …         ┆ …         ┆ …         ┆ …        │\n",
       "│ null      ┆ null      ┆ null      ┆ null      ┆ … ┆ null      ┆ null      ┆ null      ┆ null     │\n",
       "│ null      ┆ null      ┆ null      ┆ null      ┆ … ┆ null      ┆ null      ┆ null      ┆ null     │\n",
       "│ null      ┆ null      ┆ null      ┆ null      ┆ … ┆ null      ┆ null      ┆ null      ┆ null     │\n",
       "│ null      ┆ null      ┆ null      ┆ null      ┆ … ┆ null      ┆ null      ┆ null      ┆ null     │\n",
       "│ null      ┆ null      ┆ null      ┆ null      ┆ … ┆ null      ┆ null      ┆ null      ┆ null     │\n",
       "└───────────┴───────────┴───────────┴───────────┴───┴───────────┴───────────┴───────────┴──────────┘"
      ]
     },
     "execution_count": 20,
     "metadata": {},
     "output_type": "execute_result"
    }
   ],
   "source": [
    "df_dict[\"df_3M\"]"
   ]
  },
  {
   "cell_type": "code",
   "execution_count": 39,
   "metadata": {},
   "outputs": [
    {
     "name": "stdout",
     "output_type": "stream",
     "text": [
      "289\n"
     ]
    }
   ],
   "source": [
    "total_num_of_rep = 0\n",
    "\n",
    "for value in df_dict.values():\n",
    "    total_num_of_rep += value.width\n",
    "print(total_num_of_rep)"
   ]
  },
  {
   "cell_type": "code",
   "execution_count": 38,
   "metadata": {},
   "outputs": [
    {
     "name": "stdout",
     "output_type": "stream",
     "text": [
      "10371991\n"
     ]
    }
   ],
   "source": [
    "total_num_of_words = 0\n",
    "\n",
    "for value in df_dict.values():\n",
    "    for col in value:\n",
    "        total_num_of_words += col.count()\n",
    "\n",
    "print(total_num_of_words)"
   ]
  },
  {
   "cell_type": "code",
   "execution_count": null,
   "metadata": {},
   "outputs": [],
   "source": [
    "def weighting_func(df_dict):\n",
    "    "
   ]
  },
  {
   "cell_type": "code",
   "execution_count": 22,
   "metadata": {},
   "outputs": [
    {
     "data": {
      "text/plain": [
       "15"
      ]
     },
     "execution_count": 22,
     "metadata": {},
     "output_type": "execute_result"
    }
   ],
   "source": [
    "df_dict['df_3M'].width"
   ]
  }
 ],
 "metadata": {
  "kernelspec": {
   "display_name": "env",
   "language": "python",
   "name": "python3"
  },
  "language_info": {
   "codemirror_mode": {
    "name": "ipython",
    "version": 3
   },
   "file_extension": ".py",
   "mimetype": "text/x-python",
   "name": "python",
   "nbconvert_exporter": "python",
   "pygments_lexer": "ipython3",
   "version": "3.11.5"
  }
 },
 "nbformat": 4,
 "nbformat_minor": 2
}
