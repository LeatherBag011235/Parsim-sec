{
 "cells": [
  {
   "cell_type": "code",
   "execution_count": 1,
   "metadata": {},
   "outputs": [],
   "source": [
    "import pandas as pd\n",
    "from fake_useragent import UserAgent\n",
    "import requests\n",
    "from bs4 import BeautifulSoup\n",
    "from xbrl import XBRLParser\n",
    "import io\n",
    "from lxml import etree\n",
    "import re\n",
    "import polars as pl\n",
    "import re"
   ]
  },
  {
   "cell_type": "code",
   "execution_count": 17,
   "metadata": {},
   "outputs": [
    {
     "name": "stdout",
     "output_type": "stream",
     "text": [
      "64\n"
     ]
    }
   ],
   "source": [
    "str = 'ffffffffffdddddddddd ffffffdfdfd \\n   </ix:resources></ix:header> \\ndfdfdhfhd fdfdfd'\n",
    "\n",
    "r'</ix:resources>\\s*</ix:header>'\n",
    "\n",
    "start_pattern = re.compile(r'</ix:resources>\\s*</ix:header>', re.IGNORECASE)\n",
    "#start_pattern = re.compile(r'.*?</ix:resources>\\s*</ix:header>.*?', re.IGNORECASE)\n",
    "start_match = start_pattern.search(str)\n",
    "if start_match:\n",
    "    start_idx = start_match.end()\n",
    "    print(start_idx)\n",
    "else:\n",
    "    print('not found')\n"
   ]
  },
  {
   "cell_type": "code",
   "execution_count": 36,
   "metadata": {},
   "outputs": [
    {
     "name": "stdout",
     "output_type": "stream",
     "text": [
      "First </html> found at position: 46\n"
     ]
    }
   ],
   "source": [
    "#content = \"<DESCRIPTION>10-Q \\n<TEXT><HTML><HEAD> \\n<TITLE>10-Q</\"\n",
    "content = '</DIV></Center> \\n \\n</BODY>         \\n          </HTML>      \\n            </TEXT>'\n",
    "#content = 'style=\"line-height:120%;font-size:10pt;\"><span style=\"font-family:inherit;font-size:10pt;\">178</span></div></div>\t</div></body>\\n</html>\\n</XBRL>'\n",
    "\n",
    "end_pattern = re.compile(r'</html>', re.IGNORECASE)\n",
    "\n",
    "match = end_pattern.search(content)\n",
    "if match:\n",
    "    print(\"First </html> found at position:\", match.start())\n",
    "else:\n",
    "    print(\"No </html> tag found.\")"
   ]
  },
  {
   "cell_type": "code",
   "execution_count": 3,
   "metadata": {},
   "outputs": [],
   "source": [
    "def get_random_headers():\n",
    "    ua = UserAgent()\n",
    "    headers = {'User-Agent': ua.random}\n",
    "    return headers"
   ]
  },
  {
   "cell_type": "code",
   "execution_count": 55,
   "metadata": {},
   "outputs": [],
   "source": [
    "link = (\n",
    "    #\"https://en.wikipedia.org/wiki/List_of_S%26P_500_companies#S&P_500_component_stocks\"\n",
    "    \"https://en.wikipedia.org/wiki/List_of_S%26P_500_companies\"\n",
    ")\n",
    "df = pd.read_html(link, header=0)[0]"
   ]
  },
  {
   "cell_type": "code",
   "execution_count": 21,
   "metadata": {},
   "outputs": [
    {
     "data": {
      "text/html": [
       "<div>\n",
       "<style scoped>\n",
       "    .dataframe tbody tr th:only-of-type {\n",
       "        vertical-align: middle;\n",
       "    }\n",
       "\n",
       "    .dataframe tbody tr th {\n",
       "        vertical-align: top;\n",
       "    }\n",
       "\n",
       "    .dataframe thead th {\n",
       "        text-align: right;\n",
       "    }\n",
       "</style>\n",
       "<table border=\"1\" class=\"dataframe\">\n",
       "  <thead>\n",
       "    <tr style=\"text-align: right;\">\n",
       "      <th></th>\n",
       "      <th>Symbol</th>\n",
       "      <th>Security</th>\n",
       "      <th>GICS Sector</th>\n",
       "      <th>GICS Sub-Industry</th>\n",
       "      <th>Headquarters Location</th>\n",
       "      <th>Date added</th>\n",
       "      <th>CIK</th>\n",
       "      <th>Founded</th>\n",
       "    </tr>\n",
       "  </thead>\n",
       "  <tbody>\n",
       "    <tr>\n",
       "      <th>0</th>\n",
       "      <td>MMM</td>\n",
       "      <td>3M</td>\n",
       "      <td>Industrials</td>\n",
       "      <td>Industrial Conglomerates</td>\n",
       "      <td>Saint Paul, Minnesota</td>\n",
       "      <td>1957-03-04</td>\n",
       "      <td>66740</td>\n",
       "      <td>1902</td>\n",
       "    </tr>\n",
       "    <tr>\n",
       "      <th>1</th>\n",
       "      <td>AOS</td>\n",
       "      <td>A. O. Smith</td>\n",
       "      <td>Industrials</td>\n",
       "      <td>Building Products</td>\n",
       "      <td>Milwaukee, Wisconsin</td>\n",
       "      <td>2017-07-26</td>\n",
       "      <td>91142</td>\n",
       "      <td>1916</td>\n",
       "    </tr>\n",
       "    <tr>\n",
       "      <th>2</th>\n",
       "      <td>ABT</td>\n",
       "      <td>Abbott</td>\n",
       "      <td>Health Care</td>\n",
       "      <td>Health Care Equipment</td>\n",
       "      <td>North Chicago, Illinois</td>\n",
       "      <td>1957-03-04</td>\n",
       "      <td>1800</td>\n",
       "      <td>1888</td>\n",
       "    </tr>\n",
       "    <tr>\n",
       "      <th>3</th>\n",
       "      <td>ABBV</td>\n",
       "      <td>AbbVie</td>\n",
       "      <td>Health Care</td>\n",
       "      <td>Biotechnology</td>\n",
       "      <td>North Chicago, Illinois</td>\n",
       "      <td>2012-12-31</td>\n",
       "      <td>1551152</td>\n",
       "      <td>2013 (1888)</td>\n",
       "    </tr>\n",
       "    <tr>\n",
       "      <th>4</th>\n",
       "      <td>ACN</td>\n",
       "      <td>Accenture</td>\n",
       "      <td>Information Technology</td>\n",
       "      <td>IT Consulting &amp; Other Services</td>\n",
       "      <td>Dublin, Ireland</td>\n",
       "      <td>2011-07-06</td>\n",
       "      <td>1467373</td>\n",
       "      <td>1989</td>\n",
       "    </tr>\n",
       "    <tr>\n",
       "      <th>...</th>\n",
       "      <td>...</td>\n",
       "      <td>...</td>\n",
       "      <td>...</td>\n",
       "      <td>...</td>\n",
       "      <td>...</td>\n",
       "      <td>...</td>\n",
       "      <td>...</td>\n",
       "      <td>...</td>\n",
       "    </tr>\n",
       "    <tr>\n",
       "      <th>497</th>\n",
       "      <td>XYL</td>\n",
       "      <td>Xylem Inc.</td>\n",
       "      <td>Industrials</td>\n",
       "      <td>Industrial Machinery &amp; Supplies &amp; Components</td>\n",
       "      <td>White Plains, New York</td>\n",
       "      <td>2011-11-01</td>\n",
       "      <td>1524472</td>\n",
       "      <td>2011</td>\n",
       "    </tr>\n",
       "    <tr>\n",
       "      <th>498</th>\n",
       "      <td>YUM</td>\n",
       "      <td>Yum! Brands</td>\n",
       "      <td>Consumer Discretionary</td>\n",
       "      <td>Restaurants</td>\n",
       "      <td>Louisville, Kentucky</td>\n",
       "      <td>1997-10-06</td>\n",
       "      <td>1041061</td>\n",
       "      <td>1997</td>\n",
       "    </tr>\n",
       "    <tr>\n",
       "      <th>499</th>\n",
       "      <td>ZBRA</td>\n",
       "      <td>Zebra Technologies</td>\n",
       "      <td>Information Technology</td>\n",
       "      <td>Electronic Equipment &amp; Instruments</td>\n",
       "      <td>Lincolnshire, Illinois</td>\n",
       "      <td>2019-12-23</td>\n",
       "      <td>877212</td>\n",
       "      <td>1969</td>\n",
       "    </tr>\n",
       "    <tr>\n",
       "      <th>500</th>\n",
       "      <td>ZBH</td>\n",
       "      <td>Zimmer Biomet</td>\n",
       "      <td>Health Care</td>\n",
       "      <td>Health Care Equipment</td>\n",
       "      <td>Warsaw, Indiana</td>\n",
       "      <td>2001-08-07</td>\n",
       "      <td>1136869</td>\n",
       "      <td>1927</td>\n",
       "    </tr>\n",
       "    <tr>\n",
       "      <th>501</th>\n",
       "      <td>ZTS</td>\n",
       "      <td>Zoetis</td>\n",
       "      <td>Health Care</td>\n",
       "      <td>Pharmaceuticals</td>\n",
       "      <td>Parsippany, New Jersey</td>\n",
       "      <td>2013-06-21</td>\n",
       "      <td>1555280</td>\n",
       "      <td>1952</td>\n",
       "    </tr>\n",
       "  </tbody>\n",
       "</table>\n",
       "<p>502 rows × 8 columns</p>\n",
       "</div>"
      ],
      "text/plain": [
       "    Symbol            Security             GICS Sector  \\\n",
       "0      MMM                  3M             Industrials   \n",
       "1      AOS         A. O. Smith             Industrials   \n",
       "2      ABT              Abbott             Health Care   \n",
       "3     ABBV              AbbVie             Health Care   \n",
       "4      ACN           Accenture  Information Technology   \n",
       "..     ...                 ...                     ...   \n",
       "497    XYL          Xylem Inc.             Industrials   \n",
       "498    YUM         Yum! Brands  Consumer Discretionary   \n",
       "499   ZBRA  Zebra Technologies  Information Technology   \n",
       "500    ZBH       Zimmer Biomet             Health Care   \n",
       "501    ZTS              Zoetis             Health Care   \n",
       "\n",
       "                                GICS Sub-Industry    Headquarters Location  \\\n",
       "0                        Industrial Conglomerates    Saint Paul, Minnesota   \n",
       "1                               Building Products     Milwaukee, Wisconsin   \n",
       "2                           Health Care Equipment  North Chicago, Illinois   \n",
       "3                                   Biotechnology  North Chicago, Illinois   \n",
       "4                  IT Consulting & Other Services          Dublin, Ireland   \n",
       "..                                            ...                      ...   \n",
       "497  Industrial Machinery & Supplies & Components   White Plains, New York   \n",
       "498                                   Restaurants     Louisville, Kentucky   \n",
       "499            Electronic Equipment & Instruments   Lincolnshire, Illinois   \n",
       "500                         Health Care Equipment          Warsaw, Indiana   \n",
       "501                               Pharmaceuticals   Parsippany, New Jersey   \n",
       "\n",
       "     Date added      CIK      Founded  \n",
       "0    1957-03-04    66740         1902  \n",
       "1    2017-07-26    91142         1916  \n",
       "2    1957-03-04     1800         1888  \n",
       "3    2012-12-31  1551152  2013 (1888)  \n",
       "4    2011-07-06  1467373         1989  \n",
       "..          ...      ...          ...  \n",
       "497  2011-11-01  1524472         2011  \n",
       "498  1997-10-06  1041061         1997  \n",
       "499  2019-12-23   877212         1969  \n",
       "500  2001-08-07  1136869         1927  \n",
       "501  2013-06-21  1555280         1952  \n",
       "\n",
       "[502 rows x 8 columns]"
      ]
     },
     "execution_count": 21,
     "metadata": {},
     "output_type": "execute_result"
    }
   ],
   "source": [
    "str_df = df.astype(str)\n",
    "str_df"
   ]
  },
  {
   "cell_type": "code",
   "execution_count": null,
   "metadata": {},
   "outputs": [],
   "source": []
  },
  {
   "cell_type": "code",
   "execution_count": 4,
   "metadata": {},
   "outputs": [
    {
     "ename": "KeyboardInterrupt",
     "evalue": "",
     "output_type": "error",
     "traceback": [
      "\u001b[1;31m---------------------------------------------------------------------------\u001b[0m",
      "\u001b[1;31mKeyboardInterrupt\u001b[0m                         Traceback (most recent call last)",
      "Cell \u001b[1;32mIn[4], line 7\u001b[0m\n\u001b[0;32m      4\u001b[0m soup \u001b[38;5;241m=\u001b[39m BeautifulSoup(response\u001b[38;5;241m.\u001b[39mtext, \u001b[38;5;124m'\u001b[39m\u001b[38;5;124mhtml.parser\u001b[39m\u001b[38;5;124m'\u001b[39m)\n\u001b[0;32m      6\u001b[0m \u001b[38;5;28;01mfor\u001b[39;00m table \u001b[38;5;129;01min\u001b[39;00m soup\u001b[38;5;241m.\u001b[39mfind_all(\u001b[38;5;124m'\u001b[39m\u001b[38;5;124mtable\u001b[39m\u001b[38;5;124m'\u001b[39m):\n\u001b[1;32m----> 7\u001b[0m     \u001b[43mtable\u001b[49m\u001b[38;5;241;43m.\u001b[39;49m\u001b[43mdecompose\u001b[49m\u001b[43m(\u001b[49m\u001b[43m)\u001b[49m\n\u001b[0;32m      9\u001b[0m \u001b[38;5;28;01mfor\u001b[39;00m table \u001b[38;5;129;01min\u001b[39;00m soup\u001b[38;5;241m.\u001b[39mfind_all(\u001b[38;5;124m'\u001b[39m\u001b[38;5;124mh\u001b[39m\u001b[38;5;124m'\u001b[39m):\n\u001b[0;32m     10\u001b[0m     table\u001b[38;5;241m.\u001b[39mdecompose()\n",
      "File \u001b[1;32mc:\\Users\\310\\Desktop\\Progects_Py\\env\\Lib\\site-packages\\bs4\\element.py:1470\u001b[0m, in \u001b[0;36mTag.decompose\u001b[1;34m(self)\u001b[0m\n\u001b[0;32m   1468\u001b[0m \u001b[38;5;28;01mwhile\u001b[39;00m i \u001b[38;5;129;01mis\u001b[39;00m \u001b[38;5;129;01mnot\u001b[39;00m \u001b[38;5;28;01mNone\u001b[39;00m:\n\u001b[0;32m   1469\u001b[0m     n \u001b[38;5;241m=\u001b[39m i\u001b[38;5;241m.\u001b[39mnext_element\n\u001b[1;32m-> 1470\u001b[0m     i\u001b[38;5;241m.\u001b[39m\u001b[38;5;18m__dict__\u001b[39m\u001b[38;5;241m.\u001b[39mclear()\n\u001b[0;32m   1471\u001b[0m     i\u001b[38;5;241m.\u001b[39mcontents \u001b[38;5;241m=\u001b[39m []\n\u001b[0;32m   1472\u001b[0m     i\u001b[38;5;241m.\u001b[39m_decomposed \u001b[38;5;241m=\u001b[39m \u001b[38;5;28;01mTrue\u001b[39;00m\n",
      "\u001b[1;31mKeyboardInterrupt\u001b[0m: "
     ]
    }
   ],
   "source": [
    "report_url = \"https://www.sec.gov/Archives/edgar/data/936468/0000936468-20-000016.txt\"\n",
    "response = requests.get(report_url, headers=get_random_headers())\n",
    "\n",
    "soup = BeautifulSoup(response.text, 'html.parser')\n",
    "\n",
    "for table in soup.find_all('table'):\n",
    "    table.decompose()\n",
    "\n",
    "for table in soup.find_all('h'):\n",
    "    table.decompose()\n",
    "\n",
    "for table in soup.find_all('form'):\n",
    "    table.decompose()\n",
    "\n",
    "\n",
    "text = soup.get_text()\n",
    "text[10000:15000]"
   ]
  },
  {
   "cell_type": "code",
   "execution_count": 18,
   "metadata": {},
   "outputs": [
    {
     "name": "stdout",
     "output_type": "stream",
     "text": [
      "177032\n"
     ]
    }
   ],
   "source": [
    "report_url = \"https://www.sec.gov/Archives/edgar/data/899051/0000899051-20-000029.txt\"\n",
    "response = requests.get(report_url, headers=get_random_headers())\n",
    "\n",
    "if response.status_code == 200:\n",
    "        # Response.text contains the content of the .txt file as a string\n",
    "        content  = response.text\n",
    "        \n",
    "        start_pattern = re.compile(r'</ix:resources>\\s*</ix:header>', re.IGNORECASE)\n",
    "        end_pattern = re.compile(r'</html>', re.IGNORECASE)\n",
    "\n",
    "        start_match = start_pattern.search(content)\n",
    "        if start_match:\n",
    "            start_idx = start_match.end()\n",
    "        else:\n",
    "            print('fail to find start idx')\n",
    "\n",
    "        end_match = end_pattern.search(content, start_idx)\n",
    "        if end_match:\n",
    "            end_idx = end_match.end()\n",
    "        else:\n",
    "            print('fail to find end idx')\n",
    "\n",
    "        html_content = content[start_idx:end_idx]\n",
    "        #start_idx = content.find('</ix:resources></ix:header>')\n",
    "        #print(start_idx)\n",
    "#\n",
    "        #if start_idx != -1:\n",
    "        #    # Adjust the start index to the end of the tag to capture the HTML content correctly\n",
    "        #    start_idx += len('</ix:resources></ix:header>')\n",
    "        #print(start_idx)\n",
    "        #\n",
    "        #end_idx = content.find('</html>', start_idx)\n",
    "        #print(end_idx)\n",
    "#\n",
    "        #html_content = content[start_idx:end_idx + len('</html>')]\n",
    "\n",
    "        soup = BeautifulSoup(html_content, 'html.parser')\n",
    "\n",
    "        for script in soup([\"script\", \"style\", \"head\", \"title\", \"meta\", \"[document]\"]):\n",
    "            script.decompose() \n",
    "\n",
    "        for table in soup.find_all('table'):\n",
    "            table.decompose()\n",
    "        \n",
    "        for a in soup.find_all(\"a\"):\n",
    "            a.decompose()\n",
    "\n",
    "        text = soup.get_text()\n",
    "        print(len(text))\n",
    "        \n",
    "        \n",
    "         \n",
    "        \n",
    "else:\n",
    "    print(f\"Error downloading file: {response.status_code}\")\n",
    "\n"
   ]
  },
  {
   "cell_type": "code",
   "execution_count": 15,
   "metadata": {},
   "outputs": [
    {
     "name": "stdout",
     "output_type": "stream",
     "text": [
      "STARTING STR: UNITED STATESSECURITIES AND EXCHANGE COMMISSIONWashington, D.C. 20549FORM 10-Q ☒  QUARTERLY REPORT P \n",
      " \n",
      " \n",
      " ENDING STR: eport to be signed on its behalf by the undersigned thereunto duly authorized.96  www.allstate.com \n",
      "\n"
     ]
    }
   ],
   "source": [
    "print(f'STARTING STR: {text[:100]} \\n \\n \\n ENDING STR: {text[-100:]}')"
   ]
  },
  {
   "cell_type": "code",
   "execution_count": null,
   "metadata": {},
   "outputs": [],
   "source": [
    "if xbrl_content:\n",
    "    \n",
    "    xbrl_data = str(xbrl_content)  # Keep data as string, not bytes\n",
    "    xbrl_file_like = io.StringIO(xbrl_data)  # Use StringIO for string data\n",
    "    xbrl_file_like.seek(0)\n",
    "    \n",
    "\n",
    "    # Parse the XBRL data using the file-like object\n",
    "    try:\n",
    "        xbrl_parser = XBRLParser()\n",
    "        xbrl = xbrl_parser.parse(xbrl_file_like)\n",
    "        print(xbrl)\n",
    "    except Exception as e:\n",
    "        print(\"Error parsing XBRL:\", e)\n",
    "else:\n",
    "    print(\"XBRL content not found.\")"
   ]
  },
  {
   "cell_type": "code",
   "execution_count": 116,
   "metadata": {},
   "outputs": [
    {
     "ename": "TypeError",
     "evalue": "'NoneType' object is not callable",
     "output_type": "error",
     "traceback": [
      "\u001b[1;31m---------------------------------------------------------------------------\u001b[0m",
      "\u001b[1;31mTypeError\u001b[0m                                 Traceback (most recent call last)",
      "Cell \u001b[1;32mIn[116], line 1\u001b[0m\n\u001b[1;32m----> 1\u001b[0m soup \u001b[38;5;241m=\u001b[39m \u001b[43mBeautifulSoup\u001b[49m\u001b[43m(\u001b[49m\u001b[43mxbrl\u001b[49m\u001b[43m,\u001b[49m\u001b[43m \u001b[49m\u001b[38;5;124;43m'\u001b[39;49m\u001b[38;5;124;43mhtml.parser\u001b[39;49m\u001b[38;5;124;43m'\u001b[39;49m\u001b[43m)\u001b[49m\n\u001b[0;32m      2\u001b[0m soup\n",
      "File \u001b[1;32mc:\\Users\\310\\Desktop\\Progects_Py\\env\\Lib\\site-packages\\bs4\\__init__.py:314\u001b[0m, in \u001b[0;36mBeautifulSoup.__init__\u001b[1;34m(self, markup, features, builder, parse_only, from_encoding, exclude_encodings, element_classes, **kwargs)\u001b[0m\n\u001b[0;32m    311\u001b[0m \u001b[38;5;28mself\u001b[39m\u001b[38;5;241m.\u001b[39mparse_only \u001b[38;5;241m=\u001b[39m parse_only\n\u001b[0;32m    313\u001b[0m \u001b[38;5;28;01mif\u001b[39;00m \u001b[38;5;28mhasattr\u001b[39m(markup, \u001b[38;5;124m'\u001b[39m\u001b[38;5;124mread\u001b[39m\u001b[38;5;124m'\u001b[39m):        \u001b[38;5;66;03m# It's a file-type object.\u001b[39;00m\n\u001b[1;32m--> 314\u001b[0m     markup \u001b[38;5;241m=\u001b[39m \u001b[43mmarkup\u001b[49m\u001b[38;5;241;43m.\u001b[39;49m\u001b[43mread\u001b[49m\u001b[43m(\u001b[49m\u001b[43m)\u001b[49m\n\u001b[0;32m    315\u001b[0m \u001b[38;5;28;01melif\u001b[39;00m \u001b[38;5;28mlen\u001b[39m(markup) \u001b[38;5;241m<\u001b[39m\u001b[38;5;241m=\u001b[39m \u001b[38;5;241m256\u001b[39m \u001b[38;5;129;01mand\u001b[39;00m (\n\u001b[0;32m    316\u001b[0m         (\u001b[38;5;28misinstance\u001b[39m(markup, \u001b[38;5;28mbytes\u001b[39m) \u001b[38;5;129;01mand\u001b[39;00m \u001b[38;5;129;01mnot\u001b[39;00m \u001b[38;5;124mb\u001b[39m\u001b[38;5;124m'\u001b[39m\u001b[38;5;124m<\u001b[39m\u001b[38;5;124m'\u001b[39m \u001b[38;5;129;01min\u001b[39;00m markup)\n\u001b[0;32m    317\u001b[0m         \u001b[38;5;129;01mor\u001b[39;00m (\u001b[38;5;28misinstance\u001b[39m(markup, \u001b[38;5;28mstr\u001b[39m) \u001b[38;5;129;01mand\u001b[39;00m \u001b[38;5;129;01mnot\u001b[39;00m \u001b[38;5;124m'\u001b[39m\u001b[38;5;124m<\u001b[39m\u001b[38;5;124m'\u001b[39m \u001b[38;5;129;01min\u001b[39;00m markup)\n\u001b[1;32m   (...)\u001b[0m\n\u001b[0;32m    321\u001b[0m     \u001b[38;5;66;03m# Beautiful Soup will still parse the input as markup,\u001b[39;00m\n\u001b[0;32m    322\u001b[0m     \u001b[38;5;66;03m# since that is sometimes the intended behavior.\u001b[39;00m\n\u001b[0;32m    323\u001b[0m     \u001b[38;5;28;01mif\u001b[39;00m \u001b[38;5;129;01mnot\u001b[39;00m \u001b[38;5;28mself\u001b[39m\u001b[38;5;241m.\u001b[39m_markup_is_url(markup):\n",
      "\u001b[1;31mTypeError\u001b[0m: 'NoneType' object is not callable"
     ]
    }
   ],
   "source": []
  },
  {
   "cell_type": "code",
   "execution_count": 78,
   "metadata": {},
   "outputs": [],
   "source": [
    "def get_cik():\n",
    "    link = (\n",
    "        #\"https://en.wikipedia.org/wiki/List_of_S%26P_500_companies#S&P_500_component_stocks\"\n",
    "        \"https://en.wikipedia.org/wiki/List_of_S%26P_500_companies\"\n",
    "    )\n",
    "    df = pd.read_html(link, header=0)[0]\n",
    "    snp_str_df = df.astype(str)\n",
    "    #print(type(str_ciks[0]))\n",
    "    #cik_set = set(str_df[\"CIK\"])\n",
    "    #print(snp_str_df)\n",
    "    snp_str_df['Count'] = snp_str_df.groupby('CIK').cumcount()\n",
    "\n",
    "    snp_str_df = snp_str_df[snp_str_df['Count'] == 0]\n",
    "\n",
    "    snp_str_df = snp_str_df.drop(columns=['Count'])\n",
    "\n",
    "    return snp_str_df"
   ]
  },
  {
   "cell_type": "code",
   "execution_count": 79,
   "metadata": {},
   "outputs": [],
   "source": [
    "df = get_cik()"
   ]
  },
  {
   "cell_type": "code",
   "execution_count": 80,
   "metadata": {},
   "outputs": [
    {
     "name": "stdout",
     "output_type": "stream",
     "text": [
      "499\n",
      "True\n",
      "337    NWSA\n",
      "Name: Symbol, dtype: object\n"
     ]
    }
   ],
   "source": [
    "set_df = set(df['CIK'])\n",
    "print(len(df))\n",
    "\n",
    "\n",
    "if '1564708' in set_df:\n",
    "    print(True)\n",
    "\n",
    "ticker = df.loc[df[\"CIK\"] == '1564708', \"Symbol\"]\n",
    "\n",
    "print(ticker)"
   ]
  },
  {
   "cell_type": "code",
   "execution_count": 32,
   "metadata": {},
   "outputs": [
    {
     "data": {
      "text/html": [
       "<div>\n",
       "<style scoped>\n",
       "    .dataframe tbody tr th:only-of-type {\n",
       "        vertical-align: middle;\n",
       "    }\n",
       "\n",
       "    .dataframe tbody tr th {\n",
       "        vertical-align: top;\n",
       "    }\n",
       "\n",
       "    .dataframe thead th {\n",
       "        text-align: right;\n",
       "    }\n",
       "</style>\n",
       "<table border=\"1\" class=\"dataframe\">\n",
       "  <thead>\n",
       "    <tr style=\"text-align: right;\">\n",
       "      <th></th>\n",
       "      <th>Symbol</th>\n",
       "      <th>Security</th>\n",
       "      <th>GICS Sector</th>\n",
       "      <th>GICS Sub-Industry</th>\n",
       "      <th>Headquarters Location</th>\n",
       "      <th>Date added</th>\n",
       "      <th>CIK</th>\n",
       "      <th>Founded</th>\n",
       "    </tr>\n",
       "  </thead>\n",
       "  <tbody>\n",
       "    <tr>\n",
       "      <th>336</th>\n",
       "      <td>NEM</td>\n",
       "      <td>Newmont</td>\n",
       "      <td>Materials</td>\n",
       "      <td>Gold</td>\n",
       "      <td>Denver, Colorado</td>\n",
       "      <td>1969-06-30</td>\n",
       "      <td>1164727</td>\n",
       "      <td>1921</td>\n",
       "    </tr>\n",
       "    <tr>\n",
       "      <th>337</th>\n",
       "      <td>NWSA</td>\n",
       "      <td>News Corp (Class A)</td>\n",
       "      <td>Communication Services</td>\n",
       "      <td>Publishing</td>\n",
       "      <td>New York City, New York</td>\n",
       "      <td>2013-08-01</td>\n",
       "      <td>1564708</td>\n",
       "      <td>2013 (News Corporation 1980)</td>\n",
       "    </tr>\n",
       "    <tr>\n",
       "      <th>338</th>\n",
       "      <td>NWS</td>\n",
       "      <td>News Corp (Class B)</td>\n",
       "      <td>Communication Services</td>\n",
       "      <td>Publishing</td>\n",
       "      <td>New York City, New York</td>\n",
       "      <td>2015-09-18</td>\n",
       "      <td>1564708</td>\n",
       "      <td>2013 (News Corporation 1980)</td>\n",
       "    </tr>\n",
       "    <tr>\n",
       "      <th>339</th>\n",
       "      <td>NEE</td>\n",
       "      <td>NextEra Energy</td>\n",
       "      <td>Utilities</td>\n",
       "      <td>Multi-Utilities</td>\n",
       "      <td>Juno Beach, Florida</td>\n",
       "      <td>1976-06-30</td>\n",
       "      <td>753308</td>\n",
       "      <td>1984 (1925)</td>\n",
       "    </tr>\n",
       "  </tbody>\n",
       "</table>\n",
       "</div>"
      ],
      "text/plain": [
       "    Symbol             Security             GICS Sector GICS Sub-Industry  \\\n",
       "336    NEM              Newmont               Materials              Gold   \n",
       "337   NWSA  News Corp (Class A)  Communication Services        Publishing   \n",
       "338    NWS  News Corp (Class B)  Communication Services        Publishing   \n",
       "339    NEE       NextEra Energy               Utilities   Multi-Utilities   \n",
       "\n",
       "       Headquarters Location  Date added      CIK  \\\n",
       "336         Denver, Colorado  1969-06-30  1164727   \n",
       "337  New York City, New York  2013-08-01  1564708   \n",
       "338  New York City, New York  2015-09-18  1564708   \n",
       "339      Juno Beach, Florida  1976-06-30   753308   \n",
       "\n",
       "                          Founded  \n",
       "336                          1921  \n",
       "337  2013 (News Corporation 1980)  \n",
       "338  2013 (News Corporation 1980)  \n",
       "339                   1984 (1925)  "
      ]
     },
     "execution_count": 32,
     "metadata": {},
     "output_type": "execute_result"
    }
   ],
   "source": [
    "df[336: 340]"
   ]
  },
  {
   "cell_type": "code",
   "execution_count": 73,
   "metadata": {},
   "outputs": [],
   "source": [
    "def non_unique_cik(snp_str_df):\n",
    "    res = snp_str_df[\"CIK\"].value_counts()\n",
    "    non_unique_ciks = res[res > 1]\n",
    "\n",
    "    return non_unique_ciks.index\n"
   ]
  },
  {
   "cell_type": "code",
   "execution_count": 75,
   "metadata": {},
   "outputs": [
    {
     "data": {
      "text/plain": [
       "{'1564708', '1652044', '1754301'}"
      ]
     },
     "execution_count": 75,
     "metadata": {},
     "output_type": "execute_result"
    }
   ],
   "source": [
    "set(non_unique_cik(df))\n"
   ]
  },
  {
   "cell_type": "code",
   "execution_count": 5,
   "metadata": {},
   "outputs": [],
   "source": [
    "string = \"Name of the Series. Will be used as a column name when used in a DataFrame. When not specified, name is set to an empty string.\""
   ]
  },
  {
   "cell_type": "code",
   "execution_count": 8,
   "metadata": {},
   "outputs": [
    {
     "data": {
      "text/html": [
       "<div><style>\n",
       ".dataframe > thead > tr,\n",
       ".dataframe > tbody > tr {\n",
       "  text-align: right;\n",
       "  white-space: pre-wrap;\n",
       "}\n",
       "</style>\n",
       "<small>shape: (26, 1)</small><table border=\"1\" class=\"dataframe\"><thead><tr><th>column_0</th></tr><tr><td>str</td></tr></thead><tbody><tr><td>&quot;Name&quot;</td></tr><tr><td>&quot;of&quot;</td></tr><tr><td>&quot;the&quot;</td></tr><tr><td>&quot;Series.&quot;</td></tr><tr><td>&quot;Will&quot;</td></tr><tr><td>&hellip;</td></tr><tr><td>&quot;set&quot;</td></tr><tr><td>&quot;to&quot;</td></tr><tr><td>&quot;an&quot;</td></tr><tr><td>&quot;empty&quot;</td></tr><tr><td>&quot;string.&quot;</td></tr></tbody></table></div>"
      ],
      "text/plain": [
       "shape: (26, 1)\n",
       "┌──────────┐\n",
       "│ column_0 │\n",
       "│ ---      │\n",
       "│ str      │\n",
       "╞══════════╡\n",
       "│ Name     │\n",
       "│ of       │\n",
       "│ the      │\n",
       "│ Series.  │\n",
       "│ Will     │\n",
       "│ …        │\n",
       "│ set      │\n",
       "│ to       │\n",
       "│ an       │\n",
       "│ empty    │\n",
       "│ string.  │\n",
       "└──────────┘"
      ]
     },
     "execution_count": 8,
     "metadata": {},
     "output_type": "execute_result"
    }
   ],
   "source": [
    "ser = pl.DataFrame(string.split())\n",
    "\n",
    "ser"
   ]
  }
 ],
 "metadata": {
  "kernelspec": {
   "display_name": "env",
   "language": "python",
   "name": "python3"
  },
  "language_info": {
   "codemirror_mode": {
    "name": "ipython",
    "version": 3
   },
   "file_extension": ".py",
   "mimetype": "text/x-python",
   "name": "python",
   "nbconvert_exporter": "python",
   "pygments_lexer": "ipython3",
   "version": "3.11.5"
  }
 },
 "nbformat": 4,
 "nbformat_minor": 2
}
