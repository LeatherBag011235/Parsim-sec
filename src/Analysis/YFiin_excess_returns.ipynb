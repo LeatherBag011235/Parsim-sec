{
 "cells": [
  {
   "cell_type": "code",
   "execution_count": 38,
   "metadata": {},
   "outputs": [],
   "source": [
    "import yfinance as yf\n",
    "import edgar\n",
    "import requests\n",
    "import time\n",
    "import pandas as pd"
   ]
  },
  {
   "cell_type": "code",
   "execution_count": 23,
   "metadata": {},
   "outputs": [
    {
     "data": {
      "text/plain": [
       "yfinance.Ticker object <MSFT>"
      ]
     },
     "execution_count": 23,
     "metadata": {},
     "output_type": "execute_result"
    }
   ],
   "source": [
    "msft = yf.Ticker(\"MSFT\")"
   ]
  },
  {
   "cell_type": "code",
   "execution_count": 26,
   "metadata": {},
   "outputs": [
    {
     "data": {
      "text/html": [
       "<div>\n",
       "<style scoped>\n",
       "    .dataframe tbody tr th:only-of-type {\n",
       "        vertical-align: middle;\n",
       "    }\n",
       "\n",
       "    .dataframe tbody tr th {\n",
       "        vertical-align: top;\n",
       "    }\n",
       "\n",
       "    .dataframe thead th {\n",
       "        text-align: right;\n",
       "    }\n",
       "</style>\n",
       "<table border=\"1\" class=\"dataframe\">\n",
       "  <thead>\n",
       "    <tr style=\"text-align: right;\">\n",
       "      <th></th>\n",
       "      <th>Open</th>\n",
       "      <th>High</th>\n",
       "      <th>Low</th>\n",
       "      <th>Close</th>\n",
       "      <th>Volume</th>\n",
       "      <th>Dividends</th>\n",
       "      <th>Stock Splits</th>\n",
       "    </tr>\n",
       "    <tr>\n",
       "      <th>Date</th>\n",
       "      <th></th>\n",
       "      <th></th>\n",
       "      <th></th>\n",
       "      <th></th>\n",
       "      <th></th>\n",
       "      <th></th>\n",
       "      <th></th>\n",
       "    </tr>\n",
       "  </thead>\n",
       "  <tbody>\n",
       "    <tr>\n",
       "      <th>2019-04-09 00:00:00-04:00</th>\n",
       "      <td>112.922994</td>\n",
       "      <td>113.789219</td>\n",
       "      <td>112.875403</td>\n",
       "      <td>113.541725</td>\n",
       "      <td>17612000</td>\n",
       "      <td>0.0</td>\n",
       "      <td>0.0</td>\n",
       "    </tr>\n",
       "    <tr>\n",
       "      <th>2019-04-10 00:00:00-04:00</th>\n",
       "      <td>113.998637</td>\n",
       "      <td>114.560250</td>\n",
       "      <td>113.789220</td>\n",
       "      <td>114.407951</td>\n",
       "      <td>16477200</td>\n",
       "      <td>0.0</td>\n",
       "      <td>0.0</td>\n",
       "    </tr>\n",
       "    <tr>\n",
       "      <th>2019-04-11 00:00:00-04:00</th>\n",
       "      <td>114.741095</td>\n",
       "      <td>115.036180</td>\n",
       "      <td>114.150919</td>\n",
       "      <td>114.541199</td>\n",
       "      <td>14209100</td>\n",
       "      <td>0.0</td>\n",
       "      <td>0.0</td>\n",
       "    </tr>\n",
       "    <tr>\n",
       "      <th>2019-04-12 00:00:00-04:00</th>\n",
       "      <td>114.836294</td>\n",
       "      <td>115.159941</td>\n",
       "      <td>114.579286</td>\n",
       "      <td>115.131378</td>\n",
       "      <td>19745100</td>\n",
       "      <td>0.0</td>\n",
       "      <td>0.0</td>\n",
       "    </tr>\n",
       "    <tr>\n",
       "      <th>2019-04-15 00:00:00-04:00</th>\n",
       "      <td>115.121854</td>\n",
       "      <td>115.731064</td>\n",
       "      <td>114.769651</td>\n",
       "      <td>115.226562</td>\n",
       "      <td>15792600</td>\n",
       "      <td>0.0</td>\n",
       "      <td>0.0</td>\n",
       "    </tr>\n",
       "    <tr>\n",
       "      <th>...</th>\n",
       "      <td>...</td>\n",
       "      <td>...</td>\n",
       "      <td>...</td>\n",
       "      <td>...</td>\n",
       "      <td>...</td>\n",
       "      <td>...</td>\n",
       "      <td>...</td>\n",
       "    </tr>\n",
       "    <tr>\n",
       "      <th>2024-04-02 00:00:00-04:00</th>\n",
       "      <td>420.109985</td>\n",
       "      <td>422.380005</td>\n",
       "      <td>417.839996</td>\n",
       "      <td>421.440002</td>\n",
       "      <td>17912000</td>\n",
       "      <td>0.0</td>\n",
       "      <td>0.0</td>\n",
       "    </tr>\n",
       "    <tr>\n",
       "      <th>2024-04-03 00:00:00-04:00</th>\n",
       "      <td>419.730011</td>\n",
       "      <td>423.260010</td>\n",
       "      <td>419.089996</td>\n",
       "      <td>420.450012</td>\n",
       "      <td>16502300</td>\n",
       "      <td>0.0</td>\n",
       "      <td>0.0</td>\n",
       "    </tr>\n",
       "    <tr>\n",
       "      <th>2024-04-04 00:00:00-04:00</th>\n",
       "      <td>424.989990</td>\n",
       "      <td>428.670013</td>\n",
       "      <td>417.570007</td>\n",
       "      <td>417.880005</td>\n",
       "      <td>19370900</td>\n",
       "      <td>0.0</td>\n",
       "      <td>0.0</td>\n",
       "    </tr>\n",
       "    <tr>\n",
       "      <th>2024-04-05 00:00:00-04:00</th>\n",
       "      <td>420.010010</td>\n",
       "      <td>426.510010</td>\n",
       "      <td>418.320007</td>\n",
       "      <td>425.519989</td>\n",
       "      <td>16544300</td>\n",
       "      <td>0.0</td>\n",
       "      <td>0.0</td>\n",
       "    </tr>\n",
       "    <tr>\n",
       "      <th>2024-04-08 00:00:00-04:00</th>\n",
       "      <td>425.170013</td>\n",
       "      <td>427.279999</td>\n",
       "      <td>423.299988</td>\n",
       "      <td>424.589996</td>\n",
       "      <td>14262100</td>\n",
       "      <td>0.0</td>\n",
       "      <td>0.0</td>\n",
       "    </tr>\n",
       "  </tbody>\n",
       "</table>\n",
       "<p>1258 rows × 7 columns</p>\n",
       "</div>"
      ],
      "text/plain": [
       "                                 Open        High         Low       Close  \\\n",
       "Date                                                                        \n",
       "2019-04-09 00:00:00-04:00  112.922994  113.789219  112.875403  113.541725   \n",
       "2019-04-10 00:00:00-04:00  113.998637  114.560250  113.789220  114.407951   \n",
       "2019-04-11 00:00:00-04:00  114.741095  115.036180  114.150919  114.541199   \n",
       "2019-04-12 00:00:00-04:00  114.836294  115.159941  114.579286  115.131378   \n",
       "2019-04-15 00:00:00-04:00  115.121854  115.731064  114.769651  115.226562   \n",
       "...                               ...         ...         ...         ...   \n",
       "2024-04-02 00:00:00-04:00  420.109985  422.380005  417.839996  421.440002   \n",
       "2024-04-03 00:00:00-04:00  419.730011  423.260010  419.089996  420.450012   \n",
       "2024-04-04 00:00:00-04:00  424.989990  428.670013  417.570007  417.880005   \n",
       "2024-04-05 00:00:00-04:00  420.010010  426.510010  418.320007  425.519989   \n",
       "2024-04-08 00:00:00-04:00  425.170013  427.279999  423.299988  424.589996   \n",
       "\n",
       "                             Volume  Dividends  Stock Splits  \n",
       "Date                                                          \n",
       "2019-04-09 00:00:00-04:00  17612000        0.0           0.0  \n",
       "2019-04-10 00:00:00-04:00  16477200        0.0           0.0  \n",
       "2019-04-11 00:00:00-04:00  14209100        0.0           0.0  \n",
       "2019-04-12 00:00:00-04:00  19745100        0.0           0.0  \n",
       "2019-04-15 00:00:00-04:00  15792600        0.0           0.0  \n",
       "...                             ...        ...           ...  \n",
       "2024-04-02 00:00:00-04:00  17912000        0.0           0.0  \n",
       "2024-04-03 00:00:00-04:00  16502300        0.0           0.0  \n",
       "2024-04-04 00:00:00-04:00  19370900        0.0           0.0  \n",
       "2024-04-05 00:00:00-04:00  16544300        0.0           0.0  \n",
       "2024-04-08 00:00:00-04:00  14262100        0.0           0.0  \n",
       "\n",
       "[1258 rows x 7 columns]"
      ]
     },
     "execution_count": 26,
     "metadata": {},
     "output_type": "execute_result"
    }
   ],
   "source": [
    "hist = msft.history(period=\"5y\")\n",
    "\n"
   ]
  },
  {
   "cell_type": "code",
   "execution_count": 56,
   "metadata": {},
   "outputs": [
    {
     "data": {
      "text/plain": [
       "469"
      ]
     },
     "execution_count": 56,
     "metadata": {},
     "output_type": "execute_result"
    }
   ],
   "source": [
    "hist.index.get_loc(\"2021-02-18\")"
   ]
  },
  {
   "cell_type": "code",
   "execution_count": 59,
   "metadata": {},
   "outputs": [],
   "source": [
    "dates = ['2020-01-06', '2021-02-15', '2022-03-10']\n"
   ]
  },
  {
   "cell_type": "code",
   "execution_count": 36,
   "metadata": {},
   "outputs": [
    {
     "data": {
      "text/plain": [
       "3.654182718254943"
      ]
     },
     "execution_count": 36,
     "metadata": {},
     "output_type": "execute_result"
    }
   ],
   "source": [
    "start_index = hist.index.get_loc(dat)\n",
    "start_price = hist.iloc[start_index]['Open']\n",
    "end_price = hist.iloc[start_index + 4]['Open']\n",
    "\n",
    "four_day_return = (end_price - start_price) / start_price * 100\n",
    "four_day_return\n"
   ]
  },
  {
   "cell_type": "code",
   "execution_count": 64,
   "metadata": {},
   "outputs": [
    {
     "name": "stdout",
     "output_type": "stream",
     "text": [
      "2021-02-15 00:00:00-05:00\n"
     ]
    },
    {
     "data": {
      "text/plain": [
       "{Timestamp('2020-01-06 00:00:00-0500', tz='America/New_York'): 3.654182718254943,\n",
       " Timestamp('2021-02-16 00:00:00-0500', tz='America/New_York'): -2.8825785484002777,\n",
       " Timestamp('2022-03-10 00:00:00-0500', tz='America/New_York'): 2.1518013532791707}"
      ]
     },
     "execution_count": 64,
     "metadata": {},
     "output_type": "execute_result"
    }
   ],
   "source": [
    "four_day_returns = {}\n",
    "\n",
    "for date_str in dates:\n",
    "\n",
    "    date = pd.Timestamp(date_str, tz='America/New_York')\n",
    "\n",
    "    while date not in hist.index:\n",
    "        print(date)\n",
    "        date += pd.Timedelta(days=1)\n",
    "\n",
    "    start_index = hist.index.get_loc(date)\n",
    "\n",
    "    start_price = hist.iloc[start_index]['Open']\n",
    "    end_price = hist.iloc[start_index + 4]['Open']\n",
    "    \n",
    "    four_day_return = (end_price - start_price) / start_price * 100\n",
    "    four_day_returns[date] = four_day_return\n",
    "\n",
    "four_day_returns\n"
   ]
  }
 ],
 "metadata": {
  "kernelspec": {
   "display_name": "env",
   "language": "python",
   "name": "python3"
  },
  "language_info": {
   "codemirror_mode": {
    "name": "ipython",
    "version": 3
   },
   "file_extension": ".py",
   "mimetype": "text/x-python",
   "name": "python",
   "nbconvert_exporter": "python",
   "pygments_lexer": "ipython3",
   "version": "3.11.5"
  }
 },
 "nbformat": 4,
 "nbformat_minor": 2
}
