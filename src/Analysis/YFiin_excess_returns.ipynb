{
 "cells": [
  {
   "cell_type": "code",
   "execution_count": 1,
   "metadata": {},
   "outputs": [],
   "source": [
    "import yfinance as yf\n",
    "import pandas as pd\n",
    "import polars as pl\n",
    "import os\n",
    "import re\n",
    "import urllib.parse\n",
    "from datetime import datetime\n",
    "import matplotlib.pyplot as plt\n",
    "import statsmodels.api as sm\n",
    "import math "
   ]
  },
  {
   "cell_type": "code",
   "execution_count": 2,
   "metadata": {},
   "outputs": [],
   "source": [
    "COMPANY_NAME_LIST = ['Apple%2520Inc.%2520(AAPL)%2520(CIK%25200000320193)', 'MICROSOFT%2520CORP%2520(MSFT)%2520(CIK%25200000789019)', \n",
    "                     'BigCommerce%2520Holdings%252C%2520Inc.%2520(BIGC)%2520(CIK%25200001626450)', 'ROKU%252C%2520INC%2520(ROKU)%2520(CIK%25200001428439)', \n",
    "                     'JPMORGAN%2520CHASE%2520%2526%2520CO%2520(JPM%252C%2520AMJ%252C%2520AMJB%252C%2520JPM)%2520(CIK%25200000019617)', 'VISA%2520INC.%2520(V)%2520(CIK%25200001403161)', \n",
    "                     'Block%252C%2520Inc.%2520(SQ%252C%2520BSQKZ)%2520(CIK%25200001512673)', 'Robinhood%2520Markets%252C%2520Inc.%2520(HOOD)%2520(CIK%25200001783879)', \n",
    "                     'JOHNSON%252C%252C%2520JOHNSON%2520(JNJ)%2520(CIK%25200000200406)', 'PFIZER%2520INC%2520(PFE)%2520(CIK%25200000078003)', \n",
    "                     'Moderna%252C%2520Inc.%2520(MRNA)%2520(CIK%25200001682852)', 'Teladoc%2520Health%252C%2520Inc.%2520(TDOC)%2520(CIK%25200001477449)', \n",
    "                     'EXXON%2520MOBIL%2520CORP%2520(XOM)%2520(CIK%25200000034088)', 'CHEVRON%2520CORP%2520(CVX)%2520(CIK%25200000093410)', \n",
    "                     'FIRST%2520SOLAR%252C%2520INC.%2520(FSLR)%2520(CIK%25200001274494)', 'PLUG%2520POWER%2520INC%2520(PLUG)%2520(CIK%25200001093691)', \n",
    "                     'GENERAL%252CELECTRIC%2520CO%2520(GE)%2520(CIK%25200000040545)', '3M%2520CO%2520(MMM)%2520(CIK%25200000066740)', \n",
    "                     'CATERPILLAR%2520INC%2520(CAT)%2520(CIK%25200000018230)', 'FASTENAL%2520CO%2520(FAST)%2520(CIK%25200000815556)']"
   ]
  },
  {
   "cell_type": "markdown",
   "metadata": {},
   "source": [
    "Collect scores from hard memory"
   ]
  },
  {
   "cell_type": "code",
   "execution_count": 3,
   "metadata": {},
   "outputs": [],
   "source": [
    "df_dict_scores = {}\n",
    "regex = r\"\\\\([^\\\\]+)_full_doc_sen_score_df\\.parquet$\"\n",
    "\n",
    "for root, dirs, files in os.walk(r'C:\\Users\\310\\Desktop\\Progects_Py\\Parsim-sec\\src\\Analysis\\data\\full_10_Q_scores'):\n",
    "    for file in files:\n",
    "            \n",
    "            file_path = os.path.join(root, file)\n",
    "            ticker = re.search(regex, file_path).group(1)\n",
    "            \n",
    "            df = pl.read_parquet(file_path)\n",
    "\n",
    "            df_dict_scores[ticker] = df "
   ]
  },
  {
   "cell_type": "code",
   "execution_count": 4,
   "metadata": {},
   "outputs": [
    {
     "data": {
      "text/html": [
       "<div><style>\n",
       ".dataframe > thead > tr,\n",
       ".dataframe > tbody > tr {\n",
       "  text-align: right;\n",
       "  white-space: pre-wrap;\n",
       "}\n",
       "</style>\n",
       "<small>shape: (4, 21)</small><table border=\"1\" class=\"dataframe\"><thead><tr><th>2019-04-30</th><th>2019-07-31</th><th>2019-10-30</th><th>2020-02-24</th><th>2020-04-29</th><th>2020-07-29</th><th>2020-10-28</th><th>2021-02-12</th><th>2021-04-27</th><th>2021-07-27</th><th>2021-10-26</th><th>2022-02-11</th><th>2022-04-26</th><th>2022-07-26</th><th>2022-10-25</th><th>2023-02-10</th><th>2023-04-25</th><th>2023-07-25</th><th>2023-10-24</th><th>2024-02-02</th><th>2024-04-23</th></tr><tr><td>f64</td><td>f64</td><td>f64</td><td>f64</td><td>f64</td><td>f64</td><td>f64</td><td>f64</td><td>f64</td><td>f64</td><td>f64</td><td>f64</td><td>f64</td><td>f64</td><td>f64</td><td>f64</td><td>f64</td><td>f64</td><td>f64</td><td>f64</td><td>f64</td></tr></thead><tbody><tr><td>-12.849008</td><td>-10.494805</td><td>-14.107974</td><td>-30.133511</td><td>-13.439952</td><td>-12.999193</td><td>-14.971735</td><td>-35.735787</td><td>-10.841224</td><td>-10.056447</td><td>-8.511603</td><td>-30.035251</td><td>-3.151193</td><td>-2.180779</td><td>-4.783131</td><td>-26.817862</td><td>-4.257227</td><td>-5.295587</td><td>-3.992991</td><td>-29.066429</td><td>-20.433151</td></tr><tr><td>-84.0</td><td>-68.0</td><td>-77.0</td><td>-168.0</td><td>-81.0</td><td>-73.0</td><td>-84.0</td><td>-195.0</td><td>-73.0</td><td>-65.0</td><td>-55.0</td><td>-169.0</td><td>-40.0</td><td>-28.0</td><td>-38.0</td><td>-160.0</td><td>-35.0</td><td>-43.0</td><td>-38.0</td><td>-161.0</td><td>-121.0</td></tr><tr><td>-0.367816</td><td>-0.335992</td><td>-0.348473</td><td>-0.29972</td><td>-0.366922</td><td>-0.363445</td><td>-0.350427</td><td>-0.325886</td><td>-0.354839</td><td>-0.307278</td><td>-0.264813</td><td>-0.282203</td><td>-0.256506</td><td>-0.23964</td><td>-0.295455</td><td>-0.298453</td><td>-0.230088</td><td>-0.289176</td><td>-0.244094</td><td>-0.27239</td><td>-0.361179</td></tr><tr><td>0.457193</td><td>0.434381</td><td>0.430875</td><td>0.445714</td><td>0.463025</td><td>0.404468</td><td>0.414253</td><td>0.446668</td><td>0.456579</td><td>0.441176</td><td>0.443396</td><td>0.439415</td><td>0.40296</td><td>0.387564</td><td>0.37332</td><td>0.429854</td><td>0.469191</td><td>0.416539</td><td>0.409936</td><td>0.437905</td><td>0.408483</td></tr></tbody></table></div>"
      ],
      "text/plain": [
       "shape: (4, 21)\n",
       "┌───────────┬───────────┬───────────┬───────────┬───┬───────────┬───────────┬───────────┬──────────┐\n",
       "│ 2019-04-3 ┆ 2019-07-3 ┆ 2019-10-3 ┆ 2020-02-2 ┆ … ┆ 2023-07-2 ┆ 2023-10-2 ┆ 2024-02-0 ┆ 2024-04- │\n",
       "│ 0         ┆ 1         ┆ 0         ┆ 4         ┆   ┆ 5         ┆ 4         ┆ 2         ┆ 23       │\n",
       "│ ---       ┆ ---       ┆ ---       ┆ ---       ┆   ┆ ---       ┆ ---       ┆ ---       ┆ ---      │\n",
       "│ f64       ┆ f64       ┆ f64       ┆ f64       ┆   ┆ f64       ┆ f64       ┆ f64       ┆ f64      │\n",
       "╞═══════════╪═══════════╪═══════════╪═══════════╪═══╪═══════════╪═══════════╪═══════════╪══════════╡\n",
       "│ -12.84900 ┆ -10.49480 ┆ -14.10797 ┆ -30.13351 ┆ … ┆ -5.295587 ┆ -3.992991 ┆ -29.06642 ┆ -20.4331 │\n",
       "│ 8         ┆ 5         ┆ 4         ┆ 1         ┆   ┆           ┆           ┆ 9         ┆ 51       │\n",
       "│ -84.0     ┆ -68.0     ┆ -77.0     ┆ -168.0    ┆ … ┆ -43.0     ┆ -38.0     ┆ -161.0    ┆ -121.0   │\n",
       "│ -0.367816 ┆ -0.335992 ┆ -0.348473 ┆ -0.29972  ┆ … ┆ -0.289176 ┆ -0.244094 ┆ -0.27239  ┆ -0.36117 │\n",
       "│           ┆           ┆           ┆           ┆   ┆           ┆           ┆           ┆ 9        │\n",
       "│ 0.457193  ┆ 0.434381  ┆ 0.430875  ┆ 0.445714  ┆ … ┆ 0.416539  ┆ 0.409936  ┆ 0.437905  ┆ 0.408483 │\n",
       "└───────────┴───────────┴───────────┴───────────┴───┴───────────┴───────────┴───────────┴──────────┘"
      ]
     },
     "execution_count": 4,
     "metadata": {},
     "output_type": "execute_result"
    }
   ],
   "source": [
    "df = df_dict_scores[\"GE\"]\n",
    "tic_sym = \"GE\"\n",
    "df"
   ]
  },
  {
   "cell_type": "markdown",
   "metadata": {},
   "source": [
    "This is support func to find end prices and their dates. It takes as an arguments starting index, which is the nuber of row of hist dataframe and this hist dataframe itself. Hist dataframe contain daily OHLC data for particular ticker (company). \n",
    "\n",
    "It also cheks wether index of end price is in hist, meaning that if this particular report was released very resently (less then 8 trading days ago) it will append none values for end prices out of range of hist df instead of raising an error.\n",
    "\n",
    "It returns lists of end prices and corresponding dates (none values for prices and their dates, if they are out of range of hist df)."
   ]
  },
  {
   "cell_type": "code",
   "execution_count": 5,
   "metadata": {},
   "outputs": [],
   "source": [
    "def find_end_price(start_index, hist):\n",
    "    end_price_list = []\n",
    "    end_price_date_list = []\n",
    "    \n",
    "    for x in range(2, 8):\n",
    "        idx = start_index + x\n",
    "        if idx < len(hist):\n",
    "            end_price_list.append(hist.iloc[idx]['Open'])\n",
    "            end_price_date_list.append(hist.index[idx])\n",
    "        else:\n",
    "            end_price_list.append(None)\n",
    "            end_price_date_list.append(None)\n",
    "    return end_price_list, end_price_date_list"
   ]
  },
  {
   "cell_type": "markdown",
   "metadata": {},
   "source": [
    "This is support func to calc the regular returns. It takes start price and end_price_list as an arguments. It checks whether value in end price list is none and if it is, it appends none in returns list, instead of raising an error. So we are shure that all end price lists are of the same length, but for those prices that are not found in historical data we have none values for returns."
   ]
  },
  {
   "cell_type": "code",
   "execution_count": 6,
   "metadata": {},
   "outputs": [],
   "source": [
    "def regular_returns(start_price, end_price_list):\n",
    "    retuns = []\n",
    "    for end_price in end_price_list:\n",
    "        if end_price is None:\n",
    "            retuns.append(None)\n",
    "        else:\n",
    "            ret = (end_price - start_price) / start_price * 100\n",
    "            retuns.append(ret)\n",
    "    return retuns"
   ]
  },
  {
   "cell_type": "markdown",
   "metadata": {},
   "source": [
    "This is the support func that calc SnP500 returns. It takes_start date and end_price_date_list as and arguments and then calculate returns for this timeframes. This func also checks whether value of end_price_date_list is none (meaning that it is not found in historical data), and if it is, func will append none instead of raising an error.\n",
    "\n",
    "Now we are shure that list of snp_returns will be of equal length for all report release dates and all time frames, but for those returns that cannot be calculates due to non existent end prices we will have nones "
   ]
  },
  {
   "cell_type": "code",
   "execution_count": 96,
   "metadata": {},
   "outputs": [],
   "source": [
    "def snp_500_return(start_date, end_price_date_list, snp_price):\n",
    "\n",
    "    snp_returns = []\n",
    "\n",
    "    for end_date in end_price_date_list:\n",
    "        if end_date is None:\n",
    "            snp_returns.append(None)\n",
    "\n",
    "        else: \n",
    "            start_index = snp_price.index.get_loc(start_date)\n",
    "            start_price = snp_price.iloc[start_index]['Open']\n",
    "    \n",
    "            end_index = snp_price.index.get_loc(end_date)\n",
    "            end_price = snp_price.iloc[end_index]['Open']\n",
    "    \n",
    "            ret = (end_price - start_price) / start_price * 100\n",
    "            \n",
    "            snp_returns.append(ret)\n",
    "\n",
    "    return snp_returns"
   ]
  },
  {
   "cell_type": "markdown",
   "metadata": {},
   "source": [
    "This is suppurt function that retrive the end quarter price. It take as an argument hist - historical price dataframe, date_str - the date of release of this particular report, df - company dataframe, with cols named with dates of releases of corresponding reports.\n",
    "\n",
    "It takes the release date for current report and checks whether it is the last date in time series or not. If it is (this mean that we are are realy close to the end of hist df) we consider the end of hist df as the end of quarter. if it is not, we take next date in company df (which is the date of releas of the next quarterly report) and see its open price, this is pricisely the end of the quarter."
   ]
  },
  {
   "cell_type": "code",
   "execution_count": 122,
   "metadata": {},
   "outputs": [],
   "source": [
    "def find_end_quarter(hist, date_str, df):\n",
    "\n",
    "    col_names = df.columns\n",
    "    current_date_index = col_names.index(date_str)\n",
    "\n",
    "    if current_date_index < len(col_names) - 1:\n",
    "\n",
    "        next_date = col_names[current_date_index + 1]\n",
    "\n",
    "        next_date_time_stemp = pd.Timestamp(next_date, tz='America/New_York')\n",
    "\n",
    "        while next_date_time_stemp not in hist.index:\n",
    "\n",
    "            next_date_time_stemp += pd.Timedelta(days=1)\n",
    "    \n",
    "        end_quarter_index = hist.index.get_loc(next_date_time_stemp)\n",
    "        end_quarter_price = hist.iloc[end_quarter_index]['Open']\n",
    "        end_quarter_date = hist.index[end_quarter_index]\n",
    "        \n",
    "        current_date_time_stemp = pd.Timestamp(date_str, tz='America/New_York')\n",
    "\n",
    "        if current_date_time_stemp in hist.index:\n",
    "\n",
    "            start_quarter_index = hist.index.get_loc(current_date_time_stemp)\n",
    "        else:\n",
    "            print('cannot find in index')\n",
    "            print(f'current_date_time_stemp: {current_date_time_stemp}')\n",
    "            first_date = hist.index[0]\n",
    "            print(f'firts date: {first_date}')\n",
    "\n",
    "        quarter_length = end_quarter_index - start_quarter_index\n",
    "\n",
    "    else:\n",
    "        end_quarter_price = None\n",
    "        end_quarter_date = None\n",
    "        quarter_length = None\n",
    "    \n",
    "\n",
    "    return end_quarter_price, end_quarter_date, quarter_length"
   ]
  },
  {
   "cell_type": "markdown",
   "metadata": {},
   "source": [
    "This is a func that takes as an input a key-value pair from df_dict_scores and calculate 2-days, 3-days, 4-days, 5-days, 6-days, 7-days and full quarter excess returns for it (S&P500 is the benchmark). It stores the result as a polars df with dates of starting of the period as col names and corresponding returns as col values (seven in each: starting from 2-days down to 7-days and full quarter) - "
   ]
  },
  {
   "cell_type": "code",
   "execution_count": 77,
   "metadata": {},
   "outputs": [
    {
     "data": {
      "text/html": [
       "<div>\n",
       "<style scoped>\n",
       "    .dataframe tbody tr th:only-of-type {\n",
       "        vertical-align: middle;\n",
       "    }\n",
       "\n",
       "    .dataframe tbody tr th {\n",
       "        vertical-align: top;\n",
       "    }\n",
       "\n",
       "    .dataframe thead th {\n",
       "        text-align: right;\n",
       "    }\n",
       "</style>\n",
       "<table border=\"1\" class=\"dataframe\">\n",
       "  <thead>\n",
       "    <tr style=\"text-align: right;\">\n",
       "      <th></th>\n",
       "      <th>Open</th>\n",
       "      <th>High</th>\n",
       "      <th>Low</th>\n",
       "      <th>Close</th>\n",
       "      <th>Volume</th>\n",
       "      <th>Dividends</th>\n",
       "      <th>Stock Splits</th>\n",
       "    </tr>\n",
       "    <tr>\n",
       "      <th>Date</th>\n",
       "      <th></th>\n",
       "      <th></th>\n",
       "      <th></th>\n",
       "      <th></th>\n",
       "      <th></th>\n",
       "      <th></th>\n",
       "      <th></th>\n",
       "    </tr>\n",
       "  </thead>\n",
       "  <tbody>\n",
       "    <tr>\n",
       "      <th>2018-05-03 00:00:00-04:00</th>\n",
       "      <td>56.849135</td>\n",
       "      <td>57.012859</td>\n",
       "      <td>56.112383</td>\n",
       "      <td>56.960766</td>\n",
       "      <td>12243100</td>\n",
       "      <td>0.0</td>\n",
       "      <td>0.0</td>\n",
       "    </tr>\n",
       "    <tr>\n",
       "      <th>2018-05-04 00:00:00-04:00</th>\n",
       "      <td>56.655634</td>\n",
       "      <td>57.466811</td>\n",
       "      <td>56.514241</td>\n",
       "      <td>57.228668</td>\n",
       "      <td>9887200</td>\n",
       "      <td>0.0</td>\n",
       "      <td>0.0</td>\n",
       "    </tr>\n",
       "    <tr>\n",
       "      <th>2018-05-07 00:00:00-04:00</th>\n",
       "      <td>57.853790</td>\n",
       "      <td>58.851016</td>\n",
       "      <td>57.600766</td>\n",
       "      <td>57.853790</td>\n",
       "      <td>15071500</td>\n",
       "      <td>0.0</td>\n",
       "      <td>0.0</td>\n",
       "    </tr>\n",
       "    <tr>\n",
       "      <th>2018-05-08 00:00:00-04:00</th>\n",
       "      <td>57.898457</td>\n",
       "      <td>58.166368</td>\n",
       "      <td>56.834257</td>\n",
       "      <td>58.114269</td>\n",
       "      <td>17430400</td>\n",
       "      <td>0.0</td>\n",
       "      <td>0.0</td>\n",
       "    </tr>\n",
       "    <tr>\n",
       "      <th>2018-05-09 00:00:00-04:00</th>\n",
       "      <td>58.776598</td>\n",
       "      <td>59.714280</td>\n",
       "      <td>58.754267</td>\n",
       "      <td>59.483582</td>\n",
       "      <td>17142100</td>\n",
       "      <td>0.0</td>\n",
       "      <td>0.0</td>\n",
       "    </tr>\n",
       "    <tr>\n",
       "      <th>...</th>\n",
       "      <td>...</td>\n",
       "      <td>...</td>\n",
       "      <td>...</td>\n",
       "      <td>...</td>\n",
       "      <td>...</td>\n",
       "      <td>...</td>\n",
       "      <td>...</td>\n",
       "    </tr>\n",
       "    <tr>\n",
       "      <th>2024-04-29 00:00:00-04:00</th>\n",
       "      <td>117.760002</td>\n",
       "      <td>120.050003</td>\n",
       "      <td>117.760002</td>\n",
       "      <td>119.639999</td>\n",
       "      <td>17309900</td>\n",
       "      <td>0.0</td>\n",
       "      <td>0.0</td>\n",
       "    </tr>\n",
       "    <tr>\n",
       "      <th>2024-04-30 00:00:00-04:00</th>\n",
       "      <td>119.110001</td>\n",
       "      <td>120.199997</td>\n",
       "      <td>117.980003</td>\n",
       "      <td>118.269997</td>\n",
       "      <td>21083300</td>\n",
       "      <td>0.0</td>\n",
       "      <td>0.0</td>\n",
       "    </tr>\n",
       "    <tr>\n",
       "      <th>2024-05-01 00:00:00-04:00</th>\n",
       "      <td>118.279999</td>\n",
       "      <td>118.470001</td>\n",
       "      <td>115.660004</td>\n",
       "      <td>116.029999</td>\n",
       "      <td>27777700</td>\n",
       "      <td>0.0</td>\n",
       "      <td>0.0</td>\n",
       "    </tr>\n",
       "    <tr>\n",
       "      <th>2024-05-02 00:00:00-04:00</th>\n",
       "      <td>116.260002</td>\n",
       "      <td>117.260002</td>\n",
       "      <td>115.900002</td>\n",
       "      <td>116.239998</td>\n",
       "      <td>25511000</td>\n",
       "      <td>0.0</td>\n",
       "      <td>0.0</td>\n",
       "    </tr>\n",
       "    <tr>\n",
       "      <th>2024-05-03 00:00:00-04:00</th>\n",
       "      <td>116.000000</td>\n",
       "      <td>115.949997</td>\n",
       "      <td>114.129997</td>\n",
       "      <td>115.500000</td>\n",
       "      <td>11685165</td>\n",
       "      <td>0.0</td>\n",
       "      <td>0.0</td>\n",
       "    </tr>\n",
       "  </tbody>\n",
       "</table>\n",
       "<p>1511 rows × 7 columns</p>\n",
       "</div>"
      ],
      "text/plain": [
       "                                 Open        High         Low       Close  \\\n",
       "Date                                                                        \n",
       "2018-05-03 00:00:00-04:00   56.849135   57.012859   56.112383   56.960766   \n",
       "2018-05-04 00:00:00-04:00   56.655634   57.466811   56.514241   57.228668   \n",
       "2018-05-07 00:00:00-04:00   57.853790   58.851016   57.600766   57.853790   \n",
       "2018-05-08 00:00:00-04:00   57.898457   58.166368   56.834257   58.114269   \n",
       "2018-05-09 00:00:00-04:00   58.776598   59.714280   58.754267   59.483582   \n",
       "...                               ...         ...         ...         ...   \n",
       "2024-04-29 00:00:00-04:00  117.760002  120.050003  117.760002  119.639999   \n",
       "2024-04-30 00:00:00-04:00  119.110001  120.199997  117.980003  118.269997   \n",
       "2024-05-01 00:00:00-04:00  118.279999  118.470001  115.660004  116.029999   \n",
       "2024-05-02 00:00:00-04:00  116.260002  117.260002  115.900002  116.239998   \n",
       "2024-05-03 00:00:00-04:00  116.000000  115.949997  114.129997  115.500000   \n",
       "\n",
       "                             Volume  Dividends  Stock Splits  \n",
       "Date                                                          \n",
       "2018-05-03 00:00:00-04:00  12243100        0.0           0.0  \n",
       "2018-05-04 00:00:00-04:00   9887200        0.0           0.0  \n",
       "2018-05-07 00:00:00-04:00  15071500        0.0           0.0  \n",
       "2018-05-08 00:00:00-04:00  17430400        0.0           0.0  \n",
       "2018-05-09 00:00:00-04:00  17142100        0.0           0.0  \n",
       "...                             ...        ...           ...  \n",
       "2024-04-29 00:00:00-04:00  17309900        0.0           0.0  \n",
       "2024-04-30 00:00:00-04:00  21083300        0.0           0.0  \n",
       "2024-05-01 00:00:00-04:00  27777700        0.0           0.0  \n",
       "2024-05-02 00:00:00-04:00  25511000        0.0           0.0  \n",
       "2024-05-03 00:00:00-04:00  11685165        0.0           0.0  \n",
       "\n",
       "[1511 rows x 7 columns]"
      ]
     },
     "execution_count": 77,
     "metadata": {},
     "output_type": "execute_result"
    }
   ],
   "source": [
    "company_ticker = yf.Ticker(tic_sym)\n",
    "hist = company_ticker.history(period=\"6y\")\n",
    "hist"
   ]
  },
  {
   "cell_type": "code",
   "execution_count": 123,
   "metadata": {},
   "outputs": [],
   "source": [
    "def computing_returns(tic_sym, df):\n",
    "\n",
    "    company_ticker = yf.Ticker(tic_sym)\n",
    "    hist = company_ticker.history(period=\"6y\")\n",
    "\n",
    "    snp500_ticker = yf.Ticker(\"^GSPC\")\n",
    "    snp_price = snp500_ticker.history(period=\"6y\", auto_adjust=True)\n",
    "    \n",
    "    returns = {}\n",
    "\n",
    "    for date_str in df.columns:\n",
    "\n",
    "        start_date = pd.Timestamp(date_str, tz='America/New_York')\n",
    "        \n",
    "        while start_date not in hist.index:\n",
    "\n",
    "            start_date += pd.Timedelta(days=1)\n",
    "        \n",
    "\n",
    "        start_index = hist.index.get_loc(start_date)\n",
    "\n",
    "        start_price = hist.iloc[start_index]['Open']\n",
    "\n",
    "        end_price_list, end_price_date_list = find_end_price(start_index, hist)\n",
    "        \n",
    "        if None not in end_price_list:\n",
    "            end_quarter_price, end_quarter_date, length_of_quarter = find_end_quarter(hist, date_str, df)\n",
    "            \n",
    "        else:\n",
    "            end_quarter_price = None\n",
    "            end_quarter_date = None\n",
    "\n",
    "        \n",
    "        end_price_list.append(end_quarter_price)\n",
    "        end_price_date_list.append(end_quarter_date)\n",
    "        \n",
    "        reg_returns = regular_returns(start_price, end_price_list)\n",
    "        snp_returns = snp_500_return(start_date, end_price_date_list, snp_price)\n",
    "        \n",
    "        excess_returns = [a - b if a is not None and b is not None else None for a, b in zip(reg_returns, snp_returns)]\n",
    "        \n",
    "        #normalization: divide returns for each time frame by number of trading days (2-days returns/2, 3-days returns/3, ful quarter returns/length_of_quarter)\n",
    "        timeframe_length = [2, 3, 4, 5, 6, 7, length_of_quarter]\n",
    "\n",
    "        normalized_excess_returns = [x / y if x is not None and y is not None else None for x, y in zip(excess_returns, timeframe_length)]\n",
    "\n",
    "        returns[date_str] = normalized_excess_returns\n",
    "\n",
    "    returns = pl.DataFrame(returns)\n",
    "    \n",
    "    return returns\n"
   ]
  },
  {
   "cell_type": "code",
   "execution_count": 124,
   "metadata": {},
   "outputs": [
    {
     "data": {
      "text/html": [
       "<div><style>\n",
       ".dataframe > thead > tr,\n",
       ".dataframe > tbody > tr {\n",
       "  text-align: right;\n",
       "  white-space: pre-wrap;\n",
       "}\n",
       "</style>\n",
       "<small>shape: (7, 21)</small><table border=\"1\" class=\"dataframe\"><thead><tr><th>2019-05-10</th><th>2019-08-09</th><th>2019-11-08</th><th>2020-03-02</th><th>2020-05-11</th><th>2020-08-07</th><th>2020-11-06</th><th>2021-02-26</th><th>2021-05-07</th><th>2021-08-05</th><th>2021-11-04</th><th>2022-02-18</th><th>2022-04-29</th><th>2022-07-29</th><th>2022-11-03</th><th>2023-02-16</th><th>2023-04-27</th><th>2023-07-28</th><th>2023-11-02</th><th>2024-02-16</th><th>2024-04-26</th></tr><tr><td>f64</td><td>f64</td><td>f64</td><td>f64</td><td>f64</td><td>f64</td><td>f64</td><td>f64</td><td>f64</td><td>f64</td><td>f64</td><td>f64</td><td>f64</td><td>f64</td><td>f64</td><td>f64</td><td>f64</td><td>f64</td><td>f64</td><td>f64</td><td>f64</td></tr></thead><tbody><tr><td>-0.066486</td><td>7.199109</td><td>4.433456</td><td>-3.573965</td><td>2.154427</td><td>-2.127117</td><td>-2.22444</td><td>3.584332</td><td>-4.348184</td><td>1.244126</td><td>-2.162784</td><td>8.167621</td><td>3.768748</td><td>2.898656</td><td>5.594109</td><td>0.917385</td><td>0.391426</td><td>13.54793</td><td>8.302339</td><td>-6.072595</td><td>-0.690338</td></tr><tr><td>0.761594</td><td>3.34606</td><td>4.241234</td><td>-3.240711</td><td>-0.622498</td><td>-0.801248</td><td>-2.778582</td><td>0.096227</td><td>-1.075392</td><td>1.338279</td><td>-1.722343</td><td>3.797046</td><td>2.9988</td><td>4.516579</td><td>3.546743</td><td>-0.541649</td><td>0.173504</td><td>9.088935</td><td>5.411547</td><td>-5.208872</td><td>-1.529</td></tr><tr><td>0.243619</td><td>3.031549</td><td>4.704801</td><td>-2.242683</td><td>-1.106459</td><td>-1.190085</td><td>-0.890347</td><td>-1.484804</td><td>0.226017</td><td>-0.505038</td><td>-0.976117</td><td>7.236799</td><td>2.829478</td><td>4.416821</td><td>2.605792</td><td>0.775873</td><td>-0.055497</td><td>5.029692</td><td>3.75825</td><td>-4.822562</td><td>-0.435544</td></tr><tr><td>0.153386</td><td>1.971781</td><td>5.279909</td><td>-3.498761</td><td>-1.667156</td><td>-0.637483</td><td>-0.54029</td><td>-1.441124</td><td>-0.10645</td><td>-0.745283</td><td>-0.950276</td><td>6.191821</td><td>1.664381</td><td>3.954146</td><td>2.582257</td><td>-0.7329</td><td>-0.674083</td><td>3.85748</td><td>3.117556</td><td>-3.499166</td><td>0.04103</td></tr><tr><td>0.491063</td><td>1.548035</td><td>5.128887</td><td>-1.181373</td><td>-1.009261</td><td>-0.924477</td><td>-1.41011</td><td>-1.888611</td><td>-0.282764</td><td>-0.760921</td><td>-0.959941</td><td>5.252193</td><td>0.250697</td><td>3.225065</td><td>2.153945</td><td>-0.907621</td><td>-0.379114</td><td>2.920602</td><td>1.902359</td><td>-3.181985</td><td>null</td></tr><tr><td>0.388512</td><td>1.552224</td><td>3.890547</td><td>-1.649719</td><td>-0.932055</td><td>-0.862313</td><td>-0.596215</td><td>-1.611385</td><td>-0.194526</td><td>-1.111217</td><td>-0.760051</td><td>4.37426</td><td>-0.194589</td><td>3.198542</td><td>4.064908</td><td>-0.890636</td><td>-0.179768</td><td>2.406981</td><td>1.528633</td><td>-2.695267</td><td>null</td></tr><tr><td>0.731888</td><td>-0.112972</td><td>0.004727</td><td>0.208764</td><td>0.144788</td><td>0.746176</td><td>0.752143</td><td>-0.558934</td><td>0.224551</td><td>-0.467129</td><td>-0.78653</td><td>-0.119845</td><td>-0.448883</td><td>-0.347709</td><td>0.623329</td><td>-0.411035</td><td>0.392668</td><td>0.015032</td><td>-0.128479</td><td>-0.461727</td><td>null</td></tr></tbody></table></div>"
      ],
      "text/plain": [
       "shape: (7, 21)\n",
       "┌───────────┬───────────┬───────────┬───────────┬───┬───────────┬───────────┬───────────┬──────────┐\n",
       "│ 2019-05-1 ┆ 2019-08-0 ┆ 2019-11-0 ┆ 2020-03-0 ┆ … ┆ 2023-07-2 ┆ 2023-11-0 ┆ 2024-02-1 ┆ 2024-04- │\n",
       "│ 0         ┆ 9         ┆ 8         ┆ 2         ┆   ┆ 8         ┆ 2         ┆ 6         ┆ 26       │\n",
       "│ ---       ┆ ---       ┆ ---       ┆ ---       ┆   ┆ ---       ┆ ---       ┆ ---       ┆ ---      │\n",
       "│ f64       ┆ f64       ┆ f64       ┆ f64       ┆   ┆ f64       ┆ f64       ┆ f64       ┆ f64      │\n",
       "╞═══════════╪═══════════╪═══════════╪═══════════╪═══╪═══════════╪═══════════╪═══════════╪══════════╡\n",
       "│ -0.066486 ┆ 7.199109  ┆ 4.433456  ┆ -3.573965 ┆ … ┆ 13.54793  ┆ 8.302339  ┆ -6.072595 ┆ -0.69033 │\n",
       "│           ┆           ┆           ┆           ┆   ┆           ┆           ┆           ┆ 8        │\n",
       "│ 0.761594  ┆ 3.34606   ┆ 4.241234  ┆ -3.240711 ┆ … ┆ 9.088935  ┆ 5.411547  ┆ -5.208872 ┆ -1.529   │\n",
       "│ 0.243619  ┆ 3.031549  ┆ 4.704801  ┆ -2.242683 ┆ … ┆ 5.029692  ┆ 3.75825   ┆ -4.822562 ┆ -0.43554 │\n",
       "│           ┆           ┆           ┆           ┆   ┆           ┆           ┆           ┆ 4        │\n",
       "│ 0.153386  ┆ 1.971781  ┆ 5.279909  ┆ -3.498761 ┆ … ┆ 3.85748   ┆ 3.117556  ┆ -3.499166 ┆ 0.04103  │\n",
       "│ 0.491063  ┆ 1.548035  ┆ 5.128887  ┆ -1.181373 ┆ … ┆ 2.920602  ┆ 1.902359  ┆ -3.181985 ┆ null     │\n",
       "│ 0.388512  ┆ 1.552224  ┆ 3.890547  ┆ -1.649719 ┆ … ┆ 2.406981  ┆ 1.528633  ┆ -2.695267 ┆ null     │\n",
       "│ 0.731888  ┆ -0.112972 ┆ 0.004727  ┆ 0.208764  ┆ … ┆ 0.015032  ┆ -0.128479 ┆ -0.461727 ┆ null     │\n",
       "└───────────┴───────────┴───────────┴───────────┴───┴───────────┴───────────┴───────────┴──────────┘"
      ]
     },
     "execution_count": 124,
     "metadata": {},
     "output_type": "execute_result"
    }
   ],
   "source": [
    "computing_returns(tic_sym, df)"
   ]
  },
  {
   "cell_type": "code",
   "execution_count": 38,
   "metadata": {},
   "outputs": [
    {
     "data": {
      "text/html": [
       "<div><style>\n",
       ".dataframe > thead > tr,\n",
       ".dataframe > tbody > tr {\n",
       "  text-align: right;\n",
       "  white-space: pre-wrap;\n",
       "}\n",
       "</style>\n",
       "<small>shape: (4, 21)</small><table border=\"1\" class=\"dataframe\"><thead><tr><th>2019-05-10</th><th>2019-08-09</th><th>2019-11-08</th><th>2020-03-02</th><th>2020-05-11</th><th>2020-08-07</th><th>2020-11-06</th><th>2021-02-26</th><th>2021-05-07</th><th>2021-08-05</th><th>2021-11-04</th><th>2022-02-18</th><th>2022-04-29</th><th>2022-07-29</th><th>2022-11-03</th><th>2023-02-16</th><th>2023-04-27</th><th>2023-07-28</th><th>2023-11-02</th><th>2024-02-16</th><th>2024-04-26</th></tr><tr><td>f64</td><td>f64</td><td>f64</td><td>f64</td><td>f64</td><td>f64</td><td>f64</td><td>f64</td><td>f64</td><td>f64</td><td>f64</td><td>f64</td><td>f64</td><td>f64</td><td>f64</td><td>f64</td><td>f64</td><td>f64</td><td>f64</td><td>f64</td><td>f64</td></tr></thead><tbody><tr><td>-27.295226</td><td>-26.769276</td><td>-27.194249</td><td>-28.559457</td><td>-33.156006</td><td>-34.871952</td><td>-34.746064</td><td>-32.90677</td><td>-36.729215</td><td>-36.477945</td><td>-36.595384</td><td>-30.815151</td><td>-34.560856</td><td>-37.275143</td><td>-37.896232</td><td>-33.891065</td><td>-38.898848</td><td>-38.186708</td><td>-38.393132</td><td>-38.267797</td><td>-39.034612</td></tr><tr><td>-164.0</td><td>-160.0</td><td>-162.0</td><td>-173.0</td><td>-192.0</td><td>-202.0</td><td>-200.0</td><td>-192.0</td><td>-201.0</td><td>-202.0</td><td>-200.0</td><td>-177.0</td><td>-184.0</td><td>-193.0</td><td>-196.0</td><td>-190.0</td><td>-200.0</td><td>-197.0</td><td>-198.0</td><td>-198.0</td><td>-200.0</td></tr><tr><td>-0.422897</td><td>-0.411494</td><td>-0.415051</td><td>-0.371429</td><td>-0.435664</td><td>-0.431111</td><td>-0.427043</td><td>-0.380845</td><td>-0.427751</td><td>-0.426284</td><td>-0.433662</td><td>-0.389239</td><td>-0.444867</td><td>-0.447124</td><td>-0.446593</td><td>-0.377617</td><td>-0.456204</td><td>-0.46217</td><td>-0.477837</td><td>-0.399584</td><td>-0.463652</td></tr><tr><td>0.466667</td><td>0.462373</td><td>0.469699</td><td>0.489944</td><td>0.45404</td><td>0.448459</td><td>0.447561</td><td>0.484229</td><td>0.448135</td><td>0.439471</td><td>0.425574</td><td>0.474099</td><td>0.413121</td><td>0.409879</td><td>0.409548</td><td>0.484827</td><td>0.407322</td><td>0.398859</td><td>0.387704</td><td>0.470352</td><td>0.404057</td></tr></tbody></table></div>"
      ],
      "text/plain": [
       "shape: (4, 21)\n",
       "┌───────────┬───────────┬───────────┬───────────┬───┬───────────┬───────────┬───────────┬──────────┐\n",
       "│ 2019-05-1 ┆ 2019-08-0 ┆ 2019-11-0 ┆ 2020-03-0 ┆ … ┆ 2023-07-2 ┆ 2023-11-0 ┆ 2024-02-1 ┆ 2024-04- │\n",
       "│ 0         ┆ 9         ┆ 8         ┆ 2         ┆   ┆ 8         ┆ 2         ┆ 6         ┆ 26       │\n",
       "│ ---       ┆ ---       ┆ ---       ┆ ---       ┆   ┆ ---       ┆ ---       ┆ ---       ┆ ---      │\n",
       "│ f64       ┆ f64       ┆ f64       ┆ f64       ┆   ┆ f64       ┆ f64       ┆ f64       ┆ f64      │\n",
       "╞═══════════╪═══════════╪═══════════╪═══════════╪═══╪═══════════╪═══════════╪═══════════╪══════════╡\n",
       "│ -27.29522 ┆ -26.76927 ┆ -27.19424 ┆ -28.55945 ┆ … ┆ -38.18670 ┆ -38.39313 ┆ -38.26779 ┆ -39.0346 │\n",
       "│ 6         ┆ 6         ┆ 9         ┆ 7         ┆   ┆ 8         ┆ 2         ┆ 7         ┆ 12       │\n",
       "│ -164.0    ┆ -160.0    ┆ -162.0    ┆ -173.0    ┆ … ┆ -197.0    ┆ -198.0    ┆ -198.0    ┆ -200.0   │\n",
       "│ -0.422897 ┆ -0.411494 ┆ -0.415051 ┆ -0.371429 ┆ … ┆ -0.46217  ┆ -0.477837 ┆ -0.399584 ┆ -0.46365 │\n",
       "│           ┆           ┆           ┆           ┆   ┆           ┆           ┆           ┆ 2        │\n",
       "│ 0.466667  ┆ 0.462373  ┆ 0.469699  ┆ 0.489944  ┆ … ┆ 0.398859  ┆ 0.387704  ┆ 0.470352  ┆ 0.404057 │\n",
       "└───────────┴───────────┴───────────┴───────────┴───┴───────────┴───────────┴───────────┴──────────┘"
      ]
     },
     "execution_count": 38,
     "metadata": {},
     "output_type": "execute_result"
    }
   ],
   "source": [
    "df = df_dict_scores[\"ROKU\"]\n",
    "tic_sym = \"ROKU\"\n",
    "df"
   ]
  },
  {
   "cell_type": "markdown",
   "metadata": {},
   "source": [
    "This is the general loop, that takes each key-value pair from df_dict_scores, applies computing_returns() to it, then verticaly stackes the result with orig df and stores it in the new dict"
   ]
  },
  {
   "cell_type": "code",
   "execution_count": 125,
   "metadata": {},
   "outputs": [
    {
     "name": "stdout",
     "output_type": "stream",
     "text": [
      "AAPL\n",
      "BIGC\n",
      "CAT\n",
      "CVX\n",
      "FAST\n",
      "FSLR\n",
      "GE\n",
      "HOOD\n",
      "JNJ\n",
      "JPM\n",
      "MMM\n",
      "MRNA\n",
      "MSFT\n",
      "PFE\n",
      "PLUG\n",
      "ROKU\n",
      "SQ\n",
      "TDOC\n",
      "V\n",
      "XOM\n"
     ]
    }
   ],
   "source": [
    "dict_for_anal = {}\n",
    "row_names = pl.Series(\"row_names\", [\"weighted scores\", \"raw scores\", \"lm scores\", \"harvard scores\", \"2_day_reterns\",\"3_day_reterns\", \"4_day_reterns\", \"5_day_reterns\", \"6_day_reterns\", \"7_day_reterns\", \"full_quarter_returns\"])\n",
    "\n",
    "for tic_sym, df in df_dict_scores.items():\n",
    "    print(tic_sym)\n",
    "\n",
    "    returns_df = computing_returns(tic_sym, df)\n",
    "    \n",
    "    stacked_df = df.vstack(returns_df)\n",
    "    stacked_df_with_indx = stacked_df.hstack([row_names])\n",
    "    \n",
    "    dict_for_anal[tic_sym] = stacked_df_with_indx\n",
    "    "
   ]
  },
  {
   "cell_type": "markdown",
   "metadata": {},
   "source": [
    "Lets start the analisys. The general question is: how well sentiment scores and weighted scores can explain returns? "
   ]
  },
  {
   "cell_type": "markdown",
   "metadata": {},
   "source": [
    "Lets see them on the graph:"
   ]
  },
  {
   "cell_type": "code",
   "execution_count": 19,
   "metadata": {},
   "outputs": [],
   "source": [
    "#for company_name, scores in dict_for_anal.items():\n",
    "#   \n",
    "#    df_for_plt = scores.select(pl.exclude(\"row_names\"))\n",
    "#\n",
    "#    dates = [datetime.strptime(date, \"%Y-%m-%d\") for date in df_for_plt.columns]\n",
    "#   \n",
    "#    plt.figure(figsize=(10, 6))\n",
    "#    row_indices_to_plot = [0, 1, 4, -1]\n",
    "#\n",
    "#    for idx in row_indices_to_plot:\n",
    "#        row = df_for_plt.row(idx, named=True)  \n",
    "#        plt.plot(dates, list(row.values()), label=scores.row(idx)[-1])\n",
    "#\n",
    "#    plt.title(company_name)\n",
    "#    plt.xlabel(\"Date\")\n",
    "#    plt.ylabel(\"Values\")\n",
    "#    plt.legend()\n",
    "#    plt.xticks(rotation=45)\n",
    "#    plt.tight_layout()\n",
    "#    plt.show()"
   ]
  },
  {
   "cell_type": "markdown",
   "metadata": {},
   "source": [
    "At first glance some time series exhibits at least piecewise dependence. \n",
    "\n",
    "Next step is to regress each return on weighted, raw scores and polarity scores from Loughran-McDonald and Harvard dictionaries.\n",
    "\n",
    "And also we can see that in cases of 10-K reports which are typicly much longer we can see strong pattern in raw scores which is smoothed in weighted scores. But still this pattern could be recognized. This can be interpreted as 10-K can contain more information about future prices"
   ]
  },
  {
   "cell_type": "markdown",
   "metadata": {},
   "source": [
    "This func takes as input key-value pair (company name and dataframe with sentiment scores and returns), regress each retern (2_days, 3_days, etc) on weightes sentiment score ans raw sentiment score. Then it collects the slopes (beta-coefficient) of returns regressed on raw score and on weighted score in the separate polars series (in the loop they will be staked in dataframe)"
   ]
  },
  {
   "cell_type": "code",
   "execution_count": 126,
   "metadata": {},
   "outputs": [],
   "source": [
    "def fit_regression(y, x):\n",
    "\n",
    "    model = sm.OLS(y, x, missing='drop').fit()\n",
    "    slope = model.params[1]\n",
    "    \n",
    "    return slope"
   ]
  },
  {
   "cell_type": "code",
   "execution_count": 127,
   "metadata": {},
   "outputs": [],
   "source": [
    "def regression_slopes(company_df_woi, X_names, company_name=\"total_df\"):\n",
    "\n",
    "    X_values = [company_df_woi.row(x) for x in range(0, 4)]\n",
    "    X = [sm.add_constant(x) for x in X_values]\n",
    "\n",
    "    Y = [company_df_woi.row(y) for y in range(4, 11)]\n",
    "\n",
    "    slopes_dict = {}\n",
    "\n",
    "    for i, x in enumerate(X):\n",
    "\n",
    "        name_of_score = X_names[i][0].split()[0]\n",
    "        slopes_name = f'{name_of_score}_slopes'\n",
    "        \n",
    "        slopes = []\n",
    "        for y in Y:\n",
    "            slope = fit_regression(y, x)\n",
    "            slopes.append(slope)\n",
    "\n",
    "        slopes_dict[slopes_name] = pl.Series(company_name, slopes)\n",
    "    \n",
    "    return slopes_dict"
   ]
  },
  {
   "cell_type": "markdown",
   "metadata": {},
   "source": [
    "This is the general loop that takes dict_for_anal() whith scores and returns and for each company in the dict it calculates two series: first one contain regression slopes for weighted scores and second one for raw scores. Serieses stacked in the separete dataframes (for raw and for weighted scores)"
   ]
  },
  {
   "cell_type": "code",
   "execution_count": 128,
   "metadata": {},
   "outputs": [],
   "source": [
    "def compute_all_slopes(dict_for_anal):\n",
    "\n",
    "    slopes_df_dict = {\n",
    "        \"weighted_slopes_df\" : pl.DataFrame(),\n",
    "        \"raw_slopes_df\" : pl.DataFrame(),\n",
    "        \"lm_slopes_df\" : pl.DataFrame(),\n",
    "        \"harvard_slopes_df\" : pl.DataFrame()\n",
    "    }\n",
    "    \n",
    "    for company_name, company_df in dict_for_anal.items(): \n",
    "\n",
    "        X_names = [company_df.select(pl.col(\"row_names\")).row(x) for x in range(0, 4)]\n",
    "\n",
    "        company_df_woi = company_df.select(pl.exclude(\"row_names\"))\n",
    "\n",
    "        slopes_dict = regression_slopes(company_df_woi, X_names, company_name)\n",
    "\n",
    "        for x in X_names:\n",
    "            \n",
    "            name_of_score = x[0].split()[0]\n",
    "            slopes_name = f'{name_of_score}_slopes'\n",
    "            \n",
    "            df_name = f\"{name_of_score}_slopes_df\"\n",
    "            \n",
    "            slopes_df_dict[df_name] = slopes_df_dict[df_name].hstack([slopes_dict[slopes_name]])\n",
    "\n",
    "    return slopes_df_dict\n",
    "        "
   ]
  },
  {
   "cell_type": "code",
   "execution_count": 129,
   "metadata": {},
   "outputs": [],
   "source": [
    "slopes_df_dict = compute_all_slopes(dict_for_anal)"
   ]
  },
  {
   "cell_type": "markdown",
   "metadata": {},
   "source": [
    "As an output from previous functions we have dataframes with regression slopes of different returns on raw, weighted scores and Loughran-McDonald and Harvard dictionaries. Each col of these dfs contain regression slopes for particular company. First row contain slope for 2_days return, second row contain slope for 3_days return, etc.  I have decided to check what is the proportion of positive regression slopes for each return timeframe (2_days, 3_days, etc). For that purpose i will transpose each of these dfs, apply condition > 0, then verticaly sum boolean values and obtain the prorortion of positive slopes for each time frame. "
   ]
  },
  {
   "cell_type": "code",
   "execution_count": 130,
   "metadata": {},
   "outputs": [],
   "source": [
    "def calc_efficiency_metrics(slopes_df):\n",
    "\n",
    "    df_tranposed = slopes_df.transpose()\n",
    "\n",
    "    res = df_tranposed.select(pl.all() > 0).sum()\n",
    "    total_num_of_slopes = slopes_df.shape[1]\n",
    "\n",
    "    positive_slopes = [res.select(pl.col(res.columns[x]).gather(0)).item() for x in range(slopes_df.shape[0])]\n",
    "\n",
    "    for counter, x in enumerate(positive_slopes):\n",
    "        print(f'Prorortion of positive {counter + 2}_day returns: {x/total_num_of_slopes}')\n",
    "    \n",
    "    \n",
    "\n",
    "    "
   ]
  },
  {
   "cell_type": "markdown",
   "metadata": {},
   "source": [
    "This loop apply calc_efficiency_metrics function to each item of slopes_df_dict where each item is a dataframe which regression slopes for each regressor."
   ]
  },
  {
   "cell_type": "code",
   "execution_count": 131,
   "metadata": {},
   "outputs": [
    {
     "name": "stdout",
     "output_type": "stream",
     "text": [
      "\n",
      "\n",
      "Metrics for: weighted_slopes_df\n",
      "Prorortion of positive 2_day returns: 0.5\n",
      "Prorortion of positive 3_day returns: 0.55\n",
      "Prorortion of positive 4_day returns: 0.45\n",
      "Prorortion of positive 5_day returns: 0.45\n",
      "Prorortion of positive 6_day returns: 0.4\n",
      "Prorortion of positive 7_day returns: 0.4\n",
      "Prorortion of positive 8_day returns: 0.6\n",
      "\n",
      "\n",
      "Metrics for: raw_slopes_df\n",
      "Prorortion of positive 2_day returns: 0.5\n",
      "Prorortion of positive 3_day returns: 0.55\n",
      "Prorortion of positive 4_day returns: 0.45\n",
      "Prorortion of positive 5_day returns: 0.45\n",
      "Prorortion of positive 6_day returns: 0.4\n",
      "Prorortion of positive 7_day returns: 0.4\n",
      "Prorortion of positive 8_day returns: 0.6\n",
      "\n",
      "\n",
      "Metrics for: lm_slopes_df\n",
      "Prorortion of positive 2_day returns: 0.55\n",
      "Prorortion of positive 3_day returns: 0.4\n",
      "Prorortion of positive 4_day returns: 0.3\n",
      "Prorortion of positive 5_day returns: 0.5\n",
      "Prorortion of positive 6_day returns: 0.65\n",
      "Prorortion of positive 7_day returns: 0.6\n",
      "Prorortion of positive 8_day returns: 0.55\n",
      "\n",
      "\n",
      "Metrics for: harvard_slopes_df\n",
      "Prorortion of positive 2_day returns: 0.45\n",
      "Prorortion of positive 3_day returns: 0.5\n",
      "Prorortion of positive 4_day returns: 0.6\n",
      "Prorortion of positive 5_day returns: 0.65\n",
      "Prorortion of positive 6_day returns: 0.6\n",
      "Prorortion of positive 7_day returns: 0.65\n",
      "Prorortion of positive 8_day returns: 0.45\n"
     ]
    }
   ],
   "source": [
    "for key, slopes_df in slopes_df_dict.items():\n",
    "    print(\"\\n\")\n",
    "    print(f'Metrics for: {key}')\n",
    "    calc_efficiency_metrics(slopes_df)\n",
    "    "
   ]
  },
  {
   "cell_type": "markdown",
   "metadata": {},
   "source": [
    "Positive slopes means that sentiment scores and returns mooves in the same direction (hense, they are working as predictors of stock price movement). As the result of this preliminary analisis we can say that sentiment scores of quarterly reports are not very good predictors of stock movments. Positive proportion of this slopes are close to 0.5, which means that on average in our sample there are 50/50 chance that scores and returns are mooving in the same direction.\n",
    "\n",
    "As we can see that, despite visual conclusion that weighted scores are more \"smooth\", they barely outperform raw scores, but at least they are not worse, meaning that at each time frame (except 5_days) the proportion of positive regression slopes of weighted scores => proportion of positive regression slopes of raw scores."
   ]
  },
  {
   "cell_type": "markdown",
   "metadata": {},
   "source": [
    "This func stackes all data in one df, and calculate the single slope for each time frame"
   ]
  },
  {
   "cell_type": "code",
   "execution_count": 132,
   "metadata": {},
   "outputs": [],
   "source": [
    "def compute_signl_slope(dict_for_anal):\n",
    "\n",
    "    total_df = pl.DataFrame()\n",
    "    \n",
    "    for company_name, company_df in dict_for_anal.items():\n",
    "\n",
    "        X_names = [company_df.select(pl.col(\"row_names\")).row(x) for x in range(0, 4)] \n",
    "    \n",
    "        company_df = company_df.select(pl.exclude(\"row_names\"))\n",
    "        company_df = company_df.rename({col: f\"{col}_{company_name}\" for col in company_df.columns})\n",
    "\n",
    "        total_df = total_df.hstack(company_df)\n",
    "    \n",
    "    slopes_dict = regression_slopes(total_df, X_names)\n",
    "\n",
    "    return slopes_dict"
   ]
  },
  {
   "cell_type": "code",
   "execution_count": 133,
   "metadata": {},
   "outputs": [],
   "source": [
    "slopes_dict = compute_signl_slope(dict_for_anal)"
   ]
  },
  {
   "cell_type": "markdown",
   "metadata": {},
   "source": [
    "This loop iterate over slopes_dict where now each item is not a datafame but a series of values, where each series contain regression slopes for the whole data (data for different companies stacked in one dataframe) for each time frame of returns: 2-days, 3-days... 7_days, full quarter returns."
   ]
  },
  {
   "cell_type": "code",
   "execution_count": 134,
   "metadata": {},
   "outputs": [
    {
     "name": "stdout",
     "output_type": "stream",
     "text": [
      "weighted_slopes for all data stacked displayed: \n",
      " shape: (7,)\n",
      "Series: 'total_df' [f64]\n",
      "[\n",
      "\t-0.004661\n",
      "\t0.005891\n",
      "\t0.006889\n",
      "\t0.004414\n",
      "\t0.003465\n",
      "\t0.00152\n",
      "\t0.001451\n",
      "]\n",
      "\n",
      "\n",
      "raw_slopes for all data stacked displayed: \n",
      " shape: (7,)\n",
      "Series: 'total_df' [f64]\n",
      "[\n",
      "\t-0.002039\n",
      "\t0.000763\n",
      "\t0.00109\n",
      "\t0.0006\n",
      "\t0.000412\n",
      "\t0.000013\n",
      "\t0.000313\n",
      "]\n",
      "\n",
      "\n",
      "lm_slopes for all data stacked displayed: \n",
      " shape: (7,)\n",
      "Series: 'total_df' [f64]\n",
      "[\n",
      "\t0.143019\n",
      "\t0.435259\n",
      "\t0.278852\n",
      "\t0.357363\n",
      "\t0.267598\n",
      "\t0.236621\n",
      "\t0.277106\n",
      "]\n",
      "\n",
      "\n",
      "harvard_slopes for all data stacked displayed: \n",
      " shape: (7,)\n",
      "Series: 'total_df' [f64]\n",
      "[\n",
      "\t-1.835242\n",
      "\t0.19149\n",
      "\t1.041391\n",
      "\t0.63819\n",
      "\t0.699962\n",
      "\t0.548477\n",
      "\t0.176863\n",
      "]\n",
      "\n",
      "\n"
     ]
    }
   ],
   "source": [
    "for slope in slopes_dict:\n",
    "    print(f'{slope} for all data stacked displayed: \\n {slopes_dict[slope]}')\n",
    "    print(\"\\n\")"
   ]
  },
  {
   "cell_type": "markdown",
   "metadata": {},
   "source": [
    "jupyter nbconvert --to pdf Parsim-sec\\src\\Analysis\\YFiin_excess_returns.ipynb\n",
    "\n",
    "jupyter nbconvert --to html Parsim-sec\\src\\Analysis\\YFiin_excess_returns.ipynb\n",
    "\n"
   ]
  }
 ],
 "metadata": {
  "kernelspec": {
   "display_name": "env",
   "language": "python",
   "name": "python3"
  },
  "language_info": {
   "codemirror_mode": {
    "name": "ipython",
    "version": 3
   },
   "file_extension": ".py",
   "mimetype": "text/x-python",
   "name": "python",
   "nbconvert_exporter": "python",
   "pygments_lexer": "ipython3",
   "version": "3.11.5"
  }
 },
 "nbformat": 4,
 "nbformat_minor": 2
}
