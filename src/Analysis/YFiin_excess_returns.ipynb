{
 "cells": [
  {
   "cell_type": "code",
   "execution_count": 60,
   "metadata": {},
   "outputs": [],
   "source": [
    "import yfinance as yf\n",
    "import pandas as pd\n",
    "import polars as pl\n",
    "import os\n",
    "import re\n",
    "import urllib.parse\n",
    "from datetime import datetime\n",
    "import matplotlib.pyplot as plt\n",
    "import statsmodels.api as sm\n",
    "import math "
   ]
  },
  {
   "cell_type": "code",
   "execution_count": 61,
   "metadata": {},
   "outputs": [],
   "source": [
    "COMPANY_NAME_LIST = ['Apple%2520Inc.%2520(AAPL)%2520(CIK%25200000320193)', 'MICROSOFT%2520CORP%2520(MSFT)%2520(CIK%25200000789019)', \n",
    "                     'BigCommerce%2520Holdings%252C%2520Inc.%2520(BIGC)%2520(CIK%25200001626450)', 'ROKU%252C%2520INC%2520(ROKU)%2520(CIK%25200001428439)', \n",
    "                     'JPMORGAN%2520CHASE%2520%2526%2520CO%2520(JPM%252C%2520AMJ%252C%2520AMJB%252C%2520JPM)%2520(CIK%25200000019617)', 'VISA%2520INC.%2520(V)%2520(CIK%25200001403161)', \n",
    "                     'Block%252C%2520Inc.%2520(SQ%252C%2520BSQKZ)%2520(CIK%25200001512673)', 'Robinhood%2520Markets%252C%2520Inc.%2520(HOOD)%2520(CIK%25200001783879)', \n",
    "                     'JOHNSON%252C%252C%2520JOHNSON%2520(JNJ)%2520(CIK%25200000200406)', 'PFIZER%2520INC%2520(PFE)%2520(CIK%25200000078003)', \n",
    "                     'Moderna%252C%2520Inc.%2520(MRNA)%2520(CIK%25200001682852)', 'Teladoc%2520Health%252C%2520Inc.%2520(TDOC)%2520(CIK%25200001477449)', \n",
    "                     'EXXON%2520MOBIL%2520CORP%2520(XOM)%2520(CIK%25200000034088)', 'CHEVRON%2520CORP%2520(CVX)%2520(CIK%25200000093410)', \n",
    "                     'FIRST%2520SOLAR%252C%2520INC.%2520(FSLR)%2520(CIK%25200001274494)', 'PLUG%2520POWER%2520INC%2520(PLUG)%2520(CIK%25200001093691)', \n",
    "                     'GENERAL%252CELECTRIC%2520CO%2520(GE)%2520(CIK%25200000040545)', '3M%2520CO%2520(MMM)%2520(CIK%25200000066740)', \n",
    "                     'CATERPILLAR%2520INC%2520(CAT)%2520(CIK%25200000018230)', 'FASTENAL%2520CO%2520(FAST)%2520(CIK%25200000815556)']"
   ]
  },
  {
   "cell_type": "markdown",
   "metadata": {},
   "source": [
    "Collect scores from hard memory"
   ]
  },
  {
   "cell_type": "code",
   "execution_count": 62,
   "metadata": {},
   "outputs": [],
   "source": [
    "df_dict_scores = {}\n",
    "regex = r\"\\\\([^\\\\]+)_full_doc_sen_score_df\\.parquet$\"\n",
    "\n",
    "for root, dirs, files in os.walk(r'C:\\Users\\310\\Desktop\\Progects_Py\\Parsim-sec\\src\\Analysis\\data\\full_10_Q_scores'):\n",
    "    for file in files:\n",
    "            \n",
    "            file_path = os.path.join(root, file)\n",
    "            ticker = re.search(regex, file_path).group(1)\n",
    "            \n",
    "            df = pl.read_parquet(file_path)\n",
    "\n",
    "            df_dict_scores[ticker] = df "
   ]
  },
  {
   "cell_type": "code",
   "execution_count": 5,
   "metadata": {},
   "outputs": [
    {
     "data": {
      "text/html": [
       "<div><style>\n",
       ".dataframe > thead > tr,\n",
       ".dataframe > tbody > tr {\n",
       "  text-align: right;\n",
       "  white-space: pre-wrap;\n",
       "}\n",
       "</style>\n",
       "<small>shape: (4, 21)</small><table border=\"1\" class=\"dataframe\"><thead><tr><th>2019-04-30</th><th>2019-07-31</th><th>2019-10-30</th><th>2020-02-24</th><th>2020-04-29</th><th>2020-07-29</th><th>2020-10-28</th><th>2021-02-12</th><th>2021-04-27</th><th>2021-07-27</th><th>2021-10-26</th><th>2022-02-11</th><th>2022-04-26</th><th>2022-07-26</th><th>2022-10-25</th><th>2023-02-10</th><th>2023-04-25</th><th>2023-07-25</th><th>2023-10-24</th><th>2024-02-02</th><th>2024-04-23</th></tr><tr><td>f64</td><td>f64</td><td>f64</td><td>f64</td><td>f64</td><td>f64</td><td>f64</td><td>f64</td><td>f64</td><td>f64</td><td>f64</td><td>f64</td><td>f64</td><td>f64</td><td>f64</td><td>f64</td><td>f64</td><td>f64</td><td>f64</td><td>f64</td><td>f64</td></tr></thead><tbody><tr><td>-12.849008</td><td>-10.494805</td><td>-14.107974</td><td>-30.133511</td><td>-13.439952</td><td>-12.999193</td><td>-14.971735</td><td>-35.735787</td><td>-10.841224</td><td>-10.056447</td><td>-8.511603</td><td>-30.035251</td><td>-3.151193</td><td>-2.180779</td><td>-4.783131</td><td>-26.817862</td><td>-4.257227</td><td>-5.295587</td><td>-3.992991</td><td>-29.066429</td><td>-20.433151</td></tr><tr><td>-84.0</td><td>-68.0</td><td>-77.0</td><td>-168.0</td><td>-81.0</td><td>-73.0</td><td>-84.0</td><td>-195.0</td><td>-73.0</td><td>-65.0</td><td>-55.0</td><td>-169.0</td><td>-40.0</td><td>-28.0</td><td>-38.0</td><td>-160.0</td><td>-35.0</td><td>-43.0</td><td>-38.0</td><td>-161.0</td><td>-121.0</td></tr><tr><td>-0.367816</td><td>-0.335992</td><td>-0.348473</td><td>-0.29972</td><td>-0.366922</td><td>-0.363445</td><td>-0.350427</td><td>-0.325886</td><td>-0.354839</td><td>-0.307278</td><td>-0.264813</td><td>-0.282203</td><td>-0.256506</td><td>-0.23964</td><td>-0.295455</td><td>-0.298453</td><td>-0.230088</td><td>-0.289176</td><td>-0.244094</td><td>-0.27239</td><td>-0.361179</td></tr><tr><td>0.457193</td><td>0.434381</td><td>0.430875</td><td>0.445714</td><td>0.463025</td><td>0.404468</td><td>0.414253</td><td>0.446668</td><td>0.456579</td><td>0.441176</td><td>0.443396</td><td>0.439415</td><td>0.40296</td><td>0.387564</td><td>0.37332</td><td>0.429854</td><td>0.469191</td><td>0.416539</td><td>0.409936</td><td>0.437905</td><td>0.408483</td></tr></tbody></table></div>"
      ],
      "text/plain": [
       "shape: (4, 21)\n",
       "┌───────────┬───────────┬───────────┬───────────┬───┬───────────┬───────────┬───────────┬──────────┐\n",
       "│ 2019-04-3 ┆ 2019-07-3 ┆ 2019-10-3 ┆ 2020-02-2 ┆ … ┆ 2023-07-2 ┆ 2023-10-2 ┆ 2024-02-0 ┆ 2024-04- │\n",
       "│ 0         ┆ 1         ┆ 0         ┆ 4         ┆   ┆ 5         ┆ 4         ┆ 2         ┆ 23       │\n",
       "│ ---       ┆ ---       ┆ ---       ┆ ---       ┆   ┆ ---       ┆ ---       ┆ ---       ┆ ---      │\n",
       "│ f64       ┆ f64       ┆ f64       ┆ f64       ┆   ┆ f64       ┆ f64       ┆ f64       ┆ f64      │\n",
       "╞═══════════╪═══════════╪═══════════╪═══════════╪═══╪═══════════╪═══════════╪═══════════╪══════════╡\n",
       "│ -12.84900 ┆ -10.49480 ┆ -14.10797 ┆ -30.13351 ┆ … ┆ -5.295587 ┆ -3.992991 ┆ -29.06642 ┆ -20.4331 │\n",
       "│ 8         ┆ 5         ┆ 4         ┆ 1         ┆   ┆           ┆           ┆ 9         ┆ 51       │\n",
       "│ -84.0     ┆ -68.0     ┆ -77.0     ┆ -168.0    ┆ … ┆ -43.0     ┆ -38.0     ┆ -161.0    ┆ -121.0   │\n",
       "│ -0.367816 ┆ -0.335992 ┆ -0.348473 ┆ -0.29972  ┆ … ┆ -0.289176 ┆ -0.244094 ┆ -0.27239  ┆ -0.36117 │\n",
       "│           ┆           ┆           ┆           ┆   ┆           ┆           ┆           ┆ 9        │\n",
       "│ 0.457193  ┆ 0.434381  ┆ 0.430875  ┆ 0.445714  ┆ … ┆ 0.416539  ┆ 0.409936  ┆ 0.437905  ┆ 0.408483 │\n",
       "└───────────┴───────────┴───────────┴───────────┴───┴───────────┴───────────┴───────────┴──────────┘"
      ]
     },
     "execution_count": 5,
     "metadata": {},
     "output_type": "execute_result"
    }
   ],
   "source": [
    "df = df_dict_scores[\"GE\"]\n",
    "tic_sym = \"GE\"\n",
    "df"
   ]
  },
  {
   "cell_type": "markdown",
   "metadata": {},
   "source": [
    "This is support func to find end prices and their dates. It takes as an arguments starting index, which is the nuber of row of hist dataframe and this hist dataframe itself. Hist dataframe contain daily OHLC data for particular ticker (company). \n",
    "\n",
    "It also cheks wether index of end price is in hist, meaning that if this particular report was released very resently (less then 8 trading days ago) it will append none values for end prices out of range of hist df instead of raising an error.\n",
    "\n",
    "It returns lists of end prices and corresponding dates (none values for prices and their dates, if they are out of range of hist df)."
   ]
  },
  {
   "cell_type": "code",
   "execution_count": 71,
   "metadata": {},
   "outputs": [],
   "source": [
    "def find_end_price(start_index, hist):\n",
    "    end_price_list = []\n",
    "    end_price_date_list = []\n",
    "    \n",
    "    for x in range(2, 8):\n",
    "        idx = start_index + x\n",
    "        if idx < len(hist):\n",
    "            end_price_list.append(hist.iloc[idx]['Open'])\n",
    "            end_price_date_list.append(hist.index[idx])\n",
    "        else:\n",
    "            end_price_list.append(None)\n",
    "            end_price_date_list.append(None)\n",
    "    return end_price_list, end_price_date_list"
   ]
  },
  {
   "cell_type": "markdown",
   "metadata": {},
   "source": [
    "This is support func to calc the regular returns. It takes start price and end_price_list as an arguments. It checks whether value in end price list is none and if it is, it appends none in returns list, instead of raising an error. So we are shure that all end price lists are of the same length, but for those prices that are not found in historical data we have none values for returns."
   ]
  },
  {
   "cell_type": "code",
   "execution_count": 65,
   "metadata": {},
   "outputs": [],
   "source": [
    "def regular_returns(start_price, end_price_list):\n",
    "    retuns = []\n",
    "    for end_price in end_price_list:\n",
    "        if end_price is None:\n",
    "            retuns.append(None)\n",
    "        else:\n",
    "            ret = (end_price - start_price) / start_price * 100\n",
    "            retuns.append(ret)\n",
    "    return retuns"
   ]
  },
  {
   "cell_type": "markdown",
   "metadata": {},
   "source": [
    "This is the support func that calc SnP500 returns. It takes_start date and end_price_date_list as and arguments and then calculate returns for this timeframes. This func also checks whether value of end_price_date_list is none (meaning that it is not found in historical data), and if it is, func will append none instead of raising an error.\n",
    "\n",
    "Now we are shure that list of snp_returns will be of equal length for all report release dates and all time frames, but for those returns that cannot be calculates due to non existent end prices we will have nones "
   ]
  },
  {
   "cell_type": "code",
   "execution_count": 66,
   "metadata": {},
   "outputs": [],
   "source": [
    "def snp_500_return(start_date, end_price_date_list):\n",
    "    snp500_ticker = yf.Ticker(\"^GSPC\")\n",
    "    snp_price = snp500_ticker.history(period=\"5y\", auto_adjust=True)\n",
    "\n",
    "    snp_returns = []\n",
    "\n",
    "    for end_date in end_price_date_list:\n",
    "        if end_date is None:\n",
    "            snp_returns.append(None)\n",
    "\n",
    "        else: \n",
    "            start_index = snp_price.index.get_loc(start_date)\n",
    "            start_price = snp_price.iloc[start_index]['Open']\n",
    "    \n",
    "            end_index = snp_price.index.get_loc(end_date)\n",
    "            end_price = snp_price.iloc[end_index]['Open']\n",
    "    \n",
    "            ret = (end_price - start_price) / start_price * 100\n",
    "            \n",
    "            snp_returns.append(ret)\n",
    "\n",
    "    return snp_returns"
   ]
  },
  {
   "cell_type": "markdown",
   "metadata": {},
   "source": [
    "This is suppurt function that retrive the end quarter price. It take as an argument hist - historical price dataframe, date_str - the date of release of this particular report, df - company dataframe, with cols named with dates of releases of corresponding reports.\n",
    "\n",
    "It takes the release date for current report and checks whether it is the last date in time series or not. If it is (this mean that we are are realy close to the end of hist df) we consider the end of hist df as the end of quarter. if it is not, we take next date in company df (which is the date of releas of the next quarterly report) and see its open price, this is pricisely the end of the quarter."
   ]
  },
  {
   "cell_type": "code",
   "execution_count": 72,
   "metadata": {},
   "outputs": [],
   "source": [
    "def find_end_quarter(hist, date_str, df):\n",
    "\n",
    "    col_names = df.columns\n",
    "    current_index = col_names.index(date_str)\n",
    "\n",
    "    if current_index < len(col_names) - 1:\n",
    "\n",
    "        next_date = col_names[current_index + 1]\n",
    "\n",
    "        next_date_time_stemp = pd.Timestamp(next_date, tz='America/New_York')\n",
    "\n",
    "        while next_date_time_stemp not in hist.index:\n",
    "\n",
    "            next_date_time_stemp += pd.Timedelta(days=1)\n",
    "    \n",
    "        end_quarter_index = hist.index.get_loc(next_date_time_stemp)\n",
    "        end_quarter_price = hist.iloc[end_quarter_index]['Open']\n",
    "        end_quarter_date = hist.index[end_quarter_index]\n",
    "\n",
    "    else:\n",
    "        end_quarter_price = hist.iloc[-1]['Open']\n",
    "        end_quarter_date = hist.index[-1]\n",
    "\n",
    "    return end_quarter_price, end_quarter_date"
   ]
  },
  {
   "cell_type": "markdown",
   "metadata": {},
   "source": [
    "This is a func that takes as an input a key-value pair from df_dict_scores and calculate 2-days, 3-days, 4-days, 5-days, 6-days, 7-days and full quarter excess returns for it (S&P500 is the benchmark). It stores the result as a polars df with dates of starting of the period as col names and corresponding returns as col values (seven in each: starting from 2-days down to 7-days and full quarter) - "
   ]
  },
  {
   "cell_type": "code",
   "execution_count": 79,
   "metadata": {},
   "outputs": [],
   "source": [
    "def computing_returns(tic_sym, df):\n",
    "\n",
    "    company_ticker = yf.Ticker(tic_sym)\n",
    "    hist = company_ticker.history(period=\"5y\")\n",
    "    \n",
    "    returns = {}\n",
    "\n",
    "    for date_str in df.columns:\n",
    "\n",
    "        start_date = pd.Timestamp(date_str, tz='America/New_York')\n",
    "\n",
    "        while start_date not in hist.index:\n",
    "\n",
    "            start_date += pd.Timedelta(days=1)\n",
    "\n",
    "        start_index = hist.index.get_loc(start_date)\n",
    "\n",
    "        start_price = hist.iloc[start_index]['Open']\n",
    "\n",
    "        end_price_list, end_price_date_list = find_end_price(start_index, hist)\n",
    "\n",
    "        if None not in end_price_list:\n",
    "            end_quarter_price, end_quarter_date = find_end_quarter(hist, date_str, df)\n",
    "        else:\n",
    "            end_quarter_price = None\n",
    "            end_quarter_date = None\n",
    "        \n",
    "        # additional check if end of quarter is withing 8 days horison, and if it is, to avoid double counting we append none instead of last value of hist df\n",
    "        if end_quarter_price != end_price_list[-1]:\n",
    "\n",
    "            end_price_list.append(end_quarter_price)\n",
    "            end_price_date_list.append(end_quarter_date)\n",
    "        else:\n",
    "            end_price_list.append(None)\n",
    "            end_price_date_list.append(None)\n",
    "        \n",
    "        reg_returns = regular_returns(start_price, end_price_list)\n",
    "        snp_returns = snp_500_return(start_date, end_price_date_list)\n",
    "\n",
    "        excess_returns = [a - b if a is not None and b is not None else None for a, b in zip(reg_returns, snp_returns)]\n",
    "\n",
    "        returns[date_str] = excess_returns\n",
    "\n",
    "    returns = pl.DataFrame(returns)\n",
    "    \n",
    "    return returns\n"
   ]
  },
  {
   "cell_type": "code",
   "execution_count": 75,
   "metadata": {},
   "outputs": [
    {
     "data": {
      "text/html": [
       "<div><style>\n",
       ".dataframe > thead > tr,\n",
       ".dataframe > tbody > tr {\n",
       "  text-align: right;\n",
       "  white-space: pre-wrap;\n",
       "}\n",
       "</style>\n",
       "<small>shape: (4, 21)</small><table border=\"1\" class=\"dataframe\"><thead><tr><th>2019-04-30</th><th>2019-07-31</th><th>2019-10-30</th><th>2020-02-24</th><th>2020-04-29</th><th>2020-07-29</th><th>2020-10-28</th><th>2021-02-12</th><th>2021-04-27</th><th>2021-07-27</th><th>2021-10-26</th><th>2022-02-11</th><th>2022-04-26</th><th>2022-07-26</th><th>2022-10-25</th><th>2023-02-10</th><th>2023-04-25</th><th>2023-07-25</th><th>2023-10-24</th><th>2024-02-02</th><th>2024-04-23</th></tr><tr><td>f64</td><td>f64</td><td>f64</td><td>f64</td><td>f64</td><td>f64</td><td>f64</td><td>f64</td><td>f64</td><td>f64</td><td>f64</td><td>f64</td><td>f64</td><td>f64</td><td>f64</td><td>f64</td><td>f64</td><td>f64</td><td>f64</td><td>f64</td><td>f64</td></tr></thead><tbody><tr><td>-12.849008</td><td>-10.494805</td><td>-14.107974</td><td>-30.133511</td><td>-13.439952</td><td>-12.999193</td><td>-14.971735</td><td>-35.735787</td><td>-10.841224</td><td>-10.056447</td><td>-8.511603</td><td>-30.035251</td><td>-3.151193</td><td>-2.180779</td><td>-4.783131</td><td>-26.817862</td><td>-4.257227</td><td>-5.295587</td><td>-3.992991</td><td>-29.066429</td><td>-20.433151</td></tr><tr><td>-84.0</td><td>-68.0</td><td>-77.0</td><td>-168.0</td><td>-81.0</td><td>-73.0</td><td>-84.0</td><td>-195.0</td><td>-73.0</td><td>-65.0</td><td>-55.0</td><td>-169.0</td><td>-40.0</td><td>-28.0</td><td>-38.0</td><td>-160.0</td><td>-35.0</td><td>-43.0</td><td>-38.0</td><td>-161.0</td><td>-121.0</td></tr><tr><td>-0.367816</td><td>-0.335992</td><td>-0.348473</td><td>-0.29972</td><td>-0.366922</td><td>-0.363445</td><td>-0.350427</td><td>-0.325886</td><td>-0.354839</td><td>-0.307278</td><td>-0.264813</td><td>-0.282203</td><td>-0.256506</td><td>-0.23964</td><td>-0.295455</td><td>-0.298453</td><td>-0.230088</td><td>-0.289176</td><td>-0.244094</td><td>-0.27239</td><td>-0.361179</td></tr><tr><td>0.457193</td><td>0.434381</td><td>0.430875</td><td>0.445714</td><td>0.463025</td><td>0.404468</td><td>0.414253</td><td>0.446668</td><td>0.456579</td><td>0.441176</td><td>0.443396</td><td>0.439415</td><td>0.40296</td><td>0.387564</td><td>0.37332</td><td>0.429854</td><td>0.469191</td><td>0.416539</td><td>0.409936</td><td>0.437905</td><td>0.408483</td></tr></tbody></table></div>"
      ],
      "text/plain": [
       "shape: (4, 21)\n",
       "┌───────────┬───────────┬───────────┬───────────┬───┬───────────┬───────────┬───────────┬──────────┐\n",
       "│ 2019-04-3 ┆ 2019-07-3 ┆ 2019-10-3 ┆ 2020-02-2 ┆ … ┆ 2023-07-2 ┆ 2023-10-2 ┆ 2024-02-0 ┆ 2024-04- │\n",
       "│ 0         ┆ 1         ┆ 0         ┆ 4         ┆   ┆ 5         ┆ 4         ┆ 2         ┆ 23       │\n",
       "│ ---       ┆ ---       ┆ ---       ┆ ---       ┆   ┆ ---       ┆ ---       ┆ ---       ┆ ---      │\n",
       "│ f64       ┆ f64       ┆ f64       ┆ f64       ┆   ┆ f64       ┆ f64       ┆ f64       ┆ f64      │\n",
       "╞═══════════╪═══════════╪═══════════╪═══════════╪═══╪═══════════╪═══════════╪═══════════╪══════════╡\n",
       "│ -12.84900 ┆ -10.49480 ┆ -14.10797 ┆ -30.13351 ┆ … ┆ -5.295587 ┆ -3.992991 ┆ -29.06642 ┆ -20.4331 │\n",
       "│ 8         ┆ 5         ┆ 4         ┆ 1         ┆   ┆           ┆           ┆ 9         ┆ 51       │\n",
       "│ -84.0     ┆ -68.0     ┆ -77.0     ┆ -168.0    ┆ … ┆ -43.0     ┆ -38.0     ┆ -161.0    ┆ -121.0   │\n",
       "│ -0.367816 ┆ -0.335992 ┆ -0.348473 ┆ -0.29972  ┆ … ┆ -0.289176 ┆ -0.244094 ┆ -0.27239  ┆ -0.36117 │\n",
       "│           ┆           ┆           ┆           ┆   ┆           ┆           ┆           ┆ 9        │\n",
       "│ 0.457193  ┆ 0.434381  ┆ 0.430875  ┆ 0.445714  ┆ … ┆ 0.416539  ┆ 0.409936  ┆ 0.437905  ┆ 0.408483 │\n",
       "└───────────┴───────────┴───────────┴───────────┴───┴───────────┴───────────┴───────────┴──────────┘"
      ]
     },
     "execution_count": 75,
     "metadata": {},
     "output_type": "execute_result"
    }
   ],
   "source": [
    "df = df_dict_scores[\"GE\"]\n",
    "tic_sym = \"GE\"\n",
    "df"
   ]
  },
  {
   "cell_type": "code",
   "execution_count": 80,
   "metadata": {},
   "outputs": [
    {
     "data": {
      "text/html": [
       "<div><style>\n",
       ".dataframe > thead > tr,\n",
       ".dataframe > tbody > tr {\n",
       "  text-align: right;\n",
       "  white-space: pre-wrap;\n",
       "}\n",
       "</style>\n",
       "<small>shape: (7, 21)</small><table border=\"1\" class=\"dataframe\"><thead><tr><th>2019-04-30</th><th>2019-07-31</th><th>2019-10-30</th><th>2020-02-24</th><th>2020-04-29</th><th>2020-07-29</th><th>2020-10-28</th><th>2021-02-12</th><th>2021-04-27</th><th>2021-07-27</th><th>2021-10-26</th><th>2022-02-11</th><th>2022-04-26</th><th>2022-07-26</th><th>2022-10-25</th><th>2023-02-10</th><th>2023-04-25</th><th>2023-07-25</th><th>2023-10-24</th><th>2024-02-02</th><th>2024-04-23</th></tr><tr><td>f64</td><td>f64</td><td>f64</td><td>f64</td><td>f64</td><td>f64</td><td>f64</td><td>f64</td><td>f64</td><td>f64</td><td>f64</td><td>f64</td><td>f64</td><td>f64</td><td>f64</td><td>f64</td><td>f64</td><td>f64</td><td>f64</td><td>f64</td><td>f64</td></tr></thead><tbody><tr><td>-0.271995</td><td>-4.572523</td><td>2.706283</td><td>0.876003</td><td>1.541928</td><td>-11.926095</td><td>-0.800972</td><td>3.593499</td><td>-2.797514</td><td>-0.760701</td><td>-1.894753</td><td>0.668326</td><td>-6.423485</td><td>5.144775</td><td>0.80555</td><td>0.213406</td><td>-3.596353</td><td>-0.019752</td><td>2.060124</td><td>0.967731</td><td>0.343106</td></tr><tr><td>0.95426</td><td>-5.097688</td><td>5.253718</td><td>-3.164995</td><td>-2.143967</td><td>-14.051647</td><td>1.251449</td><td>3.660986</td><td>-2.75369</td><td>-0.793969</td><td>-0.638776</td><td>2.201697</td><td>-8.211512</td><td>1.372217</td><td>2.021186</td><td>0.984352</td><td>-4.805336</td><td>0.667729</td><td>0.326292</td><td>1.196205</td><td>0.905228</td></tr><tr><td>1.059569</td><td>-4.618142</td><td>10.305668</td><td>-4.425619</td><td>-4.289186</td><td>-14.675324</td><td>2.050548</td><td>2.473791</td><td>-2.014988</td><td>-1.809975</td><td>-0.697376</td><td>2.457382</td><td>-9.335516</td><td>1.169106</td><td>1.537649</td><td>2.338554</td><td>-3.391019</td><td>-0.702868</td><td>-0.90291</td><td>0.768599</td><td>null</td></tr><tr><td>1.896119</td><td>-7.04355</td><td>10.595418</td><td>4.591405</td><td>-5.975407</td><td>-14.524476</td><td>0.482632</td><td>6.451643</td><td>-0.965278</td><td>-5.503762</td><td>-0.208347</td><td>2.094754</td><td>-6.768387</td><td>4.159919</td><td>2.052842</td><td>3.231999</td><td>-2.227254</td><td>-1.226399</td><td>0.135025</td><td>0.85115</td><td>null</td></tr><tr><td>0.492422</td><td>-7.638258</td><td>11.941543</td><td>1.182984</td><td>-7.904015</td><td>-12.415201</td><td>1.572814</td><td>11.824773</td><td>-2.25133</td><td>-4.519542</td><td>-0.756595</td><td>-2.59229</td><td>-5.691211</td><td>3.605813</td><td>2.712946</td><td>2.053055</td><td>0.03266</td><td>-1.242739</td><td>-1.661395</td><td>0.781553</td><td>null</td></tr><tr><td>1.458794</td><td>-9.147185</td><td>13.460607</td><td>1.114316</td><td>-6.705981</td><td>-13.510506</td><td>1.828761</td><td>13.152237</td><td>-1.617785</td><td>-3.243102</td><td>-1.735823</td><td>-1.257587</td><td>-6.376569</td><td>1.802592</td><td>4.235428</td><td>3.319419</td><td>0.612194</td><td>-0.994508</td><td>-2.720633</td><td>2.193602</td><td>null</td></tr><tr><td>2.615265</td><td>-9.764411</td><td>12.498076</td><td>-32.375007</td><td>-5.742189</td><td>4.090309</td><td>35.077541</td><td>11.355421</td><td>-6.61196</td><td>-4.40376</td><td>-4.688511</td><td>-9.050178</td><td>-10.257623</td><td>11.692312</td><td>31.097987</td><td>24.893278</td><td>2.023474</td><td>4.086146</td><td>5.989993</td><td>43.989958</td><td>null</td></tr></tbody></table></div>"
      ],
      "text/plain": [
       "shape: (7, 21)\n",
       "┌───────────┬───────────┬───────────┬───────────┬───┬───────────┬───────────┬───────────┬──────────┐\n",
       "│ 2019-04-3 ┆ 2019-07-3 ┆ 2019-10-3 ┆ 2020-02-2 ┆ … ┆ 2023-07-2 ┆ 2023-10-2 ┆ 2024-02-0 ┆ 2024-04- │\n",
       "│ 0         ┆ 1         ┆ 0         ┆ 4         ┆   ┆ 5         ┆ 4         ┆ 2         ┆ 23       │\n",
       "│ ---       ┆ ---       ┆ ---       ┆ ---       ┆   ┆ ---       ┆ ---       ┆ ---       ┆ ---      │\n",
       "│ f64       ┆ f64       ┆ f64       ┆ f64       ┆   ┆ f64       ┆ f64       ┆ f64       ┆ f64      │\n",
       "╞═══════════╪═══════════╪═══════════╪═══════════╪═══╪═══════════╪═══════════╪═══════════╪══════════╡\n",
       "│ -0.271995 ┆ -4.572523 ┆ 2.706283  ┆ 0.876003  ┆ … ┆ -0.019752 ┆ 2.060124  ┆ 0.967731  ┆ 0.343106 │\n",
       "│ 0.95426   ┆ -5.097688 ┆ 5.253718  ┆ -3.164995 ┆ … ┆ 0.667729  ┆ 0.326292  ┆ 1.196205  ┆ 0.905228 │\n",
       "│ 1.059569  ┆ -4.618142 ┆ 10.305668 ┆ -4.425619 ┆ … ┆ -0.702868 ┆ -0.90291  ┆ 0.768599  ┆ null     │\n",
       "│ 1.896119  ┆ -7.04355  ┆ 10.595418 ┆ 4.591405  ┆ … ┆ -1.226399 ┆ 0.135025  ┆ 0.85115   ┆ null     │\n",
       "│ 0.492422  ┆ -7.638258 ┆ 11.941543 ┆ 1.182984  ┆ … ┆ -1.242739 ┆ -1.661395 ┆ 0.781553  ┆ null     │\n",
       "│ 1.458794  ┆ -9.147185 ┆ 13.460607 ┆ 1.114316  ┆ … ┆ -0.994508 ┆ -2.720633 ┆ 2.193602  ┆ null     │\n",
       "│ 2.615265  ┆ -9.764411 ┆ 12.498076 ┆ -32.37500 ┆ … ┆ 4.086146  ┆ 5.989993  ┆ 43.989958 ┆ null     │\n",
       "│           ┆           ┆           ┆ 7         ┆   ┆           ┆           ┆           ┆          │\n",
       "└───────────┴───────────┴───────────┴───────────┴───┴───────────┴───────────┴───────────┴──────────┘"
      ]
     },
     "execution_count": 80,
     "metadata": {},
     "output_type": "execute_result"
    }
   ],
   "source": [
    "computing_returns(tic_sym, df)"
   ]
  },
  {
   "cell_type": "markdown",
   "metadata": {},
   "source": [
    "This is the general loop, that takes each key-value pair from df_dict_scores, applies computing_returns() to it, then verticaly stackes the result with orig df and stores it in the new dict"
   ]
  },
  {
   "cell_type": "code",
   "execution_count": 81,
   "metadata": {},
   "outputs": [
    {
     "name": "stdout",
     "output_type": "stream",
     "text": [
      "AAPL\n",
      "BIGC\n",
      "CAT\n",
      "CVX\n",
      "FAST\n",
      "FSLR\n",
      "GE\n",
      "HOOD\n",
      "JNJ\n",
      "JPM\n",
      "MMM\n",
      "MRNA\n",
      "MSFT\n",
      "PFE\n",
      "PLUG\n",
      "ROKU\n",
      "SQ\n",
      "TDOC\n",
      "V\n",
      "XOM\n"
     ]
    }
   ],
   "source": [
    "dict_for_anal = {}\n",
    "row_names = pl.Series(\"row_names\", [\"weighted scores\", \"raw scores\", \"lm scores\", \"Harvard scores\", \"2_day_reterns\",\"3_day_reterns\", \"4_day_reterns\", \"5_day_reterns\", \"6_day_reterns\", \"7_day_reterns\", \"full_quarter_returns\"])\n",
    "\n",
    "for tic_sym, df in df_dict_scores.items():\n",
    "    print(tic_sym)\n",
    "\n",
    "    returns_df = computing_returns(tic_sym, df)\n",
    "    \n",
    "    stacked_df = df.vstack(returns_df)\n",
    "    stacked_df_with_indx = stacked_df.hstack([row_names])\n",
    "    \n",
    "    dict_for_anal[tic_sym] = stacked_df_with_indx\n",
    "    "
   ]
  },
  {
   "cell_type": "markdown",
   "metadata": {},
   "source": [
    "Lets start the analisys. The general question is: how well sentiment scores and weighted scores can explain returns? "
   ]
  },
  {
   "cell_type": "markdown",
   "metadata": {},
   "source": [
    "Lets see them on the graph:"
   ]
  },
  {
   "cell_type": "code",
   "execution_count": null,
   "metadata": {},
   "outputs": [],
   "source": [
    "for company_name, scores in dict_for_anal.items():\n",
    "   \n",
    "    df_for_plt = scores.select(pl.exclude(\"row_names\"))\n",
    "\n",
    "    dates = [datetime.strptime(date, \"%Y-%m-%d\") for date in df_for_plt.columns]\n",
    "   \n",
    "    plt.figure(figsize=(10, 6))\n",
    "    row_indices_to_plot = [0, 1, 4, -1]\n",
    "\n",
    "    for idx in row_indices_to_plot:\n",
    "        row = df_for_plt.row(idx, named=True)  \n",
    "        plt.plot(dates, list(row.values()), label=scores.row(idx)[-1])\n",
    "\n",
    "    plt.title(company_name)\n",
    "    plt.xlabel(\"Date\")\n",
    "    plt.ylabel(\"Values\")\n",
    "    plt.legend()\n",
    "    plt.xticks(rotation=45)\n",
    "    plt.tight_layout()\n",
    "    plt.show()"
   ]
  },
  {
   "cell_type": "markdown",
   "metadata": {},
   "source": [
    "At first glance some time series exhibits at least piecewise dependence. \n",
    "\n",
    "Next step is to regress each return on weighted, raw scores and polarity scores from Loughran-McDonald and Harvard dictionaries.\n",
    "\n",
    "And also we can see that in cases of 10-K reports which are typicly much longer we can see strong pattern in raw scores which is smoothed in weighted scores. But still this pattern could be recognized. This can be interpreted as 10-K can contain more information about future prices"
   ]
  },
  {
   "cell_type": "markdown",
   "metadata": {},
   "source": [
    "This func takes as input key-value pair (company name and dataframe with sentiment scores and returns), regress each retern (2_days, 3_days, etc) on weightes sentiment score ans raw sentiment score. Then it collects the slopes (beta-coefficient) of returns regressed on raw score and on weighted score in the separate polars series (in the loop they will be staked in dataframe)"
   ]
  },
  {
   "cell_type": "code",
   "execution_count": 110,
   "metadata": {},
   "outputs": [],
   "source": [
    "def get_regresssor_values(x, company_df_woi):\n",
    "    regressor = pl.Series(company_df_woi.row(0))\n",
    "    return regressor"
   ]
  },
  {
   "cell_type": "code",
   "execution_count": 111,
   "metadata": {},
   "outputs": [],
   "source": [
    "def regression_slopes(company_df, company_name=\"total_df\", X_names = None):\n",
    "    \n",
    "    # x_1 - weighted score\n",
    "    # x_2 - raw score\n",
    "    # x_3 - lm score\n",
    "    # x_4 - harvard score\n",
    "    \n",
    "    X_names = [company_df.select(pl.col(\"row_names\")).row(x) for x in range(0, 4)]\n",
    "    print(X_names)\n",
    "    X_values  = [get_regresssor_values(x) for x in range(0, 4) ]\n",
    "    print(X_values)\n",
    "    \n",
    "    company_df_woi = company_df.select(pl.exclude(\"row_names\"))\n",
    "    x_1 = company_df_woi.row(0)\n",
    "    x_2 = company_df_woi.row(1)\n",
    "    x_3 = company_df_woi.row(2)\n",
    "    x_4 = company_df_woi.row(3)\n",
    "\n",
    "\n",
    "\n",
    "    x_1 = sm.add_constant(x_1)\n",
    "    x_2 = sm.add_constant(x_2)\n",
    "    x_3 = sm.add_constant(x_3)\n",
    "    x_4 = sm.add_constant(x_4)\n",
    "\n",
    "    X = [x_1, x_2, x_3, x_4]\n",
    "    \n",
    "    Y = [company_df_woi.row(y) for y in range(4, 11)]\n",
    "         \n",
    "    slopes_weighted = []\n",
    "    for y in Y:\n",
    "        \n",
    "        model = sm.OLS(y, x_1, missing='drop').fit()\n",
    "        slope = model.params[1]\n",
    "        slopes_weighted.append(slope)\n",
    "    \n",
    "    slopes_raw = []\n",
    "    for y in Y:\n",
    "        \n",
    "        model = sm.OLS(y, x_2, missing='drop').fit()\n",
    "        slope = model.params[1]\n",
    "        slopes_raw.append(slope)\n",
    "    \n",
    "    slopes_lm = []\n",
    "    for y in Y:\n",
    "        \n",
    "        model = sm.OLS(y, x_3, missing='drop').fit()\n",
    "        slope = model.params[1]\n",
    "        slopes_lm.append(slope)\n",
    "\n",
    "    slopes_harvard = []\n",
    "    for y in Y:\n",
    "        \n",
    "        model = sm.OLS(y, x_4, missing='drop').fit()\n",
    "        slope = model.params[1]\n",
    "        slopes_harvard.append(slope)\n",
    "\n",
    "\n",
    "    slopes_weighted = pl.Series(company_name, slopes_weighted)\n",
    "    slopes_raw = pl.Series(company_name, slopes_raw)\n",
    "    slopes_lm = pl.Series(company_name, slopes_lm)\n",
    "    slopes_harvard = pl.Series(company_name, slopes_harvard)\n",
    "    \n",
    "\n",
    "    return slopes_weighted, slopes_raw, slopes_lm, slopes_harvard"
   ]
  },
  {
   "cell_type": "code",
   "execution_count": null,
   "metadata": {},
   "outputs": [],
   "source": [
    "def fit_regression(Y, x, )"
   ]
  },
  {
   "cell_type": "markdown",
   "metadata": {},
   "source": [
    "This is the general loop that takes dict_for_anal() whith scores and returns and for each company in the dict it calculates two series: first one contain regression slopes for weighted scores and second one for raw scores. Serieses stacked in the separete dataframes (for raw and for weighted scores)"
   ]
  },
  {
   "cell_type": "code",
   "execution_count": 83,
   "metadata": {},
   "outputs": [],
   "source": [
    "def compute_all_slopes(dict_for_anal):\n",
    "\n",
    "    weighted_slopes_df = pl.DataFrame()\n",
    "    raw_slopes_df = pl.DataFrame()\n",
    "    lm_slopes_df = pl.DataFrame()\n",
    "    harvard_slopes_df = pl.DataFrame()\n",
    "    \n",
    "    for company_name, company_df in dict_for_anal.items(): \n",
    "\n",
    "        X_names = [company_df.select(pl.col(\"row_names\")).row(x) for x in range(0, 4)]\n",
    "\n",
    "        slopes_weighted, slopes_raw, slopes_lm, slopes_harvard = regression_slopes(company_df, company_name, X_names)\n",
    "        \n",
    "        weighted_slopes_df = weighted_slopes_df.hstack([slopes_weighted])\n",
    "        raw_slopes_df = raw_slopes_df.hstack([slopes_raw])\n",
    "        lm_slopes_df = lm_slopes_df.hstack([slopes_lm])\n",
    "        harvard_slopes_df = harvard_slopes_df.hstack([slopes_harvard])\n",
    "\n",
    "    return weighted_slopes_df, raw_slopes_df, lm_slopes_df, harvard_slopes_df\n",
    "        "
   ]
  },
  {
   "cell_type": "code",
   "execution_count": 112,
   "metadata": {},
   "outputs": [
    {
     "name": "stdout",
     "output_type": "stream",
     "text": [
      "[('weighted scores',), ('raw scores',), ('lm scores',), ('Harvard scores',)]\n"
     ]
    },
    {
     "ename": "TypeError",
     "evalue": "get_regresssor_values() missing 1 required positional argument: 'company_df_woi'",
     "output_type": "error",
     "traceback": [
      "\u001b[1;31m---------------------------------------------------------------------------\u001b[0m",
      "\u001b[1;31mTypeError\u001b[0m                                 Traceback (most recent call last)",
      "Cell \u001b[1;32mIn[112], line 1\u001b[0m\n\u001b[1;32m----> 1\u001b[0m weighted_slopes_df, raw_slopes_df, lm_slopes_df, harvard_slopes_df \u001b[38;5;241m=\u001b[39m \u001b[43mcompute_all_slopes\u001b[49m\u001b[43m(\u001b[49m\u001b[43mdict_for_anal\u001b[49m\u001b[43m)\u001b[49m\n",
      "Cell \u001b[1;32mIn[83], line 9\u001b[0m, in \u001b[0;36mcompute_all_slopes\u001b[1;34m(dict_for_anal)\u001b[0m\n\u001b[0;32m      6\u001b[0m harvard_slopes_df \u001b[38;5;241m=\u001b[39m pl\u001b[38;5;241m.\u001b[39mDataFrame()\n\u001b[0;32m      8\u001b[0m \u001b[38;5;28;01mfor\u001b[39;00m company_name, company_df \u001b[38;5;129;01min\u001b[39;00m dict_for_anal\u001b[38;5;241m.\u001b[39mitems(): \n\u001b[1;32m----> 9\u001b[0m     slopes_weighted, slopes_raw, slopes_lm, slopes_harvard \u001b[38;5;241m=\u001b[39m \u001b[43mregression_slopes\u001b[49m\u001b[43m(\u001b[49m\u001b[43mcompany_df\u001b[49m\u001b[43m,\u001b[49m\u001b[43m \u001b[49m\u001b[43mcompany_name\u001b[49m\u001b[43m)\u001b[49m\n\u001b[0;32m     11\u001b[0m     weighted_slopes_df \u001b[38;5;241m=\u001b[39m weighted_slopes_df\u001b[38;5;241m.\u001b[39mhstack([slopes_weighted])\n\u001b[0;32m     12\u001b[0m     raw_slopes_df \u001b[38;5;241m=\u001b[39m raw_slopes_df\u001b[38;5;241m.\u001b[39mhstack([slopes_raw])\n",
      "Cell \u001b[1;32mIn[111], line 9\u001b[0m, in \u001b[0;36mregression_slopes\u001b[1;34m(company_df, company_name, X_names)\u001b[0m\n\u001b[0;32m      7\u001b[0m X_names \u001b[38;5;241m=\u001b[39m [company_df\u001b[38;5;241m.\u001b[39mselect(pl\u001b[38;5;241m.\u001b[39mcol(\u001b[38;5;124m\"\u001b[39m\u001b[38;5;124mrow_names\u001b[39m\u001b[38;5;124m\"\u001b[39m))\u001b[38;5;241m.\u001b[39mrow(x) \u001b[38;5;28;01mfor\u001b[39;00m x \u001b[38;5;129;01min\u001b[39;00m \u001b[38;5;28mrange\u001b[39m(\u001b[38;5;241m0\u001b[39m, \u001b[38;5;241m4\u001b[39m)]\n\u001b[0;32m      8\u001b[0m \u001b[38;5;28mprint\u001b[39m(X_names)\n\u001b[1;32m----> 9\u001b[0m X_values  \u001b[38;5;241m=\u001b[39m \u001b[43m[\u001b[49m\u001b[43mget_regresssor_values\u001b[49m\u001b[43m(\u001b[49m\u001b[43mx\u001b[49m\u001b[43m)\u001b[49m\u001b[43m \u001b[49m\u001b[38;5;28;43;01mfor\u001b[39;49;00m\u001b[43m \u001b[49m\u001b[43mx\u001b[49m\u001b[43m \u001b[49m\u001b[38;5;129;43;01min\u001b[39;49;00m\u001b[43m \u001b[49m\u001b[38;5;28;43mrange\u001b[39;49m\u001b[43m(\u001b[49m\u001b[38;5;241;43m0\u001b[39;49m\u001b[43m,\u001b[49m\u001b[43m \u001b[49m\u001b[38;5;241;43m4\u001b[39;49m\u001b[43m)\u001b[49m\u001b[43m \u001b[49m\u001b[43m]\u001b[49m\n\u001b[0;32m     10\u001b[0m \u001b[38;5;28mprint\u001b[39m(X_values)\n\u001b[0;32m     12\u001b[0m company_df_woi \u001b[38;5;241m=\u001b[39m company_df\u001b[38;5;241m.\u001b[39mselect(pl\u001b[38;5;241m.\u001b[39mexclude(\u001b[38;5;124m\"\u001b[39m\u001b[38;5;124mrow_names\u001b[39m\u001b[38;5;124m\"\u001b[39m))\n",
      "Cell \u001b[1;32mIn[111], line 9\u001b[0m, in \u001b[0;36m<listcomp>\u001b[1;34m(.0)\u001b[0m\n\u001b[0;32m      7\u001b[0m X_names \u001b[38;5;241m=\u001b[39m [company_df\u001b[38;5;241m.\u001b[39mselect(pl\u001b[38;5;241m.\u001b[39mcol(\u001b[38;5;124m\"\u001b[39m\u001b[38;5;124mrow_names\u001b[39m\u001b[38;5;124m\"\u001b[39m))\u001b[38;5;241m.\u001b[39mrow(x) \u001b[38;5;28;01mfor\u001b[39;00m x \u001b[38;5;129;01min\u001b[39;00m \u001b[38;5;28mrange\u001b[39m(\u001b[38;5;241m0\u001b[39m, \u001b[38;5;241m4\u001b[39m)]\n\u001b[0;32m      8\u001b[0m \u001b[38;5;28mprint\u001b[39m(X_names)\n\u001b[1;32m----> 9\u001b[0m X_values  \u001b[38;5;241m=\u001b[39m [\u001b[43mget_regresssor_values\u001b[49m\u001b[43m(\u001b[49m\u001b[43mx\u001b[49m\u001b[43m)\u001b[49m \u001b[38;5;28;01mfor\u001b[39;00m x \u001b[38;5;129;01min\u001b[39;00m \u001b[38;5;28mrange\u001b[39m(\u001b[38;5;241m0\u001b[39m, \u001b[38;5;241m4\u001b[39m) ]\n\u001b[0;32m     10\u001b[0m \u001b[38;5;28mprint\u001b[39m(X_values)\n\u001b[0;32m     12\u001b[0m company_df_woi \u001b[38;5;241m=\u001b[39m company_df\u001b[38;5;241m.\u001b[39mselect(pl\u001b[38;5;241m.\u001b[39mexclude(\u001b[38;5;124m\"\u001b[39m\u001b[38;5;124mrow_names\u001b[39m\u001b[38;5;124m\"\u001b[39m))\n",
      "\u001b[1;31mTypeError\u001b[0m: get_regresssor_values() missing 1 required positional argument: 'company_df_woi'"
     ]
    }
   ],
   "source": [
    "weighted_slopes_df, raw_slopes_df, lm_slopes_df, harvard_slopes_df = compute_all_slopes(dict_for_anal)"
   ]
  },
  {
   "cell_type": "markdown",
   "metadata": {},
   "source": [
    "This func stackes all data in one df, and calculate the single slope for each time frame"
   ]
  },
  {
   "cell_type": "code",
   "execution_count": 52,
   "metadata": {},
   "outputs": [],
   "source": [
    "def compute_signl_slope(dict_for_anal):\n",
    "\n",
    "    total_df = pl.DataFrame()\n",
    "    \n",
    "    for company_name, company_df in dict_for_anal.items(): \n",
    "    \n",
    "        company_df = company_df.select(pl.exclude(\"row_names\"))\n",
    "        company_df = company_df.rename({col: f\"{col}_{company_name}\" for col in company_df.columns})\n",
    "\n",
    "        total_df = total_df.hstack(company_df)\n",
    "    \n",
    "    slopes_weighted, slopes_raw, slopes_lm, slopes_harvard = regression_slopes(total_df)\n",
    "\n",
    "    return slopes_weighted, slopes_raw, slopes_lm, slopes_harvard"
   ]
  },
  {
   "cell_type": "code",
   "execution_count": 53,
   "metadata": {},
   "outputs": [],
   "source": [
    "slopes_weighted, slopes_raw, slopes_lm, slopes_harvard = compute_signl_slope(dict_for_anal)"
   ]
  },
  {
   "cell_type": "code",
   "execution_count": 54,
   "metadata": {},
   "outputs": [
    {
     "name": "stdout",
     "output_type": "stream",
     "text": [
      " slopes_weighted: shape: (7,)\n",
      "Series: 'total_df' [f64]\n",
      "[\n",
      "\t-0.010128\n",
      "\t0.017337\n",
      "\t0.027534\n",
      "\t0.021936\n",
      "\t0.021412\n",
      "\t0.011302\n",
      "\t0.069174\n",
      "], slopes_raw: shape: (7,)\n",
      "Series: 'total_df' [f64]\n",
      "[\n",
      "\t-0.004305\n",
      "\t0.002191\n",
      "\t0.004343\n",
      "\t0.002966\n",
      "\t0.002653\n",
      "\t0.000279\n",
      "\t0.015596\n",
      "], slopes_lm: shape: (7,)\n",
      "Series: 'total_df' [f64]\n",
      "[\n",
      "\t0.261623\n",
      "\t1.190969\n",
      "\t0.976685\n",
      "\t1.712239\n",
      "\t1.573408\n",
      "\t1.574919\n",
      "\t17.935826\n",
      "], slopes_harvard: shape: (7,)\n",
      "Series: 'total_df' [f64]\n",
      "[\n",
      "\t-3.821321\n",
      "\t0.491047\n",
      "\t4.196087\n",
      "\t3.283942\n",
      "\t4.576626\n",
      "\t4.100111\n",
      "\t16.187508\n",
      "]\n"
     ]
    }
   ],
   "source": [
    "print(f' slopes_weighted: {slopes_weighted}, slopes_raw: {slopes_raw}, slopes_lm: {slopes_lm}, slopes_harvard: {slopes_harvard}')"
   ]
  },
  {
   "cell_type": "markdown",
   "metadata": {},
   "source": [
    "As an output from previous functions we have two dataframes with regression slopes of different returns on raw and on weighted scores. Each col of these dfs contain regression slopes for particular company. First row contain slope for 2_days return, second row contain slope for 3_days return, etc.  I have decided to check what is the proportion of positive regression slopes for each return timeframe (2_days, 3_days, etc). For that purpose i will transpose each of these dfs, apply condition > 0, then verticaly sum boolean values and obtain the prorortion of positive slopes for each time frame. "
   ]
  },
  {
   "cell_type": "code",
   "execution_count": 55,
   "metadata": {},
   "outputs": [],
   "source": [
    "def calc_efficiency_metrics(slopes_df):\n",
    "\n",
    "    df_tranposed = slopes_df.transpose()\n",
    "\n",
    "    res = df_tranposed.select(pl.all() > 0).sum()\n",
    "    total_num_of_slopes = slopes_df.shape[1]\n",
    "\n",
    "    positive_slopes = [res.select(pl.col(res.columns[x]).gather(0)).item() for x in range(slopes_df.shape[0])]\n",
    "\n",
    "    for counter, x in enumerate(positive_slopes):\n",
    "        print(f'Prorortion of positive {counter + 2}_day returns: {x/total_num_of_slopes}')\n",
    "    \n",
    "    \n",
    "\n",
    "    "
   ]
  },
  {
   "cell_type": "code",
   "execution_count": 56,
   "metadata": {},
   "outputs": [
    {
     "name": "stdout",
     "output_type": "stream",
     "text": [
      "Prorortion of positive 2_day returns: 0.5\n",
      "Prorortion of positive 3_day returns: 0.55\n",
      "Prorortion of positive 4_day returns: 0.45\n",
      "Prorortion of positive 5_day returns: 0.45\n",
      "Prorortion of positive 6_day returns: 0.4\n",
      "Prorortion of positive 7_day returns: 0.45\n",
      "Prorortion of positive 8_day returns: 0.5\n"
     ]
    }
   ],
   "source": [
    "calc_efficiency_metrics(raw_slopes_df)"
   ]
  },
  {
   "cell_type": "code",
   "execution_count": 57,
   "metadata": {},
   "outputs": [
    {
     "name": "stdout",
     "output_type": "stream",
     "text": [
      "Prorortion of positive 2_day returns: 0.5\n",
      "Prorortion of positive 3_day returns: 0.5\n",
      "Prorortion of positive 4_day returns: 0.45\n",
      "Prorortion of positive 5_day returns: 0.45\n",
      "Prorortion of positive 6_day returns: 0.4\n",
      "Prorortion of positive 7_day returns: 0.4\n",
      "Prorortion of positive 8_day returns: 0.5\n"
     ]
    }
   ],
   "source": [
    "calc_efficiency_metrics(weighted_slopes_df)"
   ]
  },
  {
   "cell_type": "code",
   "execution_count": 58,
   "metadata": {},
   "outputs": [
    {
     "name": "stdout",
     "output_type": "stream",
     "text": [
      "Prorortion of positive 2_day returns: 0.45\n",
      "Prorortion of positive 3_day returns: 0.5\n",
      "Prorortion of positive 4_day returns: 0.6\n",
      "Prorortion of positive 5_day returns: 0.65\n",
      "Prorortion of positive 6_day returns: 0.6\n",
      "Prorortion of positive 7_day returns: 0.65\n",
      "Prorortion of positive 8_day returns: 0.5\n"
     ]
    }
   ],
   "source": [
    "calc_efficiency_metrics(harvard_slopes_df)"
   ]
  },
  {
   "cell_type": "code",
   "execution_count": 59,
   "metadata": {},
   "outputs": [
    {
     "name": "stdout",
     "output_type": "stream",
     "text": [
      "Prorortion of positive 2_day returns: 0.45\n",
      "Prorortion of positive 3_day returns: 0.5\n",
      "Prorortion of positive 4_day returns: 0.6\n",
      "Prorortion of positive 5_day returns: 0.65\n",
      "Prorortion of positive 6_day returns: 0.6\n",
      "Prorortion of positive 7_day returns: 0.65\n",
      "Prorortion of positive 8_day returns: 0.5\n"
     ]
    }
   ],
   "source": [
    "calc_efficiency_metrics(harvard_slopes_df)"
   ]
  },
  {
   "cell_type": "markdown",
   "metadata": {},
   "source": [
    "Positive slopes means that sentiment scores and returns mooves in the same direction (hense, they are working as predictors of stock price movement). As the result of this preliminary analisis we can say that sentiment scores of 10-Q reports are not very good predictors of stock movments. Positive proportion of this slopes are close to 0.5, which means that on average in our sample there are 50/50 chance that scores and returns are mooving in the same direction.\n",
    "\n",
    "As we can see that, despite visual conclusion that weighted scores are more \"smooth\", they barely outperform raw scores, but at least they are not worse, meaning that at each time frame (except 5_days) the proportion of positive regression slopes of weighted scores => proportion of positive regression slopes of raw scores."
   ]
  },
  {
   "cell_type": "markdown",
   "metadata": {},
   "source": [
    "jupyter nbconvert --to pdf Parsim-sec\\src\\Analysis\\YFiin_excess_returns.ipynb\n",
    "\n",
    "jupyter nbconvert --to html Parsim-sec\\src\\Analysis\\YFiin_excess_returns.ipynb\n",
    "\n"
   ]
  }
 ],
 "metadata": {
  "kernelspec": {
   "display_name": "env",
   "language": "python",
   "name": "python3"
  },
  "language_info": {
   "codemirror_mode": {
    "name": "ipython",
    "version": 3
   },
   "file_extension": ".py",
   "mimetype": "text/x-python",
   "name": "python",
   "nbconvert_exporter": "python",
   "pygments_lexer": "ipython3",
   "version": "3.11.5"
  }
 },
 "nbformat": 4,
 "nbformat_minor": 2
}
