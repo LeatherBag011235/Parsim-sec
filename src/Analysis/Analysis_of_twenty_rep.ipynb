{
 "cells": [
  {
   "cell_type": "code",
   "execution_count": 194,
   "metadata": {},
   "outputs": [],
   "source": [
    "import polars as pl\n",
    "import polars.selectors as cs\n",
    "from polars import functions as pf\n",
    "import math\n",
    "import os"
   ]
  },
  {
   "cell_type": "code",
   "execution_count": 3,
   "metadata": {},
   "outputs": [],
   "source": [
    "COMPANY_NAME_LIST = ['Apple%2520Inc.%2520(AAPL)%2520(CIK%25200000320193)', 'MICROSOFT%2520CORP%2520(MSFT)%2520(CIK%25200000789019)', \n",
    "                     'BigCommerce%2520Holdings%252C%2520Inc.%2520(BIGC)%2520(CIK%25200001626450)', 'ROKU%252C%2520INC%2520(ROKU)%2520(CIK%25200001428439)', \n",
    "                     'JPMORGAN%2520CHASE%2520(CIK%25200000019617)', 'VISA%2520INC.%2520(V)%2520(CIK%25200001403161)', \n",
    "                     'Block%252C%2520Inc.%2520(SQ%252C%2520BSQKZ)%2520(CIK%25200001512673)', 'Robinhood%2520Markets%252C%2520Inc.%2520(HOOD)%2520(CIK%25200001783879)', \n",
    "                     'JOHNSON%252C%252C%2520JOHNSON%2520(JNJ)%2520(CIK%25200000200406)', 'PFIZER%2520INC%2520(PFE)%2520(CIK%25200000078003)', \n",
    "                     'Moderna%252C%2520Inc.%2520(MRNA)%2520(CIK%25200001682852)', 'Teladoc%2520Health%252C%2520Inc.%2520(TDOC)%2520(CIK%25200001477449)', \n",
    "                     'EXXON%2520MOBIL%2520CORP%2520(XOM)%2520(CIK%25200000034088)', 'CHEVRON%2520CORP%2520(CVX)%2520(CIK%25200000093410)', \n",
    "                     'FIRST%2520SOLAR%252C%2520INC.%2520(FSLR)%2520(CIK%25200001274494)', 'PLUG%2520POWER%2520INC%2520(PLUG)%2520(CIK%25200001093691)', \n",
    "                     'GENERAL%252CELECTRIC%2520CO%2520(GE)%2520(CIK%25200000040545)', '3M%2520CO%2520(MMM)%2520(CIK%25200000066740)', \n",
    "                     'CATERPILLAR%2520INC%2520(CAT)%2520(CIK%25200000018230)', 'FASTENAL%2520CO%2520(FAST)%2520(CIK%25200000815556)']"
   ]
  },
  {
   "cell_type": "code",
   "execution_count": 3,
   "metadata": {},
   "outputs": [],
   "source": [
    "df = pl.read_parquet(r'C:\\Users\\310\\Desktop\\Progects_Py\\cleared_files\\PLUG%2520POWER%2520INC%2520(PLUG)%2520(CIK%25200001093691)_reports.parquet')"
   ]
  },
  {
   "cell_type": "code",
   "execution_count": 4,
   "metadata": {},
   "outputs": [
    {
     "data": {
      "text/html": [
       "<div><style>\n",
       ".dataframe > thead > tr,\n",
       ".dataframe > tbody > tr {\n",
       "  text-align: right;\n",
       "  white-space: pre-wrap;\n",
       "}\n",
       "</style>\n",
       "<small>shape: (86_531, 16)</small><table border=\"1\" class=\"dataframe\"><thead><tr><th>Word</th><th>Seq_num</th><th>Word Count</th><th>Word Proportion</th><th>Average Proportion</th><th>Std Dev</th><th>Doc Count</th><th>Negative</th><th>Positive</th><th>Uncertainty</th><th>Litigious</th><th>Strong_Modal</th><th>Weak_Modal</th><th>Constraining</th><th>Syllables</th><th>Source</th></tr><tr><td>str</td><td>i64</td><td>i64</td><td>f64</td><td>f64</td><td>f64</td><td>i64</td><td>i64</td><td>i64</td><td>i64</td><td>i64</td><td>i64</td><td>i64</td><td>i64</td><td>i64</td><td>str</td></tr></thead><tbody><tr><td>&quot;AARDVARK&quot;</td><td>1</td><td>354</td><td>1.5501e-8</td><td>1.4226e-8</td><td>0.000004</td><td>99</td><td>0</td><td>0</td><td>0</td><td>0</td><td>0</td><td>0</td><td>0</td><td>2</td><td>&quot;12of12inf&quot;</td></tr><tr><td>&quot;AARDVARKS&quot;</td><td>2</td><td>3</td><td>1.3136e-10</td><td>8.6538e-12</td><td>9.2417e-9</td><td>1</td><td>0</td><td>0</td><td>0</td><td>0</td><td>0</td><td>0</td><td>0</td><td>2</td><td>&quot;12of12inf&quot;</td></tr><tr><td>&quot;ABACI&quot;</td><td>3</td><td>9</td><td>3.9409e-10</td><td>1.1697e-10</td><td>5.2905e-8</td><td>7</td><td>0</td><td>0</td><td>0</td><td>0</td><td>0</td><td>0</td><td>0</td><td>3</td><td>&quot;12of12inf&quot;</td></tr><tr><td>&quot;ABACK&quot;</td><td>4</td><td>29</td><td>1.2698e-9</td><td>6.6547e-10</td><td>1.5951e-7</td><td>28</td><td>0</td><td>0</td><td>0</td><td>0</td><td>0</td><td>0</td><td>0</td><td>2</td><td>&quot;12of12inf&quot;</td></tr><tr><td>&quot;ABACUS&quot;</td><td>5</td><td>8570</td><td>3.7526e-7</td><td>3.8095e-7</td><td>0.000035</td><td>1108</td><td>0</td><td>0</td><td>0</td><td>0</td><td>0</td><td>0</td><td>0</td><td>3</td><td>&quot;12of12inf&quot;</td></tr><tr><td>&hellip;</td><td>&hellip;</td><td>&hellip;</td><td>&hellip;</td><td>&hellip;</td><td>&hellip;</td><td>&hellip;</td><td>&hellip;</td><td>&hellip;</td><td>&hellip;</td><td>&hellip;</td><td>&hellip;</td><td>&hellip;</td><td>&hellip;</td><td>&hellip;</td><td>&hellip;</td></tr><tr><td>&quot;ZYGOTE&quot;</td><td>86529</td><td>50</td><td>2.1894e-9</td><td>8.7293e-10</td><td>1.8860e-7</td><td>35</td><td>0</td><td>0</td><td>0</td><td>0</td><td>0</td><td>0</td><td>0</td><td>2</td><td>&quot;12of12inf&quot;</td></tr><tr><td>&quot;ZYGOTES&quot;</td><td>86530</td><td>1</td><td>4.3788e-11</td><td>1.8095e-11</td><td>1.9324e-8</td><td>1</td><td>0</td><td>0</td><td>0</td><td>0</td><td>0</td><td>0</td><td>0</td><td>2</td><td>&quot;12of12inf&quot;</td></tr><tr><td>&quot;ZYGOTIC&quot;</td><td>86531</td><td>0</td><td>0.0</td><td>0.0</td><td>0.0</td><td>0</td><td>0</td><td>0</td><td>0</td><td>0</td><td>0</td><td>0</td><td>0</td><td>3</td><td>&quot;12of12inf&quot;</td></tr><tr><td>&quot;ZYMURGIES&quot;</td><td>86532</td><td>0</td><td>0.0</td><td>0.0</td><td>0.0</td><td>0</td><td>0</td><td>0</td><td>0</td><td>0</td><td>0</td><td>0</td><td>0</td><td>3</td><td>&quot;12of12inf&quot;</td></tr><tr><td>&quot;ZYMURGY&quot;</td><td>86533</td><td>0</td><td>0.0</td><td>0.0</td><td>0.0</td><td>0</td><td>0</td><td>0</td><td>0</td><td>0</td><td>0</td><td>0</td><td>0</td><td>3</td><td>&quot;12of12inf&quot;</td></tr></tbody></table></div>"
      ],
      "text/plain": [
       "shape: (86_531, 16)\n",
       "┌───────────┬─────────┬───────┬─────────────┬───┬─────────────┬────────────┬───────────┬───────────┐\n",
       "│ Word      ┆ Seq_num ┆ Word  ┆ Word        ┆ … ┆ Weak_Modal  ┆ Constraini ┆ Syllables ┆ Source    │\n",
       "│ ---       ┆ ---     ┆ Count ┆ Proportion  ┆   ┆ ---         ┆ ng         ┆ ---       ┆ ---       │\n",
       "│ str       ┆ i64     ┆ ---   ┆ ---         ┆   ┆ i64         ┆ ---        ┆ i64       ┆ str       │\n",
       "│           ┆         ┆ i64   ┆ f64         ┆   ┆             ┆ i64        ┆           ┆           │\n",
       "╞═══════════╪═════════╪═══════╪═════════════╪═══╪═════════════╪════════════╪═══════════╪═══════════╡\n",
       "│ AARDVARK  ┆ 1       ┆ 354   ┆ 1.5501e-8   ┆ … ┆ 0           ┆ 0          ┆ 2         ┆ 12of12inf │\n",
       "│ AARDVARKS ┆ 2       ┆ 3     ┆ 1.3136e-10  ┆ … ┆ 0           ┆ 0          ┆ 2         ┆ 12of12inf │\n",
       "│ ABACI     ┆ 3       ┆ 9     ┆ 3.9409e-10  ┆ … ┆ 0           ┆ 0          ┆ 3         ┆ 12of12inf │\n",
       "│ ABACK     ┆ 4       ┆ 29    ┆ 1.2698e-9   ┆ … ┆ 0           ┆ 0          ┆ 2         ┆ 12of12inf │\n",
       "│ ABACUS    ┆ 5       ┆ 8570  ┆ 3.7526e-7   ┆ … ┆ 0           ┆ 0          ┆ 3         ┆ 12of12inf │\n",
       "│ …         ┆ …       ┆ …     ┆ …           ┆ … ┆ …           ┆ …          ┆ …         ┆ …         │\n",
       "│ ZYGOTE    ┆ 86529   ┆ 50    ┆ 2.1894e-9   ┆ … ┆ 0           ┆ 0          ┆ 2         ┆ 12of12inf │\n",
       "│ ZYGOTES   ┆ 86530   ┆ 1     ┆ 4.3788e-11  ┆ … ┆ 0           ┆ 0          ┆ 2         ┆ 12of12inf │\n",
       "│ ZYGOTIC   ┆ 86531   ┆ 0     ┆ 0.0         ┆ … ┆ 0           ┆ 0          ┆ 3         ┆ 12of12inf │\n",
       "│ ZYMURGIES ┆ 86532   ┆ 0     ┆ 0.0         ┆ … ┆ 0           ┆ 0          ┆ 3         ┆ 12of12inf │\n",
       "│ ZYMURGY   ┆ 86533   ┆ 0     ┆ 0.0         ┆ … ┆ 0           ┆ 0          ┆ 3         ┆ 12of12inf │\n",
       "└───────────┴─────────┴───────┴─────────────┴───┴─────────────┴────────────┴───────────┴───────────┘"
      ]
     },
     "execution_count": 4,
     "metadata": {},
     "output_type": "execute_result"
    }
   ],
   "source": [
    "lm_dict = pl.read_csv(r'C:\\Users\\310\\Desktop\\Progects_Py\\Parsim-sec\\src\\Analysis\\Loughran-McDonald_MasterDictionary_1993-2021.csv')\n",
    "lm_dict"
   ]
  },
  {
   "cell_type": "code",
   "execution_count": 44,
   "metadata": {},
   "outputs": [
    {
     "name": "stdout",
     "output_type": "stream",
     "text": [
      "Apple\n",
      "C:\\Users\\310\\Desktop\\Progects_Py\\cleared_files\\Apple%2520Inc.%2520(AAPL)%2520(CIK%25200000320193)_reports.parquet\n",
      "MICROSOFT\n",
      "C:\\Users\\310\\Desktop\\Progects_Py\\cleared_files\\MICROSOFT%2520CORP%2520(MSFT)%2520(CIK%25200000789019)_reports.parquet\n",
      "BigCommerce\n",
      "C:\\Users\\310\\Desktop\\Progects_Py\\cleared_files\\BigCommerce%2520Holdings%252C%2520Inc.%2520(BIGC)%2520(CIK%25200001626450)_reports.parquet\n",
      "ROKU\n",
      "C:\\Users\\310\\Desktop\\Progects_Py\\cleared_files\\ROKU%252C%2520INC%2520(ROKU)%2520(CIK%25200001428439)_reports.parquet\n",
      "JPMORGAN\n",
      "C:\\Users\\310\\Desktop\\Progects_Py\\cleared_files\\JPMORGAN%2520CHASE%2520(CIK%25200000019617)_reports.parquet\n",
      "VISA\n",
      "C:\\Users\\310\\Desktop\\Progects_Py\\cleared_files\\VISA%2520INC.%2520(V)%2520(CIK%25200001403161)_reports.parquet\n",
      "Block\n",
      "C:\\Users\\310\\Desktop\\Progects_Py\\cleared_files\\Block%252C%2520Inc.%2520(SQ%252C%2520BSQKZ)%2520(CIK%25200001512673)_reports.parquet\n",
      "Robinhood\n",
      "C:\\Users\\310\\Desktop\\Progects_Py\\cleared_files\\Robinhood%2520Markets%252C%2520Inc.%2520(HOOD)%2520(CIK%25200001783879)_reports.parquet\n",
      "JOHNSON\n",
      "C:\\Users\\310\\Desktop\\Progects_Py\\cleared_files\\JOHNSON%252C%252C%2520JOHNSON%2520(JNJ)%2520(CIK%25200000200406)_reports.parquet\n",
      "PFIZER\n",
      "C:\\Users\\310\\Desktop\\Progects_Py\\cleared_files\\PFIZER%2520INC%2520(PFE)%2520(CIK%25200000078003)_reports.parquet\n",
      "Moderna\n",
      "C:\\Users\\310\\Desktop\\Progects_Py\\cleared_files\\Moderna%252C%2520Inc.%2520(MRNA)%2520(CIK%25200001682852)_reports.parquet\n",
      "Teladoc\n",
      "C:\\Users\\310\\Desktop\\Progects_Py\\cleared_files\\Teladoc%2520Health%252C%2520Inc.%2520(TDOC)%2520(CIK%25200001477449)_reports.parquet\n",
      "EXXON\n",
      "C:\\Users\\310\\Desktop\\Progects_Py\\cleared_files\\EXXON%2520MOBIL%2520CORP%2520(XOM)%2520(CIK%25200000034088)_reports.parquet\n",
      "CHEVRON\n",
      "C:\\Users\\310\\Desktop\\Progects_Py\\cleared_files\\CHEVRON%2520CORP%2520(CVX)%2520(CIK%25200000093410)_reports.parquet\n",
      "FIRST\n",
      "C:\\Users\\310\\Desktop\\Progects_Py\\cleared_files\\FIRST%2520SOLAR%252C%2520INC.%2520(FSLR)%2520(CIK%25200001274494)_reports.parquet\n",
      "PLUG\n",
      "C:\\Users\\310\\Desktop\\Progects_Py\\cleared_files\\PLUG%2520POWER%2520INC%2520(PLUG)%2520(CIK%25200001093691)_reports.parquet\n",
      "GENERAL\n",
      "C:\\Users\\310\\Desktop\\Progects_Py\\cleared_files\\GENERAL%252CELECTRIC%2520CO%2520(GE)%2520(CIK%25200000040545)_reports.parquet\n",
      "3M\n",
      "C:\\Users\\310\\Desktop\\Progects_Py\\cleared_files\\3M%2520CO%2520(MMM)%2520(CIK%25200000066740)_reports.parquet\n",
      "CATERPILLAR\n",
      "C:\\Users\\310\\Desktop\\Progects_Py\\cleared_files\\CATERPILLAR%2520INC%2520(CAT)%2520(CIK%25200000018230)_reports.parquet\n",
      "FASTENAL\n",
      "C:\\Users\\310\\Desktop\\Progects_Py\\cleared_files\\FASTENAL%2520CO%2520(FAST)%2520(CIK%25200000815556)_reports.parquet\n"
     ]
    }
   ],
   "source": [
    "df_dict = {}\n",
    "\n",
    "for company_name in COMPANY_NAME_LIST:\n",
    "\n",
    "    clean_name = company_name.split('%')[0]\n",
    "    print(clean_name)\n",
    "\n",
    "    df_name = f\"df_{clean_name}\"\n",
    "\n",
    "    file_path_partial = os.path.join(r\"C:\\Users\\310\\Desktop\\Progects_Py\\cleared_files\", company_name)\n",
    "    file_path = file_path_partial + '_reports.parquet'\n",
    "    print(file_path)\n",
    "\n",
    "    df = pl.read_parquet(file_path)\n",
    "\n",
    "    df_dict[df_name] = df\n",
    "\n"
   ]
  },
  {
   "cell_type": "code",
   "execution_count": 6,
   "metadata": {},
   "outputs": [
    {
     "name": "stdout",
     "output_type": "stream",
     "text": [
      "289\n"
     ]
    }
   ],
   "source": [
    "total_num_of_rep = 0\n",
    "\n",
    "for value in df_dict.values():\n",
    "    total_num_of_rep += value.width\n",
    "print(total_num_of_rep)"
   ]
  },
  {
   "cell_type": "code",
   "execution_count": 7,
   "metadata": {},
   "outputs": [
    {
     "name": "stdout",
     "output_type": "stream",
     "text": [
      "10371991\n"
     ]
    }
   ],
   "source": [
    "total_num_of_words = 0\n",
    "\n",
    "for value in df_dict.values():\n",
    "    for col in value:\n",
    "        total_num_of_words += col.count()\n",
    "\n",
    "print(total_num_of_words)"
   ]
  },
  {
   "cell_type": "code",
   "execution_count": 169,
   "metadata": {},
   "outputs": [
    {
     "data": {
      "text/plain": [
       "35889.242214532875"
      ]
     },
     "execution_count": 169,
     "metadata": {},
     "output_type": "execute_result"
    }
   ],
   "source": [
    "#average doc length\n",
    "average_word_count = total_num_of_words/total_num_of_rep\n",
    "average_word_count"
   ]
  },
  {
   "cell_type": "code",
   "execution_count": 159,
   "metadata": {},
   "outputs": [
    {
     "name": "stdout",
     "output_type": "stream",
     "text": [
      "2692\n"
     ]
    }
   ],
   "source": [
    "#ENSURE CASE CoMpAtAbIlItY\n",
    "positive_words = lm_dict.filter(lm_dict[\"Positive\"] > 0).to_series().str.to_lowercase()\n",
    "\n",
    "negative_words = lm_dict.filter(lm_dict[\"Negative\"] > 0).to_series().str.to_lowercase()\n",
    "print(len(negative_words) + len(positive_words))\n",
    "\n"
   ]
  },
  {
   "cell_type": "code",
   "execution_count": 160,
   "metadata": {},
   "outputs": [],
   "source": [
    "#example series \n",
    "example_series = df_dict['df_3M'][df_dict['df_3M'].columns[1]]\n",
    "example_df = df_dict['df_3M']\n"
   ]
  },
  {
   "cell_type": "markdown",
   "metadata": {},
   "source": [
    "This is the funk, that appled to a series and get sentiment words fron it "
   ]
  },
  {
   "cell_type": "code",
   "execution_count": 161,
   "metadata": {},
   "outputs": [
    {
     "name": "stdout",
     "output_type": "stream",
     "text": [
      "shape: (237, 3)\n",
      "┌────────────┬──────────────┬──────────┐\n",
      "│ 2019-07-26 ┆ count in doc ┆ positive │\n",
      "│ ---        ┆ ---          ┆ ---      │\n",
      "│ str        ┆ u32          ┆ bool     │\n",
      "╞════════════╪══════════════╪══════════╡\n",
      "│ defending  ┆ 20           ┆ false    │\n",
      "│ sluggish   ┆ 2            ┆ false    │\n",
      "│ declines   ┆ 6            ┆ false    │\n",
      "│ claims     ┆ 134          ┆ false    │\n",
      "│ interfere  ┆ 2            ┆ false    │\n",
      "│ …          ┆ …            ┆ …        │\n",
      "│ able       ┆ 16           ┆ true     │\n",
      "│ leading    ┆ 12           ┆ true     │\n",
      "│ enabled    ┆ 2            ┆ true     │\n",
      "│ best       ┆ 14           ┆ true     │\n",
      "│ achieve    ┆ 2            ┆ true     │\n",
      "└────────────┴──────────────┴──────────┘\n"
     ]
    }
   ],
   "source": [
    "def count_sentiment_w_in_doc(df_series):\n",
    "        \n",
    "        #grouped series that became a df, where each row is unique word and its count in document \n",
    "        num_of_w = df_series.value_counts().rename({\"count\": \"count in doc\"})\n",
    "       \n",
    "        \n",
    "        #first col of this df (only words by itself)\n",
    "        only_w = num_of_w[num_of_w.columns[0]]\n",
    "        \n",
    "\n",
    "        #Filterd df, there is only words that have positive or negative sentiment score in this document \n",
    "        pos_w = num_of_w.filter(only_w.is_in(positive_words)).with_columns(pl.lit(True).alias(\"positive\"))\n",
    "        neg_w = num_of_w.filter(only_w.is_in(negative_words)).with_columns(pl.lit(False).alias(\"positive\"))\n",
    "       \n",
    "        #Staked for one df for further operations \n",
    "        df_stacked = neg_w.vstack(pos_w)\n",
    "\n",
    "        return df_stacked\n",
    "    \n",
    "check = count_sentiment_w_in_doc(df_dict['df_3M'][df_dict['df_3M'].columns[1]])  \n",
    "print(check)"
   ]
  },
  {
   "cell_type": "markdown",
   "metadata": {},
   "source": [
    "Func that count a doc with at least one occurense of the i\n",
    "th word"
   ]
  },
  {
   "cell_type": "code",
   "execution_count": 163,
   "metadata": {},
   "outputs": [],
   "source": [
    "def in_all_doc_occurence(check_str, df_dict):\n",
    "    count = 0\n",
    "    for df in df_dict.values():\n",
    "        count += df.select((pl.all() == check_str).sum() > 0).sum_horizontal()[0]\n",
    "        \n",
    "    return count"
   ]
  },
  {
   "cell_type": "code",
   "execution_count": 164,
   "metadata": {},
   "outputs": [
    {
     "data": {
      "text/plain": [
       "289"
      ]
     },
     "execution_count": 164,
     "metadata": {},
     "output_type": "execute_result"
    }
   ],
   "source": [
    "stringg = \"a\"\n",
    "in_all_doc_occurence(stringg, df_dict)"
   ]
  },
  {
   "cell_type": "code",
   "execution_count": 165,
   "metadata": {},
   "outputs": [],
   "source": [
    "def total_occurence_count(df_series, df_dict):\n",
    "   check = count_sentiment_w_in_doc(df_series).lazy()\n",
    "\n",
    "   counts = check.with_columns(pl.col(check.columns[0]).map_elements(lambda x: in_all_doc_occurence(x, df_dict)).alias(\"count in all docs\")).collect()\n",
    "   return counts"
   ]
  },
  {
   "cell_type": "code",
   "execution_count": 249,
   "metadata": {},
   "outputs": [
    {
     "name": "stdout",
     "output_type": "stream",
     "text": [
      "shape: (237, 4)\n",
      "┌───────────────┬──────────────┬──────────┬───────────────────┐\n",
      "│ 2019-07-26    ┆ count in doc ┆ positive ┆ count in all docs │\n",
      "│ ---           ┆ ---          ┆ ---      ┆ ---               │\n",
      "│ str           ┆ u32          ┆ bool     ┆ i64               │\n",
      "╞═══════════════╪══════════════╪══════════╪═══════════════════╡\n",
      "│ dismissing    ┆ 2            ┆ false    ┆ 54                │\n",
      "│ sluggish      ┆ 2            ┆ false    ┆ 8                 │\n",
      "│ restructuring ┆ 70           ┆ false    ┆ 145               │\n",
      "│ intentional   ┆ 2            ┆ false    ┆ 20                │\n",
      "│ allegations   ┆ 10           ┆ false    ┆ 129               │\n",
      "│ …             ┆ …            ┆ …        ┆ …                 │\n",
      "│ benefited     ┆ 4            ┆ true     ┆ 74                │\n",
      "│ alliances     ┆ 6            ┆ true     ┆ 38                │\n",
      "│ enable        ┆ 14           ┆ true     ┆ 149               │\n",
      "│ innovator     ┆ 2            ┆ true     ┆ 25                │\n",
      "│ positive      ┆ 2            ┆ true     ┆ 155               │\n",
      "└───────────────┴──────────────┴──────────┴───────────────────┘\n"
     ]
    }
   ],
   "source": [
    "res_df = total_occurence_count(example_series, df_dict)\n",
    "print(res_df)"
   ]
  },
  {
   "cell_type": "code",
   "execution_count": 252,
   "metadata": {},
   "outputs": [
    {
     "data": {
      "text/html": [
       "<div><style>\n",
       ".dataframe > thead > tr,\n",
       ".dataframe > tbody > tr {\n",
       "  text-align: right;\n",
       "  white-space: pre-wrap;\n",
       "}\n",
       "</style>\n",
       "<small>shape: (237, 5)</small><table border=\"1\" class=\"dataframe\"><thead><tr><th>2019-07-26</th><th>count in doc</th><th>positive</th><th>count in all docs</th><th>literal</th></tr><tr><td>str</td><td>u32</td><td>bool</td><td>i64</td><td>f64</td></tr></thead><tbody><tr><td>&quot;dismissing&quot;</td><td>2</td><td>false</td><td>54</td><td>1.778652</td></tr><tr><td>&quot;sluggish&quot;</td><td>2</td><td>false</td><td>8</td><td>3.803408</td></tr><tr><td>&quot;restructuring&quot;</td><td>70</td><td>false</td><td>145</td><td>0.944751</td></tr><tr><td>&quot;intentional&quot;</td><td>2</td><td>false</td><td>20</td><td>2.831832</td></tr><tr><td>&quot;allegations&quot;</td><td>10</td><td>false</td><td>129</td><td>0.968284</td></tr><tr><td>&hellip;</td><td>&hellip;</td><td>&hellip;</td><td>&hellip;</td><td>&hellip;</td></tr><tr><td>&quot;benefited&quot;</td><td>4</td><td>true</td><td>74</td><td>1.526759</td></tr><tr><td>&quot;alliances&quot;</td><td>6</td><td>true</td><td>38</td><td>2.345269</td></tr><tr><td>&quot;enable&quot;</td><td>14</td><td>true</td><td>149</td><td>0.814665</td></tr><tr><td>&quot;innovator&quot;</td><td>2</td><td>true</td><td>25</td><td>2.595225</td></tr><tr><td>&quot;positive&quot;</td><td>2</td><td>true</td><td>155</td><td>0.660591</td></tr></tbody></table></div>"
      ],
      "text/plain": [
       "shape: (237, 5)\n",
       "┌───────────────┬──────────────┬──────────┬───────────────────┬──────────┐\n",
       "│ 2019-07-26    ┆ count in doc ┆ positive ┆ count in all docs ┆ literal  │\n",
       "│ ---           ┆ ---          ┆ ---      ┆ ---               ┆ ---      │\n",
       "│ str           ┆ u32          ┆ bool     ┆ i64               ┆ f64      │\n",
       "╞═══════════════╪══════════════╪══════════╪═══════════════════╪══════════╡\n",
       "│ dismissing    ┆ 2            ┆ false    ┆ 54                ┆ 1.778652 │\n",
       "│ sluggish      ┆ 2            ┆ false    ┆ 8                 ┆ 3.803408 │\n",
       "│ restructuring ┆ 70           ┆ false    ┆ 145               ┆ 0.944751 │\n",
       "│ intentional   ┆ 2            ┆ false    ┆ 20                ┆ 2.831832 │\n",
       "│ allegations   ┆ 10           ┆ false    ┆ 129               ┆ 0.968284 │\n",
       "│ …             ┆ …            ┆ …        ┆ …                 ┆ …        │\n",
       "│ benefited     ┆ 4            ┆ true     ┆ 74                ┆ 1.526759 │\n",
       "│ alliances     ┆ 6            ┆ true     ┆ 38                ┆ 2.345269 │\n",
       "│ enable        ┆ 14           ┆ true     ┆ 149               ┆ 0.814665 │\n",
       "│ innovator     ┆ 2            ┆ true     ┆ 25                ┆ 2.595225 │\n",
       "│ positive      ┆ 2            ┆ true     ┆ 155               ┆ 0.660591 │\n",
       "└───────────────┴──────────────┴──────────┴───────────────────┴──────────┘"
      ]
     },
     "execution_count": 252,
     "metadata": {},
     "output_type": "execute_result"
    }
   ],
   "source": [
    "ln_average_word_count = math.log(average_word_count)\n",
    "res_df = res_df.with_columns((1 + (pl.col(res_df.columns[1]).log())/(1 + ln_average_word_count))*((total_num_of_rep/pl.col(res_df.columns[3])).log()).alias(\"fff\"))\n",
    "#res_df = res_df.with_columns((1 + (pl.col(res_df.columns[1]).log())/(1 + ln_average_word_count))*((total_num_of_rep/pl.col(res_df.columns[3])).log()).alias(\"gg\"))\n",
    "res_df\n",
    "#interim = res_df.filter(pl.col('positive') == True)\n",
    "#interim.select(pl.col())"
   ]
  },
  {
   "cell_type": "code",
   "execution_count": 167,
   "metadata": {},
   "outputs": [
    {
     "name": "stdout",
     "output_type": "stream",
     "text": [
      "shape: (237,)\n",
      "Series: '2019-07-26' [str]\n",
      "[\n",
      "\t\"defending\"\n",
      "\t\"sluggish\"\n",
      "\t\"declines\"\n",
      "\t\"claims\"\n",
      "\t\"interfere\"\n",
      "\t…\n",
      "\t\"able\"\n",
      "\t\"leading\"\n",
      "\t\"enabled\"\n",
      "\t\"best\"\n",
      "\t\"achieve\"\n",
      "]\n",
      "shape: (237,)\n",
      "Series: '2019-07-26' [i64]\n",
      "[\n",
      "\t97\n",
      "\t8\n",
      "\t156\n",
      "\t245\n",
      "\t18\n",
      "\t…\n",
      "\t192\n",
      "\t148\n",
      "\t48\n",
      "\t180\n",
      "\t162\n",
      "]\n"
     ]
    }
   ],
   "source": [
    "check_series = check[check.columns[0]]\n",
    "print(check_series)\n",
    "\n",
    "counts = check_series.map_elements(lambda x: in_all_doc_occurence(x, df_dict))\n",
    "\n",
    "print(counts)"
   ]
  },
  {
   "cell_type": "markdown",
   "metadata": {},
   "source": [
    "General loop that iterates over dfs and over it columns"
   ]
  },
  {
   "cell_type": "code",
   "execution_count": 172,
   "metadata": {},
   "outputs": [
    {
     "name": "stdout",
     "output_type": "stream",
     "text": [
      "(30175,)\n",
      "(30175,)\n",
      "(30175,)\n",
      "(30175,)\n",
      "(30175,)\n",
      "(30175,)\n",
      "(30175,)\n",
      "(30175,)\n",
      "(30175,)\n",
      "(30175,)\n",
      "(30175,)\n",
      "(30175,)\n",
      "(30175,)\n",
      "(30175,)\n",
      "(30175,)\n",
      "(15261,)\n",
      "(15261,)\n",
      "(15261,)\n",
      "(15261,)\n",
      "(15261,)\n",
      "(15261,)\n",
      "(15261,)\n",
      "(15261,)\n",
      "(15261,)\n"
     ]
    },
    {
     "ename": "PanicException",
     "evalue": "python function failed KeyboardInterrupt: ",
     "output_type": "error",
     "traceback": [
      "\u001b[1;31m---------------------------------------------------------------------------\u001b[0m",
      "\u001b[1;31mPanicException\u001b[0m                            Traceback (most recent call last)",
      "File \u001b[1;32mc:\\Users\\310\\Desktop\\Progects_Py\\env\\Lib\\site-packages\\polars\\expr\\expr.py:4049\u001b[0m, in \u001b[0;36mExpr._map_batches_wrapper.__call__\u001b[1;34m(self, *args, **kwargs)\u001b[0m\n\u001b[0;32m   4048\u001b[0m \u001b[38;5;28;01mdef\u001b[39;00m \u001b[38;5;21m__call__\u001b[39m(\u001b[38;5;28mself\u001b[39m, \u001b[38;5;241m*\u001b[39margs: Any, \u001b[38;5;241m*\u001b[39m\u001b[38;5;241m*\u001b[39mkwargs: Any) \u001b[38;5;241m-\u001b[39m\u001b[38;5;241m>\u001b[39m Any:\n\u001b[1;32m-> 4049\u001b[0m     result \u001b[38;5;241m=\u001b[39m \u001b[38;5;28;43mself\u001b[39;49m\u001b[38;5;241;43m.\u001b[39;49m\u001b[43mfunction\u001b[49m\u001b[43m(\u001b[49m\u001b[38;5;241;43m*\u001b[39;49m\u001b[43margs\u001b[49m\u001b[43m,\u001b[49m\u001b[43m \u001b[49m\u001b[38;5;241;43m*\u001b[39;49m\u001b[38;5;241;43m*\u001b[39;49m\u001b[43mkwargs\u001b[49m\u001b[43m)\u001b[49m\n\u001b[0;32m   4050\u001b[0m     \u001b[38;5;28;01mif\u001b[39;00m _check_for_numpy(result) \u001b[38;5;129;01mand\u001b[39;00m \u001b[38;5;28misinstance\u001b[39m(result, np\u001b[38;5;241m.\u001b[39mndarray):\n\u001b[0;32m   4051\u001b[0m         result \u001b[38;5;241m=\u001b[39m pl\u001b[38;5;241m.\u001b[39mSeries(result, dtype\u001b[38;5;241m=\u001b[39m\u001b[38;5;28mself\u001b[39m\u001b[38;5;241m.\u001b[39mreturn_dtype)\n",
      "File \u001b[1;32mc:\\Users\\310\\Desktop\\Progects_Py\\env\\Lib\\site-packages\\polars\\expr\\expr.py:4384\u001b[0m, in \u001b[0;36mExpr.map_elements.<locals>.wrap_f\u001b[1;34m(x)\u001b[0m\n\u001b[0;32m   4382\u001b[0m \u001b[38;5;28;01mwith\u001b[39;00m warnings\u001b[38;5;241m.\u001b[39mcatch_warnings():\n\u001b[0;32m   4383\u001b[0m     warnings\u001b[38;5;241m.\u001b[39msimplefilter(\u001b[38;5;124m\"\u001b[39m\u001b[38;5;124mignore\u001b[39m\u001b[38;5;124m\"\u001b[39m, PolarsInefficientMapWarning)\n\u001b[1;32m-> 4384\u001b[0m     \u001b[38;5;28;01mreturn\u001b[39;00m \u001b[43mx\u001b[49m\u001b[38;5;241;43m.\u001b[39;49m\u001b[43mmap_elements\u001b[49m\u001b[43m(\u001b[49m\n\u001b[0;32m   4385\u001b[0m \u001b[43m        \u001b[49m\u001b[43mfunction\u001b[49m\u001b[43m,\u001b[49m\u001b[43m \u001b[49m\u001b[43mreturn_dtype\u001b[49m\u001b[38;5;241;43m=\u001b[39;49m\u001b[43mreturn_dtype\u001b[49m\u001b[43m,\u001b[49m\u001b[43m \u001b[49m\u001b[43mskip_nulls\u001b[49m\u001b[38;5;241;43m=\u001b[39;49m\u001b[43mskip_nulls\u001b[49m\n\u001b[0;32m   4386\u001b[0m \u001b[43m    \u001b[49m\u001b[43m)\u001b[49m\n",
      "File \u001b[1;32mc:\\Users\\310\\Desktop\\Progects_Py\\env\\Lib\\site-packages\\polars\\series\\series.py:5301\u001b[0m, in \u001b[0;36mSeries.map_elements\u001b[1;34m(self, function, return_dtype, skip_nulls)\u001b[0m\n\u001b[0;32m   5297\u001b[0m     pl_return_dtype \u001b[38;5;241m=\u001b[39m py_type_to_dtype(return_dtype)\n\u001b[0;32m   5299\u001b[0m warn_on_inefficient_map(function, columns\u001b[38;5;241m=\u001b[39m[\u001b[38;5;28mself\u001b[39m\u001b[38;5;241m.\u001b[39mname], map_target\u001b[38;5;241m=\u001b[39m\u001b[38;5;124m\"\u001b[39m\u001b[38;5;124mseries\u001b[39m\u001b[38;5;124m\"\u001b[39m)\n\u001b[0;32m   5300\u001b[0m \u001b[38;5;28;01mreturn\u001b[39;00m \u001b[38;5;28mself\u001b[39m\u001b[38;5;241m.\u001b[39m_from_pyseries(\n\u001b[1;32m-> 5301\u001b[0m     \u001b[38;5;28;43mself\u001b[39;49m\u001b[38;5;241;43m.\u001b[39;49m\u001b[43m_s\u001b[49m\u001b[38;5;241;43m.\u001b[39;49m\u001b[43mapply_lambda\u001b[49m\u001b[43m(\u001b[49m\u001b[43mfunction\u001b[49m\u001b[43m,\u001b[49m\u001b[43m \u001b[49m\u001b[43mpl_return_dtype\u001b[49m\u001b[43m,\u001b[49m\u001b[43m \u001b[49m\u001b[43mskip_nulls\u001b[49m\u001b[43m)\u001b[49m\n\u001b[0;32m   5302\u001b[0m )\n",
      "\u001b[1;31mPanicException\u001b[0m: python function failed KeyboardInterrupt: "
     ]
    },
    {
     "ename": "PanicException",
     "evalue": "python function failed KeyboardInterrupt: ",
     "output_type": "error",
     "traceback": [
      "\u001b[1;31m---------------------------------------------------------------------------\u001b[0m",
      "\u001b[1;31mPanicException\u001b[0m                            Traceback (most recent call last)",
      "Cell \u001b[1;32mIn[172], line 3\u001b[0m\n\u001b[0;32m      1\u001b[0m \u001b[38;5;28;01mfor\u001b[39;00m df \u001b[38;5;129;01min\u001b[39;00m df_dict\u001b[38;5;241m.\u001b[39mvalues():\n\u001b[0;32m      2\u001b[0m     \u001b[38;5;28;01mfor\u001b[39;00m col \u001b[38;5;129;01min\u001b[39;00m df:\n\u001b[1;32m----> 3\u001b[0m         \u001b[43mtotal_occurence_count\u001b[49m\u001b[43m(\u001b[49m\u001b[43mcol\u001b[49m\u001b[43m,\u001b[49m\u001b[43m \u001b[49m\u001b[43mdf_dict\u001b[49m\u001b[43m)\u001b[49m\n\u001b[0;32m      4\u001b[0m         \u001b[38;5;28mprint\u001b[39m(col\u001b[38;5;241m.\u001b[39mshape)\n",
      "Cell \u001b[1;32mIn[165], line 4\u001b[0m, in \u001b[0;36mtotal_occurence_count\u001b[1;34m(df_series, df_dict)\u001b[0m\n\u001b[0;32m      1\u001b[0m \u001b[38;5;28;01mdef\u001b[39;00m \u001b[38;5;21mtotal_occurence_count\u001b[39m(df_series, df_dict):\n\u001b[0;32m      2\u001b[0m    check \u001b[38;5;241m=\u001b[39m count_sentiment_w_in_doc(df_series)\u001b[38;5;241m.\u001b[39mlazy()\n\u001b[1;32m----> 4\u001b[0m    counts \u001b[38;5;241m=\u001b[39m \u001b[43mcheck\u001b[49m\u001b[38;5;241;43m.\u001b[39;49m\u001b[43mwith_columns\u001b[49m\u001b[43m(\u001b[49m\u001b[43mpl\u001b[49m\u001b[38;5;241;43m.\u001b[39;49m\u001b[43mcol\u001b[49m\u001b[43m(\u001b[49m\u001b[43mcheck\u001b[49m\u001b[38;5;241;43m.\u001b[39;49m\u001b[43mcolumns\u001b[49m\u001b[43m[\u001b[49m\u001b[38;5;241;43m0\u001b[39;49m\u001b[43m]\u001b[49m\u001b[43m)\u001b[49m\u001b[38;5;241;43m.\u001b[39;49m\u001b[43mmap_elements\u001b[49m\u001b[43m(\u001b[49m\u001b[38;5;28;43;01mlambda\u001b[39;49;00m\u001b[43m \u001b[49m\u001b[43mx\u001b[49m\u001b[43m:\u001b[49m\u001b[43m \u001b[49m\u001b[43min_all_doc_occurence\u001b[49m\u001b[43m(\u001b[49m\u001b[43mx\u001b[49m\u001b[43m,\u001b[49m\u001b[43m \u001b[49m\u001b[43mdf_dict\u001b[49m\u001b[43m)\u001b[49m\u001b[43m)\u001b[49m\u001b[38;5;241;43m.\u001b[39;49m\u001b[43malias\u001b[49m\u001b[43m(\u001b[49m\u001b[38;5;124;43m\"\u001b[39;49m\u001b[38;5;124;43mcount in all docs\u001b[39;49m\u001b[38;5;124;43m\"\u001b[39;49m\u001b[43m)\u001b[49m\u001b[43m)\u001b[49m\u001b[38;5;241;43m.\u001b[39;49m\u001b[43mcollect\u001b[49m\u001b[43m(\u001b[49m\u001b[43m)\u001b[49m\n\u001b[0;32m      5\u001b[0m    \u001b[38;5;28;01mreturn\u001b[39;00m counts\n",
      "File \u001b[1;32mc:\\Users\\310\\Desktop\\Progects_Py\\env\\Lib\\site-packages\\polars\\lazyframe\\frame.py:1939\u001b[0m, in \u001b[0;36mLazyFrame.collect\u001b[1;34m(self, type_coercion, predicate_pushdown, projection_pushdown, simplify_expression, slice_pushdown, comm_subplan_elim, comm_subexpr_elim, no_optimization, streaming, background, _eager)\u001b[0m\n\u001b[0;32m   1936\u001b[0m \u001b[38;5;28;01mif\u001b[39;00m background:\n\u001b[0;32m   1937\u001b[0m     \u001b[38;5;28;01mreturn\u001b[39;00m InProcessQuery(ldf\u001b[38;5;241m.\u001b[39mcollect_concurrently())\n\u001b[1;32m-> 1939\u001b[0m \u001b[38;5;28;01mreturn\u001b[39;00m wrap_df(ldf\u001b[38;5;241m.\u001b[39mcollect())\n",
      "\u001b[1;31mPanicException\u001b[0m: python function failed KeyboardInterrupt: "
     ]
    }
   ],
   "source": [
    "for df in df_dict.values():\n",
    "    for col in df:\n",
    "        total_occurence_count(col, df_dict)\n",
    "        "
   ]
  }
 ],
 "metadata": {
  "kernelspec": {
   "display_name": "env",
   "language": "python",
   "name": "python3"
  },
  "language_info": {
   "codemirror_mode": {
    "name": "ipython",
    "version": 3
   },
   "file_extension": ".py",
   "mimetype": "text/x-python",
   "name": "python",
   "nbconvert_exporter": "python",
   "pygments_lexer": "ipython3",
   "version": "3.11.5"
  }
 },
 "nbformat": 4,
 "nbformat_minor": 2
}
