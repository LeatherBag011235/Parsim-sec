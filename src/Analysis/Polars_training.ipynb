{
 "cells": [
  {
   "cell_type": "code",
   "execution_count": 2,
   "metadata": {},
   "outputs": [],
   "source": [
    "import polars as pl\n",
    "import polars.selectors as cs\n",
    "import numpy as np\n",
    "from datetime import datetime"
   ]
  },
  {
   "cell_type": "code",
   "execution_count": 4,
   "metadata": {},
   "outputs": [
    {
     "name": "stdout",
     "output_type": "stream",
     "text": [
      "shape: (3, 4)\n",
      "┌─────────┬─────────────────────┬───────┬────────┐\n",
      "│ integer ┆ date                ┆ float ┆ string │\n",
      "│ ---     ┆ ---                 ┆ ---   ┆ ---    │\n",
      "│ i64     ┆ datetime[μs]        ┆ f64   ┆ str    │\n",
      "╞═════════╪═════════════════════╪═══════╪════════╡\n",
      "│ 1       ┆ 2025-01-01 00:00:00 ┆ 4.0   ┆ a      │\n",
      "│ 2       ┆ 2025-01-02 00:00:00 ┆ 5.0   ┆ b      │\n",
      "│ 3       ┆ 2025-01-03 00:00:00 ┆ 6.0   ┆ c      │\n",
      "└─────────┴─────────────────────┴───────┴────────┘\n"
     ]
    }
   ],
   "source": [
    "df = pl.DataFrame(\n",
    "    {\n",
    "        \"integer\": [1, 2, 3],\n",
    "        \"date\": [\n",
    "            datetime(2025, 1, 1),\n",
    "            datetime(2025, 1, 2),\n",
    "            datetime(2025, 1, 3),\n",
    "        ],\n",
    "        \"float\": [4.0, 5.0, 6.0],\n",
    "        \"string\": [\"a\", \"b\", \"c\"],\n",
    "    }\n",
    ")\n",
    "\n",
    "print(df)"
   ]
  },
  {
   "cell_type": "code",
   "execution_count": 11,
   "metadata": {},
   "outputs": [
    {
     "data": {
      "text/html": [
       "<div><style>\n",
       ".dataframe > thead > tr,\n",
       ".dataframe > tbody > tr {\n",
       "  text-align: right;\n",
       "  white-space: pre-wrap;\n",
       "}\n",
       "</style>\n",
       "<small>shape: (3, 2)</small><table border=\"1\" class=\"dataframe\"><thead><tr><th>date</th><th>integer</th></tr><tr><td>datetime[μs]</td><td>i64</td></tr></thead><tbody><tr><td>2025-01-03 00:00:00</td><td>6</td></tr><tr><td>2025-01-02 00:00:00</td><td>6</td></tr><tr><td>2025-01-01 00:00:00</td><td>6</td></tr></tbody></table></div>"
      ],
      "text/plain": [
       "shape: (3, 2)\n",
       "┌─────────────────────┬─────────┐\n",
       "│ date                ┆ integer │\n",
       "│ ---                 ┆ ---     │\n",
       "│ datetime[μs]        ┆ i64     │\n",
       "╞═════════════════════╪═════════╡\n",
       "│ 2025-01-03 00:00:00 ┆ 6       │\n",
       "│ 2025-01-02 00:00:00 ┆ 6       │\n",
       "│ 2025-01-01 00:00:00 ┆ 6       │\n",
       "└─────────────────────┴─────────┘"
      ]
     },
     "execution_count": 11,
     "metadata": {},
     "output_type": "execute_result"
    }
   ],
   "source": [
    "df.select(pl.col(\"date\").sort(descending=True), pl.col(\"integer\").sum())"
   ]
  },
  {
   "cell_type": "code",
   "execution_count": 74,
   "metadata": {},
   "outputs": [
    {
     "name": "stdout",
     "output_type": "stream",
     "text": [
      "shape: (5, 4)\n",
      "┌──────┬───────┬──────────┬────────┐\n",
      "│ nrs  ┆ names ┆ random   ┆ groups │\n",
      "│ ---  ┆ ---   ┆ ---      ┆ ---    │\n",
      "│ i64  ┆ str   ┆ f64      ┆ str    │\n",
      "╞══════╪═══════╪══════════╪════════╡\n",
      "│ 1    ┆ foo   ┆ 0.418254 ┆ A      │\n",
      "│ 2    ┆ ham   ┆ 0.382234 ┆ A      │\n",
      "│ 3    ┆ spam  ┆ 0.164418 ┆ B      │\n",
      "│ null ┆ egg   ┆ 0.064461 ┆ C      │\n",
      "│ 5    ┆ null  ┆ 0.975669 ┆ B      │\n",
      "└──────┴───────┴──────────┴────────┘\n"
     ]
    }
   ],
   "source": [
    "df = pl.DataFrame(\n",
    "    {\n",
    "        \"nrs\": [1, 2, 3, None, 5],\n",
    "        \"names\": [\"foo\", \"ham\", \"spam\", \"egg\", None],\n",
    "        \"random\": np.random.rand(5),\n",
    "        \"groups\": [\"A\", \"A\", \"B\", \"C\", \"B\"],\n",
    "    }\n",
    ")\n",
    "print(df)"
   ]
  },
  {
   "cell_type": "code",
   "execution_count": 62,
   "metadata": {},
   "outputs": [
    {
     "data": {
      "text/html": [
       "<div><style>\n",
       ".dataframe > thead > tr,\n",
       ".dataframe > tbody > tr {\n",
       "  text-align: right;\n",
       "  white-space: pre-wrap;\n",
       "}\n",
       "</style>\n",
       "<small>shape: (1, 1)</small><table border=\"1\" class=\"dataframe\"><thead><tr><th>groups</th></tr><tr><td>u32</td></tr></thead><tbody><tr><td>2</td></tr></tbody></table></div>"
      ],
      "text/plain": [
       "shape: (1, 1)\n",
       "┌────────┐\n",
       "│ groups │\n",
       "│ ---    │\n",
       "│ u32    │\n",
       "╞════════╡\n",
       "│ 2      │\n",
       "└────────┘"
      ]
     },
     "execution_count": 62,
     "metadata": {},
     "output_type": "execute_result"
    }
   ],
   "source": [
    "df.select((pl.col(\"groups\") == \"A\").sum())"
   ]
  },
  {
   "cell_type": "code",
   "execution_count": 64,
   "metadata": {},
   "outputs": [
    {
     "data": {
      "text/html": [
       "<div><style>\n",
       ".dataframe > thead > tr,\n",
       ".dataframe > tbody > tr {\n",
       "  text-align: right;\n",
       "  white-space: pre-wrap;\n",
       "}\n",
       "</style>\n",
       "<small>shape: (1, 4)</small><table border=\"1\" class=\"dataframe\"><thead><tr><th>nrs</th><th>names</th><th>random</th><th>groups</th></tr><tr><td>u32</td><td>u32</td><td>u32</td><td>u32</td></tr></thead><tbody><tr><td>5</td><td>5</td><td>5</td><td>3</td></tr></tbody></table></div>"
      ],
      "text/plain": [
       "shape: (1, 4)\n",
       "┌─────┬───────┬────────┬────────┐\n",
       "│ nrs ┆ names ┆ random ┆ groups │\n",
       "│ --- ┆ ---   ┆ ---    ┆ ---    │\n",
       "│ u32 ┆ u32   ┆ u32    ┆ u32    │\n",
       "╞═════╪═══════╪════════╪════════╡\n",
       "│ 5   ┆ 5     ┆ 5      ┆ 3      │\n",
       "└─────┴───────┴────────┴────────┘"
      ]
     },
     "execution_count": 64,
     "metadata": {},
     "output_type": "execute_result"
    }
   ],
   "source": [
    "df.select(pl.all().approx_n_unique())"
   ]
  },
  {
   "cell_type": "code",
   "execution_count": 67,
   "metadata": {},
   "outputs": [
    {
     "data": {
      "text/html": [
       "<div><style>\n",
       ".dataframe > thead > tr,\n",
       ".dataframe > tbody > tr {\n",
       "  text-align: right;\n",
       "  white-space: pre-wrap;\n",
       "}\n",
       "</style>\n",
       "<small>shape: (5, 2)</small><table border=\"1\" class=\"dataframe\"><thead><tr><th>random</th><th>literal</th></tr><tr><td>f64</td><td>bool</td></tr></thead><tbody><tr><td>0.597688</td><td>false</td></tr><tr><td>0.903967</td><td>true</td></tr><tr><td>0.950718</td><td>true</td></tr><tr><td>0.839258</td><td>false</td></tr><tr><td>0.39649</td><td>true</td></tr></tbody></table></div>"
      ],
      "text/plain": [
       "shape: (5, 2)\n",
       "┌──────────┬─────────┐\n",
       "│ random   ┆ literal │\n",
       "│ ---      ┆ ---     │\n",
       "│ f64      ┆ bool    │\n",
       "╞══════════╪═════════╡\n",
       "│ 0.597688 ┆ false   │\n",
       "│ 0.903967 ┆ true    │\n",
       "│ 0.950718 ┆ true    │\n",
       "│ 0.839258 ┆ false   │\n",
       "│ 0.39649  ┆ true    │\n",
       "└──────────┴─────────┘"
      ]
     },
     "execution_count": 67,
     "metadata": {},
     "output_type": "execute_result"
    }
   ],
   "source": [
    "df.select(pl.col(\"random\"), pl.when(pl.col(\"nrs\") > 1).then(pl.lit(True)).otherwise(pl.lit(False)))"
   ]
  },
  {
   "cell_type": "code",
   "execution_count": 71,
   "metadata": {},
   "outputs": [
    {
     "ename": "ColumnNotFoundError",
     "evalue": "name\n\nError originated just after this operation:\nDF [\"nrs\", \"names\", \"random\", \"groups\"]; PROJECT */4 COLUMNS; SELECTION: \"None\"",
     "output_type": "error",
     "traceback": [
      "\u001b[1;31m---------------------------------------------------------------------------\u001b[0m",
      "\u001b[1;31mColumnNotFoundError\u001b[0m                       Traceback (most recent call last)",
      "Cell \u001b[1;32mIn[71], line 1\u001b[0m\n\u001b[1;32m----> 1\u001b[0m \u001b[43mdf\u001b[49m\u001b[38;5;241;43m.\u001b[39;49m\u001b[43mselect\u001b[49m\u001b[43m(\u001b[49m\u001b[43mpl\u001b[49m\u001b[38;5;241;43m.\u001b[39;49m\u001b[43mcol\u001b[49m\u001b[43m(\u001b[49m\u001b[38;5;124;43m\"\u001b[39;49m\u001b[38;5;124;43mname\u001b[39;49m\u001b[38;5;124;43m\"\u001b[39;49m\u001b[43m)\u001b[49m\u001b[38;5;241;43m.\u001b[39;49m\u001b[43mcast\u001b[49m\u001b[43m(\u001b[49m\u001b[43mpl\u001b[49m\u001b[38;5;241;43m.\u001b[39;49m\u001b[43mBoolean\u001b[49m\u001b[43m)\u001b[49m\u001b[43m)\u001b[49m\n",
      "File \u001b[1;32mc:\\Users\\310\\Desktop\\Progects_Py\\env\\Lib\\site-packages\\polars\\dataframe\\frame.py:8128\u001b[0m, in \u001b[0;36mDataFrame.select\u001b[1;34m(self, *exprs, **named_exprs)\u001b[0m\n\u001b[0;32m   8028\u001b[0m \u001b[38;5;28;01mdef\u001b[39;00m \u001b[38;5;21mselect\u001b[39m(\n\u001b[0;32m   8029\u001b[0m     \u001b[38;5;28mself\u001b[39m, \u001b[38;5;241m*\u001b[39mexprs: IntoExpr \u001b[38;5;241m|\u001b[39m Iterable[IntoExpr], \u001b[38;5;241m*\u001b[39m\u001b[38;5;241m*\u001b[39mnamed_exprs: IntoExpr\n\u001b[0;32m   8030\u001b[0m ) \u001b[38;5;241m-\u001b[39m\u001b[38;5;241m>\u001b[39m DataFrame:\n\u001b[0;32m   8031\u001b[0m \u001b[38;5;250m    \u001b[39m\u001b[38;5;124;03m\"\"\"\u001b[39;00m\n\u001b[0;32m   8032\u001b[0m \u001b[38;5;124;03m    Select columns from this DataFrame.\u001b[39;00m\n\u001b[0;32m   8033\u001b[0m \n\u001b[1;32m   (...)\u001b[0m\n\u001b[0;32m   8126\u001b[0m \u001b[38;5;124;03m    └───────────┘\u001b[39;00m\n\u001b[0;32m   8127\u001b[0m \u001b[38;5;124;03m    \"\"\"\u001b[39;00m\n\u001b[1;32m-> 8128\u001b[0m     \u001b[38;5;28;01mreturn\u001b[39;00m \u001b[38;5;28;43mself\u001b[39;49m\u001b[38;5;241;43m.\u001b[39;49m\u001b[43mlazy\u001b[49m\u001b[43m(\u001b[49m\u001b[43m)\u001b[49m\u001b[38;5;241;43m.\u001b[39;49m\u001b[43mselect\u001b[49m\u001b[43m(\u001b[49m\u001b[38;5;241;43m*\u001b[39;49m\u001b[43mexprs\u001b[49m\u001b[43m,\u001b[49m\u001b[43m \u001b[49m\u001b[38;5;241;43m*\u001b[39;49m\u001b[38;5;241;43m*\u001b[39;49m\u001b[43mnamed_exprs\u001b[49m\u001b[43m)\u001b[49m\u001b[38;5;241;43m.\u001b[39;49m\u001b[43mcollect\u001b[49m\u001b[43m(\u001b[49m\u001b[43m_eager\u001b[49m\u001b[38;5;241;43m=\u001b[39;49m\u001b[38;5;28;43;01mTrue\u001b[39;49;00m\u001b[43m)\u001b[49m\n",
      "File \u001b[1;32mc:\\Users\\310\\Desktop\\Progects_Py\\env\\Lib\\site-packages\\polars\\lazyframe\\frame.py:1939\u001b[0m, in \u001b[0;36mLazyFrame.collect\u001b[1;34m(self, type_coercion, predicate_pushdown, projection_pushdown, simplify_expression, slice_pushdown, comm_subplan_elim, comm_subexpr_elim, no_optimization, streaming, background, _eager)\u001b[0m\n\u001b[0;32m   1936\u001b[0m \u001b[38;5;28;01mif\u001b[39;00m background:\n\u001b[0;32m   1937\u001b[0m     \u001b[38;5;28;01mreturn\u001b[39;00m InProcessQuery(ldf\u001b[38;5;241m.\u001b[39mcollect_concurrently())\n\u001b[1;32m-> 1939\u001b[0m \u001b[38;5;28;01mreturn\u001b[39;00m wrap_df(ldf\u001b[38;5;241m.\u001b[39mcollect())\n",
      "\u001b[1;31mColumnNotFoundError\u001b[0m: name\n\nError originated just after this operation:\nDF [\"nrs\", \"names\", \"random\", \"groups\"]; PROJECT */4 COLUMNS; SELECTION: \"None\""
     ]
    }
   ],
   "source": [
    "df.select(pl.col(\"name\").cast(pl.Boolean))"
   ]
  },
  {
   "cell_type": "code",
   "execution_count": 76,
   "metadata": {},
   "outputs": [
    {
     "data": {
      "text/html": [
       "<div><style>\n",
       ".dataframe > thead > tr,\n",
       ".dataframe > tbody > tr {\n",
       "  text-align: right;\n",
       "  white-space: pre-wrap;\n",
       "}\n",
       "</style>\n",
       "<small>shape: (5, 4)</small><table border=\"1\" class=\"dataframe\"><thead><tr><th>nrs</th><th>names</th><th>random</th><th>groups</th></tr><tr><td>i64</td><td>str</td><td>f64</td><td>str</td></tr></thead><tbody><tr><td>1</td><td>&quot;foo&quot;</td><td>0.418254</td><td>&quot;A&quot;</td></tr><tr><td>2</td><td>&quot;ham&quot;</td><td>0.382234</td><td>&quot;A&quot;</td></tr><tr><td>3</td><td>&quot;spam&quot;</td><td>0.164418</td><td>&quot;B&quot;</td></tr><tr><td>null</td><td>&quot;egg&quot;</td><td>0.064461</td><td>&quot;C&quot;</td></tr><tr><td>5</td><td>null</td><td>0.975669</td><td>&quot;B&quot;</td></tr></tbody></table></div>"
      ],
      "text/plain": [
       "shape: (5, 4)\n",
       "┌──────┬───────┬──────────┬────────┐\n",
       "│ nrs  ┆ names ┆ random   ┆ groups │\n",
       "│ ---  ┆ ---   ┆ ---      ┆ ---    │\n",
       "│ i64  ┆ str   ┆ f64      ┆ str    │\n",
       "╞══════╪═══════╪══════════╪════════╡\n",
       "│ 1    ┆ foo   ┆ 0.418254 ┆ A      │\n",
       "│ 2    ┆ ham   ┆ 0.382234 ┆ A      │\n",
       "│ 3    ┆ spam  ┆ 0.164418 ┆ B      │\n",
       "│ null ┆ egg   ┆ 0.064461 ┆ C      │\n",
       "│ 5    ┆ null  ┆ 0.975669 ┆ B      │\n",
       "└──────┴───────┴──────────┴────────┘"
      ]
     },
     "execution_count": 76,
     "metadata": {},
     "output_type": "execute_result"
    }
   ],
   "source": [
    "df"
   ]
  },
  {
   "cell_type": "code",
   "execution_count": 77,
   "metadata": {},
   "outputs": [
    {
     "data": {
      "text/html": [
       "<div><style>\n",
       ".dataframe > thead > tr,\n",
       ".dataframe > tbody > tr {\n",
       "  text-align: right;\n",
       "  white-space: pre-wrap;\n",
       "}\n",
       "</style>\n",
       "<small>shape: (5, 1)</small><table border=\"1\" class=\"dataframe\"><thead><tr><th>names</th></tr><tr><td>u32</td></tr></thead><tbody><tr><td>3</td></tr><tr><td>3</td></tr><tr><td>4</td></tr><tr><td>3</td></tr><tr><td>null</td></tr></tbody></table></div>"
      ],
      "text/plain": [
       "shape: (5, 1)\n",
       "┌───────┐\n",
       "│ names │\n",
       "│ ---   │\n",
       "│ u32   │\n",
       "╞═══════╡\n",
       "│ 3     │\n",
       "│ 3     │\n",
       "│ 4     │\n",
       "│ 3     │\n",
       "│ null  │\n",
       "└───────┘"
      ]
     },
     "execution_count": 77,
     "metadata": {},
     "output_type": "execute_result"
    }
   ],
   "source": [
    "df.select(pl.col(\"names\").str.len_bytes())\n",
    "df.select(pl.col(\"names\").str.len_chars())"
   ]
  },
  {
   "cell_type": "code",
   "execution_count": 81,
   "metadata": {},
   "outputs": [
    {
     "data": {
      "text/html": [
       "<div><style>\n",
       ".dataframe > thead > tr,\n",
       ".dataframe > tbody > tr {\n",
       "  text-align: right;\n",
       "  white-space: pre-wrap;\n",
       "}\n",
       "</style>\n",
       "<small>shape: (5, 1)</small><table border=\"1\" class=\"dataframe\"><thead><tr><th>names</th></tr><tr><td>bool</td></tr></thead><tbody><tr><td>false</td></tr><tr><td>true</td></tr><tr><td>true</td></tr><tr><td>false</td></tr><tr><td>null</td></tr></tbody></table></div>"
      ],
      "text/plain": [
       "shape: (5, 1)\n",
       "┌───────┐\n",
       "│ names │\n",
       "│ ---   │\n",
       "│ bool  │\n",
       "╞═══════╡\n",
       "│ false │\n",
       "│ true  │\n",
       "│ true  │\n",
       "│ false │\n",
       "│ null  │\n",
       "└───────┘"
      ]
     },
     "execution_count": 81,
     "metadata": {},
     "output_type": "execute_result"
    }
   ],
   "source": [
    "df.select(pl.col(\"names\").str.contains(\"am\"))"
   ]
  },
  {
   "cell_type": "code",
   "execution_count": 11,
   "metadata": {},
   "outputs": [],
   "source": [
    "url = \"https://theunitedstates.io/congress-legislators/legislators-historical.csv\"\n",
    "\n",
    "dtypes = {\n",
    "    \"first_name\": pl.Categorical,\n",
    "    \"gender\": pl.Categorical,\n",
    "    \"type\": pl.Categorical,\n",
    "    \"state\": pl.Categorical,\n",
    "    \"party\": pl.Categorical,\n",
    "}\n",
    "\n",
    "dataset = pl.read_csv(url, dtypes=dtypes).with_columns(\n",
    "    pl.col(\"birthday\").str.to_date(strict=False)\n",
    ")"
   ]
  },
  {
   "cell_type": "code",
   "execution_count": 83,
   "metadata": {},
   "outputs": [
    {
     "data": {
      "text/html": [
       "<div><style>\n",
       ".dataframe > thead > tr,\n",
       ".dataframe > tbody > tr {\n",
       "  text-align: right;\n",
       "  white-space: pre-wrap;\n",
       "}\n",
       "</style>\n",
       "<small>shape: (12_142, 36)</small><table border=\"1\" class=\"dataframe\"><thead><tr><th>last_name</th><th>first_name</th><th>middle_name</th><th>suffix</th><th>nickname</th><th>full_name</th><th>birthday</th><th>gender</th><th>type</th><th>state</th><th>district</th><th>senate_class</th><th>party</th><th>url</th><th>address</th><th>phone</th><th>contact_form</th><th>rss_url</th><th>twitter</th><th>twitter_id</th><th>facebook</th><th>youtube</th><th>youtube_id</th><th>mastodon</th><th>bioguide_id</th><th>thomas_id</th><th>opensecrets_id</th><th>lis_id</th><th>fec_ids</th><th>cspan_id</th><th>govtrack_id</th><th>votesmart_id</th><th>ballotpedia_id</th><th>washington_post_id</th><th>icpsr_id</th><th>wikipedia_id</th></tr><tr><td>str</td><td>cat</td><td>str</td><td>str</td><td>str</td><td>str</td><td>date</td><td>cat</td><td>cat</td><td>cat</td><td>i64</td><td>i64</td><td>cat</td><td>str</td><td>str</td><td>str</td><td>str</td><td>str</td><td>str</td><td>str</td><td>str</td><td>str</td><td>str</td><td>str</td><td>str</td><td>str</td><td>str</td><td>str</td><td>str</td><td>str</td><td>i64</td><td>str</td><td>str</td><td>str</td><td>i64</td><td>str</td></tr></thead><tbody><tr><td>&quot;Bassett&quot;</td><td>&quot;Richard&quot;</td><td>null</td><td>null</td><td>null</td><td>null</td><td>1745-04-02</td><td>&quot;M&quot;</td><td>&quot;sen&quot;</td><td>&quot;DE&quot;</td><td>null</td><td>2</td><td>&quot;Anti-Administr…</td><td>null</td><td>null</td><td>null</td><td>null</td><td>null</td><td>null</td><td>null</td><td>null</td><td>null</td><td>null</td><td>null</td><td>&quot;B000226&quot;</td><td>null</td><td>null</td><td>null</td><td>null</td><td>null</td><td>401222</td><td>null</td><td>null</td><td>null</td><td>507</td><td>&quot;Richard Basset…</td></tr><tr><td>&quot;Bland&quot;</td><td>&quot;Theodorick&quot;</td><td>null</td><td>null</td><td>null</td><td>null</td><td>1742-03-21</td><td>&quot;M&quot;</td><td>&quot;rep&quot;</td><td>&quot;VA&quot;</td><td>9</td><td>null</td><td>null</td><td>null</td><td>null</td><td>null</td><td>null</td><td>null</td><td>null</td><td>null</td><td>null</td><td>null</td><td>null</td><td>null</td><td>&quot;B000546&quot;</td><td>null</td><td>null</td><td>null</td><td>null</td><td>null</td><td>401521</td><td>null</td><td>null</td><td>null</td><td>786</td><td>&quot;Theodorick Bla…</td></tr><tr><td>&quot;Burke&quot;</td><td>&quot;Aedanus&quot;</td><td>null</td><td>null</td><td>null</td><td>null</td><td>1743-06-16</td><td>&quot;M&quot;</td><td>&quot;rep&quot;</td><td>&quot;SC&quot;</td><td>2</td><td>null</td><td>null</td><td>null</td><td>null</td><td>null</td><td>null</td><td>null</td><td>null</td><td>null</td><td>null</td><td>null</td><td>null</td><td>null</td><td>&quot;B001086&quot;</td><td>null</td><td>null</td><td>null</td><td>null</td><td>null</td><td>402032</td><td>null</td><td>null</td><td>null</td><td>1260</td><td>&quot;Aedanus Burke&quot;</td></tr><tr><td>&quot;Carroll&quot;</td><td>&quot;Daniel&quot;</td><td>null</td><td>null</td><td>null</td><td>null</td><td>1730-07-22</td><td>&quot;M&quot;</td><td>&quot;rep&quot;</td><td>&quot;MD&quot;</td><td>6</td><td>null</td><td>null</td><td>null</td><td>null</td><td>null</td><td>null</td><td>null</td><td>null</td><td>null</td><td>null</td><td>null</td><td>null</td><td>null</td><td>&quot;C000187&quot;</td><td>null</td><td>null</td><td>null</td><td>null</td><td>null</td><td>402334</td><td>null</td><td>null</td><td>null</td><td>1538</td><td>&quot;Daniel Carroll…</td></tr><tr><td>&quot;Clymer&quot;</td><td>&quot;George&quot;</td><td>null</td><td>null</td><td>null</td><td>null</td><td>1739-03-16</td><td>&quot;M&quot;</td><td>&quot;rep&quot;</td><td>&quot;PA&quot;</td><td>-1</td><td>null</td><td>null</td><td>null</td><td>null</td><td>null</td><td>null</td><td>null</td><td>null</td><td>null</td><td>null</td><td>null</td><td>null</td><td>null</td><td>&quot;C000538&quot;</td><td>null</td><td>null</td><td>null</td><td>null</td><td>null</td><td>402671</td><td>null</td><td>null</td><td>null</td><td>1859</td><td>&quot;George Clymer&quot;</td></tr><tr><td>&hellip;</td><td>&hellip;</td><td>&hellip;</td><td>&hellip;</td><td>&hellip;</td><td>&hellip;</td><td>&hellip;</td><td>&hellip;</td><td>&hellip;</td><td>&hellip;</td><td>&hellip;</td><td>&hellip;</td><td>&hellip;</td><td>&hellip;</td><td>&hellip;</td><td>&hellip;</td><td>&hellip;</td><td>&hellip;</td><td>&hellip;</td><td>&hellip;</td><td>&hellip;</td><td>&hellip;</td><td>&hellip;</td><td>&hellip;</td><td>&hellip;</td><td>&hellip;</td><td>&hellip;</td><td>&hellip;</td><td>&hellip;</td><td>&hellip;</td><td>&hellip;</td><td>&hellip;</td><td>&hellip;</td><td>&hellip;</td><td>&hellip;</td><td>&hellip;</td></tr><tr><td>&quot;Stewart&quot;</td><td>&quot;Chris&quot;</td><td>null</td><td>null</td><td>null</td><td>&quot;Chris Stewart&quot;</td><td>1960-07-15</td><td>&quot;M&quot;</td><td>&quot;rep&quot;</td><td>&quot;UT&quot;</td><td>2</td><td>null</td><td>&quot;Republican&quot;</td><td>&quot;https://stewar…</td><td>&quot;166 Cannon Hou…</td><td>&quot;202-225-9730&quot;</td><td>null</td><td>&quot;http://stewart…</td><td>null</td><td>null</td><td>null</td><td>null</td><td>null</td><td>null</td><td>&quot;S001192&quot;</td><td>&quot;02168&quot;</td><td>&quot;N00033932&quot;</td><td>null</td><td>&quot;H2UT02324&quot;</td><td>&quot;68466&quot;</td><td>412581</td><td>&quot;135930&quot;</td><td>&quot;Chris Stewart&quot;</td><td>null</td><td>21367</td><td>&quot;Chris Stewart …</td></tr><tr><td>&quot;Santos&quot;</td><td>&quot;George&quot;</td><td>&quot;Anthony Devold…</td><td>null</td><td>null</td><td>&quot;George Santos&quot;</td><td>1988-07-22</td><td>&quot;M&quot;</td><td>&quot;rep&quot;</td><td>&quot;NY&quot;</td><td>3</td><td>null</td><td>&quot;Republican&quot;</td><td>&quot;https://santos…</td><td>&quot;1117 Longworth…</td><td>&quot;202-225-3335&quot;</td><td>null</td><td>null</td><td>null</td><td>null</td><td>null</td><td>null</td><td>null</td><td>null</td><td>&quot;S001222&quot;</td><td>null</td><td>null</td><td>null</td><td>&quot;H0NY03083&quot;</td><td>null</td><td>456921</td><td>&quot;191234&quot;</td><td>&quot;George Devolde…</td><td>null</td><td>null</td><td>&quot;George Santos&quot;</td></tr><tr><td>&quot;McCarthy&quot;</td><td>&quot;Kevin&quot;</td><td>null</td><td>null</td><td>null</td><td>&quot;Kevin McCarthy…</td><td>1965-01-26</td><td>&quot;M&quot;</td><td>&quot;rep&quot;</td><td>&quot;CA&quot;</td><td>20</td><td>null</td><td>&quot;Republican&quot;</td><td>&quot;https://kevinm…</td><td>&quot;2468 Rayburn H…</td><td>&quot;202-225-2915&quot;</td><td>null</td><td>&quot;http://kevinmc…</td><td>null</td><td>null</td><td>null</td><td>null</td><td>null</td><td>null</td><td>&quot;M001165&quot;</td><td>&quot;01833&quot;</td><td>&quot;N00028152&quot;</td><td>null</td><td>&quot;H6CA22125&quot;</td><td>&quot;85231&quot;</td><td>412190</td><td>&quot;28918&quot;</td><td>&quot;Kevin McCarthy…</td><td>null</td><td>20703</td><td>&quot;Kevin McCarthy…</td></tr><tr><td>&quot;Johnson&quot;</td><td>&quot;Bill&quot;</td><td>null</td><td>null</td><td>null</td><td>&quot;Bill Johnson&quot;</td><td>1954-11-10</td><td>&quot;M&quot;</td><td>&quot;rep&quot;</td><td>&quot;OH&quot;</td><td>6</td><td>null</td><td>&quot;Republican&quot;</td><td>&quot;https://billjo…</td><td>&quot;2082 Rayburn H…</td><td>&quot;202-225-5705&quot;</td><td>null</td><td>&quot;http://billjoh…</td><td>null</td><td>null</td><td>null</td><td>null</td><td>null</td><td>null</td><td>&quot;J000292&quot;</td><td>&quot;02046&quot;</td><td>&quot;N00032088&quot;</td><td>null</td><td>&quot;H0OH06189&quot;</td><td>&quot;623472&quot;</td><td>412460</td><td>&quot;120649&quot;</td><td>&quot;Bill Johnson (…</td><td>null</td><td>21162</td><td>&quot;Bill Johnson (…</td></tr><tr><td>&quot;Higgins&quot;</td><td>&quot;Brian&quot;</td><td>&quot;M.&quot;</td><td>null</td><td>null</td><td>&quot;Brian Higgins&quot;</td><td>1959-10-06</td><td>&quot;M&quot;</td><td>&quot;rep&quot;</td><td>&quot;NY&quot;</td><td>26</td><td>null</td><td>&quot;Democrat&quot;</td><td>&quot;https://higgin…</td><td>&quot;2269 Rayburn H…</td><td>&quot;202-225-3306&quot;</td><td>null</td><td>&quot;http://higgins…</td><td>null</td><td>null</td><td>null</td><td>null</td><td>null</td><td>null</td><td>&quot;H001038&quot;</td><td>&quot;01794&quot;</td><td>&quot;N00027060&quot;</td><td>null</td><td>&quot;H4NY27076&quot;</td><td>&quot;1013050&quot;</td><td>400641</td><td>&quot;23127&quot;</td><td>&quot;Brian Higgins&quot;</td><td>null</td><td>20519</td><td>&quot;Brian Higgins&quot;</td></tr></tbody></table></div>"
      ],
      "text/plain": [
       "shape: (12_142, 36)\n",
       "┌───────────┬────────────┬────────────┬────────┬───┬────────────┬───────────┬──────────┬───────────┐\n",
       "│ last_name ┆ first_name ┆ middle_nam ┆ suffix ┆ … ┆ ballotpedi ┆ washingto ┆ icpsr_id ┆ wikipedia │\n",
       "│ ---       ┆ ---        ┆ e          ┆ ---    ┆   ┆ a_id       ┆ n_post_id ┆ ---      ┆ _id       │\n",
       "│ str       ┆ cat        ┆ ---        ┆ str    ┆   ┆ ---        ┆ ---       ┆ i64      ┆ ---       │\n",
       "│           ┆            ┆ str        ┆        ┆   ┆ str        ┆ str       ┆          ┆ str       │\n",
       "╞═══════════╪════════════╪════════════╪════════╪═══╪════════════╪═══════════╪══════════╪═══════════╡\n",
       "│ Bassett   ┆ Richard    ┆ null       ┆ null   ┆ … ┆ null       ┆ null      ┆ 507      ┆ Richard   │\n",
       "│           ┆            ┆            ┆        ┆   ┆            ┆           ┆          ┆ Bassett   │\n",
       "│           ┆            ┆            ┆        ┆   ┆            ┆           ┆          ┆ (Delaware │\n",
       "│           ┆            ┆            ┆        ┆   ┆            ┆           ┆          ┆ politi…   │\n",
       "│ Bland     ┆ Theodorick ┆ null       ┆ null   ┆ … ┆ null       ┆ null      ┆ 786      ┆ Theodoric │\n",
       "│           ┆            ┆            ┆        ┆   ┆            ┆           ┆          ┆ k Bland   │\n",
       "│           ┆            ┆            ┆        ┆   ┆            ┆           ┆          ┆ (congress │\n",
       "│           ┆            ┆            ┆        ┆   ┆            ┆           ┆          ┆ man)      │\n",
       "│ Burke     ┆ Aedanus    ┆ null       ┆ null   ┆ … ┆ null       ┆ null      ┆ 1260     ┆ Aedanus   │\n",
       "│           ┆            ┆            ┆        ┆   ┆            ┆           ┆          ┆ Burke     │\n",
       "│ Carroll   ┆ Daniel     ┆ null       ┆ null   ┆ … ┆ null       ┆ null      ┆ 1538     ┆ Daniel    │\n",
       "│           ┆            ┆            ┆        ┆   ┆            ┆           ┆          ┆ Carroll   │\n",
       "│ Clymer    ┆ George     ┆ null       ┆ null   ┆ … ┆ null       ┆ null      ┆ 1859     ┆ George    │\n",
       "│           ┆            ┆            ┆        ┆   ┆            ┆           ┆          ┆ Clymer    │\n",
       "│ …         ┆ …          ┆ …          ┆ …      ┆ … ┆ …          ┆ …         ┆ …        ┆ …         │\n",
       "│ Stewart   ┆ Chris      ┆ null       ┆ null   ┆ … ┆ Chris      ┆ null      ┆ 21367    ┆ Chris     │\n",
       "│           ┆            ┆            ┆        ┆   ┆ Stewart    ┆           ┆          ┆ Stewart   │\n",
       "│           ┆            ┆            ┆        ┆   ┆            ┆           ┆          ┆ (politici │\n",
       "│           ┆            ┆            ┆        ┆   ┆            ┆           ┆          ┆ an)       │\n",
       "│ Santos    ┆ George     ┆ Anthony    ┆ null   ┆ … ┆ George Dev ┆ null      ┆ null     ┆ George    │\n",
       "│           ┆            ┆ Devolder   ┆        ┆   ┆ older-Sant ┆           ┆          ┆ Santos    │\n",
       "│           ┆            ┆            ┆        ┆   ┆ os         ┆           ┆          ┆           │\n",
       "│ McCarthy  ┆ Kevin      ┆ null       ┆ null   ┆ … ┆ Kevin      ┆ null      ┆ 20703    ┆ Kevin     │\n",
       "│           ┆            ┆            ┆        ┆   ┆ McCarthy   ┆           ┆          ┆ McCarthy  │\n",
       "│           ┆            ┆            ┆        ┆   ┆ (Californi ┆           ┆          ┆           │\n",
       "│           ┆            ┆            ┆        ┆   ┆ a)         ┆           ┆          ┆           │\n",
       "│ Johnson   ┆ Bill       ┆ null       ┆ null   ┆ … ┆ Bill       ┆ null      ┆ 21162    ┆ Bill      │\n",
       "│           ┆            ┆            ┆        ┆   ┆ Johnson    ┆           ┆          ┆ Johnson   │\n",
       "│           ┆            ┆            ┆        ┆   ┆ (Ohio)     ┆           ┆          ┆ (Ohio pol │\n",
       "│           ┆            ┆            ┆        ┆   ┆            ┆           ┆          ┆ itician)  │\n",
       "│ Higgins   ┆ Brian      ┆ M.         ┆ null   ┆ … ┆ Brian      ┆ null      ┆ 20519    ┆ Brian     │\n",
       "│           ┆            ┆            ┆        ┆   ┆ Higgins    ┆           ┆          ┆ Higgins   │\n",
       "└───────────┴────────────┴────────────┴────────┴───┴────────────┴───────────┴──────────┴───────────┘"
      ]
     },
     "execution_count": 83,
     "metadata": {},
     "output_type": "execute_result"
    }
   ],
   "source": [
    "dataset\n"
   ]
  },
  {
   "cell_type": "code",
   "execution_count": 19,
   "metadata": {},
   "outputs": [
    {
     "ename": "ImportError",
     "evalue": "Graphviz dot binary should be on your PATH",
     "output_type": "error",
     "traceback": [
      "\u001b[1;31m---------------------------------------------------------------------------\u001b[0m",
      "\u001b[1;31mImportError\u001b[0m                               Traceback (most recent call last)",
      "Cell \u001b[1;32mIn[19], line 4\u001b[0m\n\u001b[0;32m      1\u001b[0m q \u001b[38;5;241m=\u001b[39m \u001b[43mdataset\u001b[49m\u001b[38;5;241;43m.\u001b[39;49m\u001b[43mlazy\u001b[49m\u001b[43m(\u001b[49m\u001b[43m)\u001b[49m\u001b[38;5;241;43m.\u001b[39;49m\u001b[43mgroup_by\u001b[49m\u001b[43m(\u001b[49m\u001b[38;5;124;43m\"\u001b[39;49m\u001b[38;5;124;43mfirst_name\u001b[39;49m\u001b[38;5;124;43m\"\u001b[39;49m\u001b[43m)\u001b[49m\u001b[38;5;241;43m.\u001b[39;49m\u001b[43magg\u001b[49m\u001b[43m(\u001b[49m\u001b[43mpl\u001b[49m\u001b[38;5;241;43m.\u001b[39;49m\u001b[43mlen\u001b[49m\u001b[43m(\u001b[49m\u001b[43m)\u001b[49m\u001b[43m,\u001b[49m\n\u001b[0;32m      2\u001b[0m \u001b[43m                                   \u001b[49m\u001b[43mpl\u001b[49m\u001b[38;5;241;43m.\u001b[39;49m\u001b[43mcol\u001b[49m\u001b[43m(\u001b[49m\u001b[38;5;124;43m\"\u001b[39;49m\u001b[38;5;124;43mgender\u001b[39;49m\u001b[38;5;124;43m\"\u001b[39;49m\u001b[43m)\u001b[49m\u001b[43m,\u001b[49m\n\u001b[0;32m      3\u001b[0m \u001b[43m                                   \u001b[49m\u001b[43mpl\u001b[49m\u001b[38;5;241;43m.\u001b[39;49m\u001b[43mfirst\u001b[49m\u001b[43m(\u001b[49m\u001b[38;5;124;43m\"\u001b[39;49m\u001b[38;5;124;43mlast_name\u001b[39;49m\u001b[38;5;124;43m\"\u001b[39;49m\u001b[43m)\u001b[49m\n\u001b[1;32m----> 4\u001b[0m \u001b[43m                                   \u001b[49m\u001b[43m)\u001b[49m\u001b[38;5;241;43m.\u001b[39;49m\u001b[43msort\u001b[49m\u001b[43m(\u001b[49m\u001b[38;5;124;43m\"\u001b[39;49m\u001b[38;5;124;43mlen\u001b[39;49m\u001b[38;5;124;43m\"\u001b[39;49m\u001b[43m,\u001b[49m\u001b[43m \u001b[49m\u001b[43mdescending\u001b[49m\u001b[38;5;241;43m=\u001b[39;49m\u001b[38;5;28;43;01mTrue\u001b[39;49;00m\u001b[43m)\u001b[49m\u001b[38;5;241;43m.\u001b[39;49m\u001b[43mlimit\u001b[49m\u001b[43m(\u001b[49m\u001b[38;5;241;43m5\u001b[39;49m\u001b[43m)\u001b[49m\u001b[38;5;241;43m.\u001b[39;49m\u001b[43mshow_graph\u001b[49m\u001b[43m(\u001b[49m\u001b[43moptimized\u001b[49m\u001b[38;5;241;43m=\u001b[39;49m\u001b[38;5;28;43;01mFalse\u001b[39;49;00m\u001b[43m)\u001b[49m\n\u001b[0;32m      6\u001b[0m \u001b[38;5;66;03m#q.explain(optimized=True)\u001b[39;00m\n",
      "File \u001b[1;32mc:\\Users\\310\\Desktop\\Progects_Py\\env\\Lib\\site-packages\\polars\\lazyframe\\frame.py:1300\u001b[0m, in \u001b[0;36mLazyFrame.show_graph\u001b[1;34m(self, optimized, show, output_path, raw_output, figsize, type_coercion, predicate_pushdown, projection_pushdown, simplify_expression, slice_pushdown, comm_subplan_elim, comm_subexpr_elim, streaming)\u001b[0m\n\u001b[0;32m   1298\u001b[0m \u001b[38;5;28;01mexcept\u001b[39;00m (\u001b[38;5;167;01mImportError\u001b[39;00m, \u001b[38;5;167;01mFileNotFoundError\u001b[39;00m):\n\u001b[0;32m   1299\u001b[0m     msg \u001b[38;5;241m=\u001b[39m \u001b[38;5;124m\"\u001b[39m\u001b[38;5;124mGraphviz dot binary should be on your PATH\u001b[39m\u001b[38;5;124m\"\u001b[39m\n\u001b[1;32m-> 1300\u001b[0m     \u001b[38;5;28;01mraise\u001b[39;00m \u001b[38;5;167;01mImportError\u001b[39;00m(msg) \u001b[38;5;28;01mfrom\u001b[39;00m \u001b[38;5;28;01mNone\u001b[39;00m\n\u001b[0;32m   1302\u001b[0m \u001b[38;5;28;01mif\u001b[39;00m output_path:\n\u001b[0;32m   1303\u001b[0m     Path(output_path)\u001b[38;5;241m.\u001b[39mwrite_bytes(graph)\n",
      "\u001b[1;31mImportError\u001b[0m: Graphviz dot binary should be on your PATH"
     ]
    }
   ],
   "source": [
    "q = dataset.lazy().group_by(\"first_name\").agg(pl.len(),\n",
    "                                   pl.col(\"gender\"),\n",
    "                                   pl.first(\"last_name\")\n",
    "                                   ).sort(\"len\", descending=True).limit(5).show_graph(optimized=False)\n",
    "\n",
    "#q.explain(optimized=True)\n",
    "\n"
   ]
  },
  {
   "cell_type": "code",
   "execution_count": 17,
   "metadata": {},
   "outputs": [
    {
     "ename": "AttributeError",
     "evalue": "'DataFrame' object has no attribute 'show_graph'",
     "output_type": "error",
     "traceback": [
      "\u001b[1;31m---------------------------------------------------------------------------\u001b[0m",
      "\u001b[1;31mAttributeError\u001b[0m                            Traceback (most recent call last)",
      "Cell \u001b[1;32mIn[17], line 5\u001b[0m\n\u001b[0;32m      1\u001b[0m w \u001b[38;5;241m=\u001b[39m dataset\u001b[38;5;241m.\u001b[39mlazy()\u001b[38;5;241m.\u001b[39mgroup_by(\u001b[38;5;124m\"\u001b[39m\u001b[38;5;124mstate\u001b[39m\u001b[38;5;124m\"\u001b[39m)\u001b[38;5;241m.\u001b[39magg((pl\u001b[38;5;241m.\u001b[39mcol(\u001b[38;5;124m\"\u001b[39m\u001b[38;5;124mparty\u001b[39m\u001b[38;5;124m\"\u001b[39m) \u001b[38;5;241m==\u001b[39m \u001b[38;5;124m\"\u001b[39m\u001b[38;5;124mAnti-Administration\u001b[39m\u001b[38;5;124m\"\u001b[39m)\u001b[38;5;241m.\u001b[39msum()\u001b[38;5;241m.\u001b[39malias(\u001b[38;5;124m\"\u001b[39m\u001b[38;5;124mantigroup\u001b[39m\u001b[38;5;124m\"\u001b[39m),\n\u001b[0;32m      2\u001b[0m                                          (pl\u001b[38;5;241m.\u001b[39mcol(\u001b[38;5;124m\"\u001b[39m\u001b[38;5;124mparty\u001b[39m\u001b[38;5;124m\"\u001b[39m) \u001b[38;5;241m==\u001b[39m \u001b[38;5;124m\"\u001b[39m\u001b[38;5;124mPro-Administration\u001b[39m\u001b[38;5;124m\"\u001b[39m)\u001b[38;5;241m.\u001b[39msum()\u001b[38;5;241m.\u001b[39malias(\u001b[38;5;124m\"\u001b[39m\u001b[38;5;124mpro\u001b[39m\u001b[38;5;124m\"\u001b[39m))\u001b[38;5;241m.\u001b[39msort(\u001b[38;5;124m'\u001b[39m\u001b[38;5;124mstate\u001b[39m\u001b[38;5;124m'\u001b[39m)\u001b[38;5;241m.\u001b[39mcollect()\n\u001b[1;32m----> 5\u001b[0m \u001b[43mw\u001b[49m\u001b[38;5;241;43m.\u001b[39;49m\u001b[43mshow_graph\u001b[49m(optimized\u001b[38;5;241m=\u001b[39m\u001b[38;5;28;01mFalse\u001b[39;00m)\n",
      "\u001b[1;31mAttributeError\u001b[0m: 'DataFrame' object has no attribute 'show_graph'"
     ]
    }
   ],
   "source": [
    "w = dataset.lazy().group_by(\"state\").agg((pl.col(\"party\") == \"Anti-Administration\").sum().alias(\"antigroup\"),\n",
    "                                         (pl.col(\"party\") == \"Pro-Administration\").sum().alias(\"pro\")).sort('state').collect()\n",
    "\n"
   ]
  },
  {
   "cell_type": "code",
   "execution_count": 4,
   "metadata": {},
   "outputs": [
    {
     "name": "stdout",
     "output_type": "stream",
     "text": [
      "OrderedDict([('foo', String), ('bar', Int64)])\n"
     ]
    }
   ],
   "source": [
    "q3 = pl.DataFrame({\"foo\": [\"a\", \"b\", \"c\"], \"bar\": [0, 1, 2]}).lazy()\n",
    "\n",
    "print(q3.schema)"
   ]
  },
  {
   "cell_type": "code",
   "execution_count": 9,
   "metadata": {},
   "outputs": [
    {
     "ename": "InvalidOperationError",
     "evalue": "`round` operation not supported for dtype `i64`",
     "output_type": "error",
     "traceback": [
      "\u001b[1;31m---------------------------------------------------------------------------\u001b[0m",
      "\u001b[1;31mInvalidOperationError\u001b[0m                     Traceback (most recent call last)",
      "Cell \u001b[1;32mIn[9], line 8\u001b[0m\n\u001b[0;32m      1\u001b[0m q4 \u001b[38;5;241m=\u001b[39m (\n\u001b[0;32m      2\u001b[0m     pl\u001b[38;5;241m.\u001b[39mDataFrame({\u001b[38;5;124m\"\u001b[39m\u001b[38;5;124mfoo\u001b[39m\u001b[38;5;124m\"\u001b[39m: [\u001b[38;5;124m\"\u001b[39m\u001b[38;5;124ma\u001b[39m\u001b[38;5;124m\"\u001b[39m, \u001b[38;5;124m\"\u001b[39m\u001b[38;5;124mb\u001b[39m\u001b[38;5;124m\"\u001b[39m, \u001b[38;5;124m\"\u001b[39m\u001b[38;5;124mc\u001b[39m\u001b[38;5;124m\"\u001b[39m], \u001b[38;5;124m\"\u001b[39m\u001b[38;5;124mbar\u001b[39m\u001b[38;5;124m\"\u001b[39m: [\u001b[38;5;241m0\u001b[39m, \u001b[38;5;241m1\u001b[39m, \u001b[38;5;241m2\u001b[39m]})\n\u001b[0;32m      3\u001b[0m     \u001b[38;5;241m.\u001b[39mlazy()\n\u001b[0;32m      4\u001b[0m     \u001b[38;5;241m.\u001b[39mwith_columns(pl\u001b[38;5;241m.\u001b[39mcol(\u001b[38;5;124m\"\u001b[39m\u001b[38;5;124mbar\u001b[39m\u001b[38;5;124m\"\u001b[39m)\u001b[38;5;241m.\u001b[39mround(\u001b[38;5;241m0\u001b[39m))\n\u001b[0;32m      5\u001b[0m )\n\u001b[0;32m      6\u001b[0m q4\u001b[38;5;241m.\u001b[39mexplain(optimized\u001b[38;5;241m=\u001b[39m\u001b[38;5;28;01mTrue\u001b[39;00m)\n\u001b[1;32m----> 8\u001b[0m \u001b[43mq4\u001b[49m\u001b[38;5;241;43m.\u001b[39;49m\u001b[43mcollect\u001b[49m\u001b[43m(\u001b[49m\u001b[43m)\u001b[49m\n",
      "File \u001b[1;32mc:\\Users\\310\\Desktop\\Progects_Py\\env\\Lib\\site-packages\\polars\\lazyframe\\frame.py:1939\u001b[0m, in \u001b[0;36mLazyFrame.collect\u001b[1;34m(self, type_coercion, predicate_pushdown, projection_pushdown, simplify_expression, slice_pushdown, comm_subplan_elim, comm_subexpr_elim, no_optimization, streaming, background, _eager)\u001b[0m\n\u001b[0;32m   1936\u001b[0m \u001b[38;5;28;01mif\u001b[39;00m background:\n\u001b[0;32m   1937\u001b[0m     \u001b[38;5;28;01mreturn\u001b[39;00m InProcessQuery(ldf\u001b[38;5;241m.\u001b[39mcollect_concurrently())\n\u001b[1;32m-> 1939\u001b[0m \u001b[38;5;28;01mreturn\u001b[39;00m wrap_df(\u001b[43mldf\u001b[49m\u001b[38;5;241;43m.\u001b[39;49m\u001b[43mcollect\u001b[49m\u001b[43m(\u001b[49m\u001b[43m)\u001b[49m)\n",
      "\u001b[1;31mInvalidOperationError\u001b[0m: `round` operation not supported for dtype `i64`"
     ]
    }
   ],
   "source": [
    "q4 = (\n",
    "    pl.DataFrame({\"foo\": [\"a\", \"b\", \"c\"], \"bar\": [0, 1, 2]})\n",
    "    .lazy()\n",
    "    .with_columns(pl.col(\"bar\").round(0))\n",
    ")\n",
    "q4.explain(optimized=True)\n",
    "\n",
    "q4.collect()"
   ]
  },
  {
   "cell_type": "code",
   "execution_count": 21,
   "metadata": {},
   "outputs": [
    {
     "ename": "ImportError",
     "evalue": "Graphviz dot binary should be on your PATH",
     "output_type": "error",
     "traceback": [
      "\u001b[1;31m---------------------------------------------------------------------------\u001b[0m",
      "\u001b[1;31mImportError\u001b[0m                               Traceback (most recent call last)",
      "Cell \u001b[1;32mIn[21], line 10\u001b[0m\n\u001b[0;32m      1\u001b[0m lf \u001b[38;5;241m=\u001b[39m pl\u001b[38;5;241m.\u001b[39mLazyFrame(\n\u001b[0;32m      2\u001b[0m     {\n\u001b[0;32m      3\u001b[0m         \u001b[38;5;124m\"\u001b[39m\u001b[38;5;124ma\u001b[39m\u001b[38;5;124m\"\u001b[39m: [\u001b[38;5;124m\"\u001b[39m\u001b[38;5;124ma\u001b[39m\u001b[38;5;124m\"\u001b[39m, \u001b[38;5;124m\"\u001b[39m\u001b[38;5;124mb\u001b[39m\u001b[38;5;124m\"\u001b[39m, \u001b[38;5;124m\"\u001b[39m\u001b[38;5;124ma\u001b[39m\u001b[38;5;124m\"\u001b[39m, \u001b[38;5;124m\"\u001b[39m\u001b[38;5;124mb\u001b[39m\u001b[38;5;124m\"\u001b[39m, \u001b[38;5;124m\"\u001b[39m\u001b[38;5;124mb\u001b[39m\u001b[38;5;124m\"\u001b[39m, \u001b[38;5;124m\"\u001b[39m\u001b[38;5;124mc\u001b[39m\u001b[38;5;124m\"\u001b[39m],\n\u001b[1;32m   (...)\u001b[0m\n\u001b[0;32m      6\u001b[0m     }\n\u001b[0;32m      7\u001b[0m )\n\u001b[0;32m      8\u001b[0m \u001b[43mlf\u001b[49m\u001b[38;5;241;43m.\u001b[39;49m\u001b[43mgroup_by\u001b[49m\u001b[43m(\u001b[49m\u001b[38;5;124;43m\"\u001b[39;49m\u001b[38;5;124;43ma\u001b[39;49m\u001b[38;5;124;43m\"\u001b[39;49m\u001b[43m,\u001b[49m\u001b[43m \u001b[49m\u001b[43mmaintain_order\u001b[49m\u001b[38;5;241;43m=\u001b[39;49m\u001b[38;5;28;43;01mTrue\u001b[39;49;00m\u001b[43m)\u001b[49m\u001b[38;5;241;43m.\u001b[39;49m\u001b[43magg\u001b[49m\u001b[43m(\u001b[49m\u001b[43mpl\u001b[49m\u001b[38;5;241;43m.\u001b[39;49m\u001b[43mall\u001b[49m\u001b[43m(\u001b[49m\u001b[43m)\u001b[49m\u001b[38;5;241;43m.\u001b[39;49m\u001b[43msum\u001b[49m\u001b[43m(\u001b[49m\u001b[43m)\u001b[49m\u001b[43m)\u001b[49m\u001b[38;5;241;43m.\u001b[39;49m\u001b[43msort\u001b[49m\u001b[43m(\u001b[49m\n\u001b[0;32m      9\u001b[0m \u001b[43m    \u001b[49m\u001b[38;5;124;43m\"\u001b[39;49m\u001b[38;5;124;43ma\u001b[39;49m\u001b[38;5;124;43m\"\u001b[39;49m\n\u001b[1;32m---> 10\u001b[0m \u001b[43m)\u001b[49m\u001b[38;5;241;43m.\u001b[39;49m\u001b[43mshow_graph\u001b[49m\u001b[43m(\u001b[49m\u001b[43m)\u001b[49m  \n",
      "File \u001b[1;32mc:\\Users\\310\\Desktop\\Progects_Py\\env\\Lib\\site-packages\\polars\\lazyframe\\frame.py:1300\u001b[0m, in \u001b[0;36mLazyFrame.show_graph\u001b[1;34m(self, optimized, show, output_path, raw_output, figsize, type_coercion, predicate_pushdown, projection_pushdown, simplify_expression, slice_pushdown, comm_subplan_elim, comm_subexpr_elim, streaming)\u001b[0m\n\u001b[0;32m   1298\u001b[0m \u001b[38;5;28;01mexcept\u001b[39;00m (\u001b[38;5;167;01mImportError\u001b[39;00m, \u001b[38;5;167;01mFileNotFoundError\u001b[39;00m):\n\u001b[0;32m   1299\u001b[0m     msg \u001b[38;5;241m=\u001b[39m \u001b[38;5;124m\"\u001b[39m\u001b[38;5;124mGraphviz dot binary should be on your PATH\u001b[39m\u001b[38;5;124m\"\u001b[39m\n\u001b[1;32m-> 1300\u001b[0m     \u001b[38;5;28;01mraise\u001b[39;00m \u001b[38;5;167;01mImportError\u001b[39;00m(msg) \u001b[38;5;28;01mfrom\u001b[39;00m \u001b[38;5;28;01mNone\u001b[39;00m\n\u001b[0;32m   1302\u001b[0m \u001b[38;5;28;01mif\u001b[39;00m output_path:\n\u001b[0;32m   1303\u001b[0m     Path(output_path)\u001b[38;5;241m.\u001b[39mwrite_bytes(graph)\n",
      "\u001b[1;31mImportError\u001b[0m: Graphviz dot binary should be on your PATH"
     ]
    }
   ],
   "source": [
    "lf = pl.LazyFrame(\n",
    "    {\n",
    "        \"a\": [\"a\", \"b\", \"a\", \"b\", \"b\", \"c\"],\n",
    "        \"b\": [1, 2, 3, 4, 5, 6],\n",
    "        \"c\": [6, 5, 4, 3, 2, 1],\n",
    "    }\n",
    ")\n",
    "lf.group_by(\"a\", maintain_order=True).agg(pl.all().sum()).sort(\n",
    "    \"a\"\n",
    ").show_graph()  "
   ]
  }
 ],
 "metadata": {
  "kernelspec": {
   "display_name": "env",
   "language": "python",
   "name": "python3"
  },
  "language_info": {
   "codemirror_mode": {
    "name": "ipython",
    "version": 3
   },
   "file_extension": ".py",
   "mimetype": "text/x-python",
   "name": "python",
   "nbconvert_exporter": "python",
   "pygments_lexer": "ipython3",
   "version": "3.11.5"
  }
 },
 "nbformat": 4,
 "nbformat_minor": 2
}
